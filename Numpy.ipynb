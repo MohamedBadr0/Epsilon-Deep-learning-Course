{
  "nbformat": 4,
  "nbformat_minor": 0,
  "metadata": {
    "colab": {
      "name": " Numpy.ipynb",
      "provenance": [],
      "collapsed_sections": []
    },
    "kernelspec": {
      "display_name": "Tensorflow GPU",
      "language": "python",
      "name": "tensorflow"
    },
    "language_info": {
      "codemirror_mode": {
        "name": "ipython",
        "version": 3
      },
      "file_extension": ".py",
      "mimetype": "text/x-python",
      "name": "python",
      "nbconvert_exporter": "python",
      "pygments_lexer": "ipython3",
      "version": "3.7.6"
    }
  },
  "cells": [
    {
      "cell_type": "code",
      "metadata": {
        "id": "IApf7FDQZVHb"
      },
      "source": [
        "import numpy as np\n",
        "from pprint import pprint\n",
        "import matplotlib.pyplot as plt\n",
        "\n",
        "\n",
        "np.random.seed(7)"
      ],
      "execution_count": 1,
      "outputs": []
    },
    {
      "cell_type": "markdown",
      "metadata": {
        "id": "SV_Lc8I6iwYj"
      },
      "source": [
        "# Array vs List\n",
        "<img src=\"https://open4tech.com/wp-content/uploads/2019/03/array-linked-list.png\">"
      ]
    },
    {
      "cell_type": "code",
      "metadata": {
        "colab": {
          "base_uri": "https://localhost:8080/"
        },
        "id": "R4D3kKn7ZVHl",
        "outputId": "3bb1d9e7-8e00-4691-b695-2225a2ae6108"
      },
      "source": [
        "lst = list(range(100, 200))\n",
        "print(lst)"
      ],
      "execution_count": 2,
      "outputs": [
        {
          "output_type": "stream",
          "text": [
            "[100, 101, 102, 103, 104, 105, 106, 107, 108, 109, 110, 111, 112, 113, 114, 115, 116, 117, 118, 119, 120, 121, 122, 123, 124, 125, 126, 127, 128, 129, 130, 131, 132, 133, 134, 135, 136, 137, 138, 139, 140, 141, 142, 143, 144, 145, 146, 147, 148, 149, 150, 151, 152, 153, 154, 155, 156, 157, 158, 159, 160, 161, 162, 163, 164, 165, 166, 167, 168, 169, 170, 171, 172, 173, 174, 175, 176, 177, 178, 179, 180, 181, 182, 183, 184, 185, 186, 187, 188, 189, 190, 191, 192, 193, 194, 195, 196, 197, 198, 199]\n"
          ],
          "name": "stdout"
        }
      ]
    },
    {
      "cell_type": "markdown",
      "metadata": {
        "id": "2ZUNlRyxrZ4-"
      },
      "source": [
        "# Numpy Array\n",
        "<img src=\"https://fgnt.github.io/python_crashkurs_doc/_images/numpy_array_t.png\">"
      ]
    },
    {
      "cell_type": "markdown",
      "metadata": {
        "id": "vYmFiuGmAO9-"
      },
      "source": [
        "## numpy datatypes\n",
        "\n",
        "<img src=\"https://i0.wp.com/ajaytech.co/wp-content/uploads/2020/03/numpy-data-types.png?w=1103&ssl=1\">"
      ]
    },
    {
      "cell_type": "code",
      "metadata": {
        "colab": {
          "base_uri": "https://localhost:8080/"
        },
        "id": "IIQvWeBwRnO7",
        "outputId": "bd9724be-0ec7-4a42-ffc7-e57120dd54f7"
      },
      "source": [
        "np.array(lst)"
      ],
      "execution_count": 3,
      "outputs": [
        {
          "output_type": "execute_result",
          "data": {
            "text/plain": [
              "array([100, 101, 102, 103, 104, 105, 106, 107, 108, 109, 110, 111, 112,\n",
              "       113, 114, 115, 116, 117, 118, 119, 120, 121, 122, 123, 124, 125,\n",
              "       126, 127, 128, 129, 130, 131, 132, 133, 134, 135, 136, 137, 138,\n",
              "       139, 140, 141, 142, 143, 144, 145, 146, 147, 148, 149, 150, 151,\n",
              "       152, 153, 154, 155, 156, 157, 158, 159, 160, 161, 162, 163, 164,\n",
              "       165, 166, 167, 168, 169, 170, 171, 172, 173, 174, 175, 176, 177,\n",
              "       178, 179, 180, 181, 182, 183, 184, 185, 186, 187, 188, 189, 190,\n",
              "       191, 192, 193, 194, 195, 196, 197, 198, 199])"
            ]
          },
          "metadata": {
            "tags": []
          },
          "execution_count": 3
        }
      ]
    },
    {
      "cell_type": "code",
      "metadata": {
        "colab": {
          "base_uri": "https://localhost:8080/"
        },
        "id": "aCTOTI7URhPm",
        "outputId": "f6d543d6-7dd3-4474-9bb3-b260ffaf8049"
      },
      "source": [
        "np.array(lst).ravel()"
      ],
      "execution_count": null,
      "outputs": [
        {
          "output_type": "execute_result",
          "data": {
            "text/plain": [
              "array([100, 101, 102, 103, 104, 105, 106, 107, 108, 109, 110, 111, 112,\n",
              "       113, 114, 115, 116, 117, 118, 119, 120, 121, 122, 123, 124, 125,\n",
              "       126, 127, 128, 129, 130, 131, 132, 133, 134, 135, 136, 137, 138,\n",
              "       139, 140, 141, 142, 143, 144, 145, 146, 147, 148, 149, 150, 151,\n",
              "       152, 153, 154, 155, 156, 157, 158, 159, 160, 161, 162, 163, 164,\n",
              "       165, 166, 167, 168, 169, 170, 171, 172, 173, 174, 175, 176, 177,\n",
              "       178, 179, 180, 181, 182, 183, 184, 185, 186, 187, 188, 189, 190,\n",
              "       191, 192, 193, 194, 195, 196, 197, 198, 199])"
            ]
          },
          "metadata": {
            "tags": []
          },
          "execution_count": 5
        }
      ]
    },
    {
      "cell_type": "code",
      "metadata": {
        "colab": {
          "base_uri": "https://localhost:8080/"
        },
        "id": "jMQbihlvZVHm",
        "outputId": "47eceee7-f422-48d3-de9c-43aad8f9ca53"
      },
      "source": [
        "num_data = np.array(lst)\n",
        "num_data = num_data.ravel()\n",
        "\n",
        "pprint(num_data)\n",
        "print(\"\\n\"*3)\n",
        "print(\"array shape: \", num_data.shape)\n",
        "print(\"array datatype: \", num_data.dtype)"
      ],
      "execution_count": 4,
      "outputs": [
        {
          "output_type": "stream",
          "text": [
            "array([100, 101, 102, 103, 104, 105, 106, 107, 108, 109, 110, 111, 112,\n",
            "       113, 114, 115, 116, 117, 118, 119, 120, 121, 122, 123, 124, 125,\n",
            "       126, 127, 128, 129, 130, 131, 132, 133, 134, 135, 136, 137, 138,\n",
            "       139, 140, 141, 142, 143, 144, 145, 146, 147, 148, 149, 150, 151,\n",
            "       152, 153, 154, 155, 156, 157, 158, 159, 160, 161, 162, 163, 164,\n",
            "       165, 166, 167, 168, 169, 170, 171, 172, 173, 174, 175, 176, 177,\n",
            "       178, 179, 180, 181, 182, 183, 184, 185, 186, 187, 188, 189, 190,\n",
            "       191, 192, 193, 194, 195, 196, 197, 198, 199])\n",
            "\n",
            "\n",
            "\n",
            "\n",
            "array shape:  (100,)\n",
            "array datatype:  int64\n"
          ],
          "name": "stdout"
        }
      ]
    },
    {
      "cell_type": "markdown",
      "metadata": {
        "id": "6aGH906mS4LO"
      },
      "source": [
        "## statistics ops"
      ]
    },
    {
      "cell_type": "code",
      "metadata": {
        "colab": {
          "base_uri": "https://localhost:8080/"
        },
        "id": "zowU176EZVHp",
        "outputId": "288204d2-5049-4713-8c5c-ae28f134734b"
      },
      "source": [
        "np.sum(num_data)"
      ],
      "execution_count": 5,
      "outputs": [
        {
          "output_type": "execute_result",
          "data": {
            "text/plain": [
              "14950"
            ]
          },
          "metadata": {
            "tags": []
          },
          "execution_count": 5
        }
      ]
    },
    {
      "cell_type": "code",
      "metadata": {
        "colab": {
          "base_uri": "https://localhost:8080/"
        },
        "id": "G2SQYE1rUSZ-",
        "outputId": "7c15cba7-3a3e-496d-9a48-6e1b7f1d5a4a"
      },
      "source": [
        "np.std(num_data)"
      ],
      "execution_count": 21,
      "outputs": [
        {
          "output_type": "execute_result",
          "data": {
            "text/plain": [
              "28.86607004772212"
            ]
          },
          "metadata": {
            "tags": []
          },
          "execution_count": 21
        }
      ]
    },
    {
      "cell_type": "code",
      "metadata": {
        "colab": {
          "base_uri": "https://localhost:8080/"
        },
        "id": "72DHGgU0ZVHq",
        "outputId": "93a33381-8861-41e9-ad9c-065249c66925"
      },
      "source": [
        "np.max(num_data)"
      ],
      "execution_count": 7,
      "outputs": [
        {
          "output_type": "execute_result",
          "data": {
            "text/plain": [
              "199"
            ]
          },
          "metadata": {
            "tags": []
          },
          "execution_count": 7
        }
      ]
    },
    {
      "cell_type": "code",
      "metadata": {
        "colab": {
          "base_uri": "https://localhost:8080/"
        },
        "id": "LJmS_MLlZVHr",
        "outputId": "40659a51-d1f8-4d0d-ba7b-d50c477af10d"
      },
      "source": [
        "np.min(num_data)"
      ],
      "execution_count": 8,
      "outputs": [
        {
          "output_type": "execute_result",
          "data": {
            "text/plain": [
              "100"
            ]
          },
          "metadata": {
            "tags": []
          },
          "execution_count": 8
        }
      ]
    },
    {
      "cell_type": "code",
      "metadata": {
        "colab": {
          "base_uri": "https://localhost:8080/"
        },
        "id": "hxusSXBwZVHt",
        "outputId": "3ae0e17c-6c2b-459a-b830-1474251e9f12"
      },
      "source": [
        "np.mean(num_data)"
      ],
      "execution_count": 9,
      "outputs": [
        {
          "output_type": "execute_result",
          "data": {
            "text/plain": [
              "149.5"
            ]
          },
          "metadata": {
            "tags": []
          },
          "execution_count": 9
        }
      ]
    },
    {
      "cell_type": "code",
      "metadata": {
        "colab": {
          "base_uri": "https://localhost:8080/"
        },
        "id": "cZJOqq_DZVHt",
        "outputId": "1dc6bb61-42ee-4fa6-aca7-f4e0fc9da672"
      },
      "source": [
        "np.median(num_data)"
      ],
      "execution_count": 10,
      "outputs": [
        {
          "output_type": "execute_result",
          "data": {
            "text/plain": [
              "149.5"
            ]
          },
          "metadata": {
            "tags": []
          },
          "execution_count": 10
        }
      ]
    },
    {
      "cell_type": "markdown",
      "metadata": {
        "id": "NhMS-RLyEj22"
      },
      "source": [
        "## reshape array\n",
        "![reshape.png](data:image/png;base64,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)"
      ]
    },
    {
      "cell_type": "code",
      "metadata": {
        "colab": {
          "base_uri": "https://localhost:8080/"
        },
        "id": "94v9IMaUZVHu",
        "outputId": "049f47f1-1d9a-4e75-8d37-efee84065500"
      },
      "source": [
        "num_mat = np.reshape(num_data, (-1, 50))\n",
        "num_mat"
      ],
      "execution_count": 11,
      "outputs": [
        {
          "output_type": "execute_result",
          "data": {
            "text/plain": [
              "array([[100, 101, 102, 103, 104, 105, 106, 107, 108, 109, 110, 111, 112,\n",
              "        113, 114, 115, 116, 117, 118, 119, 120, 121, 122, 123, 124, 125,\n",
              "        126, 127, 128, 129, 130, 131, 132, 133, 134, 135, 136, 137, 138,\n",
              "        139, 140, 141, 142, 143, 144, 145, 146, 147, 148, 149],\n",
              "       [150, 151, 152, 153, 154, 155, 156, 157, 158, 159, 160, 161, 162,\n",
              "        163, 164, 165, 166, 167, 168, 169, 170, 171, 172, 173, 174, 175,\n",
              "        176, 177, 178, 179, 180, 181, 182, 183, 184, 185, 186, 187, 188,\n",
              "        189, 190, 191, 192, 193, 194, 195, 196, 197, 198, 199]])"
            ]
          },
          "metadata": {
            "tags": []
          },
          "execution_count": 11
        }
      ]
    },
    {
      "cell_type": "code",
      "metadata": {
        "colab": {
          "base_uri": "https://localhost:8080/"
        },
        "id": "H0PDMHhfZVHv",
        "outputId": "020e79d1-b4e4-4324-a26b-b05369ed192e"
      },
      "source": [
        "np.sum(num_mat)"
      ],
      "execution_count": 12,
      "outputs": [
        {
          "output_type": "execute_result",
          "data": {
            "text/plain": [
              "14950"
            ]
          },
          "metadata": {
            "tags": []
          },
          "execution_count": 12
        }
      ]
    },
    {
      "cell_type": "code",
      "metadata": {
        "colab": {
          "base_uri": "https://localhost:8080/"
        },
        "id": "D_x7wBhKZVHw",
        "outputId": "93bd797c-ea5a-4673-f228-fdebceefeae1"
      },
      "source": [
        "np.sum(num_mat, axis=1)"
      ],
      "execution_count": 13,
      "outputs": [
        {
          "output_type": "execute_result",
          "data": {
            "text/plain": [
              "array([6225, 8725])"
            ]
          },
          "metadata": {
            "tags": []
          },
          "execution_count": 13
        }
      ]
    },
    {
      "cell_type": "code",
      "metadata": {
        "colab": {
          "base_uri": "https://localhost:8080/"
        },
        "id": "4kCNSw5UZVHx",
        "outputId": "4d9551a4-6111-4db0-c0d7-2a74c1ac9d16"
      },
      "source": [
        "np.sum(num_mat, axis=0)"
      ],
      "execution_count": 14,
      "outputs": [
        {
          "output_type": "execute_result",
          "data": {
            "text/plain": [
              "array([250, 252, 254, 256, 258, 260, 262, 264, 266, 268, 270, 272, 274,\n",
              "       276, 278, 280, 282, 284, 286, 288, 290, 292, 294, 296, 298, 300,\n",
              "       302, 304, 306, 308, 310, 312, 314, 316, 318, 320, 322, 324, 326,\n",
              "       328, 330, 332, 334, 336, 338, 340, 342, 344, 346, 348])"
            ]
          },
          "metadata": {
            "tags": []
          },
          "execution_count": 14
        }
      ]
    },
    {
      "cell_type": "code",
      "metadata": {
        "colab": {
          "base_uri": "https://localhost:8080/"
        },
        "id": "rrWYH-ydZVHy",
        "outputId": "0c6986ca-e79d-4a01-ee80-8069e0f6163f"
      },
      "source": [
        "np.max(num_mat)"
      ],
      "execution_count": 15,
      "outputs": [
        {
          "output_type": "execute_result",
          "data": {
            "text/plain": [
              "199"
            ]
          },
          "metadata": {
            "tags": []
          },
          "execution_count": 15
        }
      ]
    },
    {
      "cell_type": "code",
      "metadata": {
        "colab": {
          "base_uri": "https://localhost:8080/"
        },
        "id": "Qrsg_jp0ZVHz",
        "outputId": "cc86e712-8c99-489b-8e45-94b441b6d12e"
      },
      "source": [
        "np.max(num_mat, axis=1)"
      ],
      "execution_count": 16,
      "outputs": [
        {
          "output_type": "execute_result",
          "data": {
            "text/plain": [
              "array([149, 199])"
            ]
          },
          "metadata": {
            "tags": []
          },
          "execution_count": 16
        }
      ]
    },
    {
      "cell_type": "code",
      "metadata": {
        "colab": {
          "base_uri": "https://localhost:8080/"
        },
        "id": "8l5Z7gstmtJS",
        "outputId": "e82bb850-a45d-4684-aa01-cc424f598a13"
      },
      "source": [
        "np.max(num_mat, axis=0)"
      ],
      "execution_count": 17,
      "outputs": [
        {
          "output_type": "execute_result",
          "data": {
            "text/plain": [
              "array([150, 151, 152, 153, 154, 155, 156, 157, 158, 159, 160, 161, 162,\n",
              "       163, 164, 165, 166, 167, 168, 169, 170, 171, 172, 173, 174, 175,\n",
              "       176, 177, 178, 179, 180, 181, 182, 183, 184, 185, 186, 187, 188,\n",
              "       189, 190, 191, 192, 193, 194, 195, 196, 197, 198, 199])"
            ]
          },
          "metadata": {
            "tags": []
          },
          "execution_count": 17
        }
      ]
    },
    {
      "cell_type": "code",
      "metadata": {
        "colab": {
          "base_uri": "https://localhost:8080/"
        },
        "id": "kt7X6db9ZVH0",
        "outputId": "1aa1b342-746e-4c78-a2b9-a754b6c230d0"
      },
      "source": [
        "np.max(num_mat, axis=0)"
      ],
      "execution_count": 18,
      "outputs": [
        {
          "output_type": "execute_result",
          "data": {
            "text/plain": [
              "array([150, 151, 152, 153, 154, 155, 156, 157, 158, 159, 160, 161, 162,\n",
              "       163, 164, 165, 166, 167, 168, 169, 170, 171, 172, 173, 174, 175,\n",
              "       176, 177, 178, 179, 180, 181, 182, 183, 184, 185, 186, 187, 188,\n",
              "       189, 190, 191, 192, 193, 194, 195, 196, 197, 198, 199])"
            ]
          },
          "metadata": {
            "tags": []
          },
          "execution_count": 18
        }
      ]
    },
    {
      "cell_type": "code",
      "metadata": {
        "colab": {
          "base_uri": "https://localhost:8080/"
        },
        "id": "HPGnZWTEZVH0",
        "outputId": "84b41584-b5f6-4743-a585-b97935c2dd8b"
      },
      "source": [
        "np.exp(num_data)"
      ],
      "execution_count": null,
      "outputs": [
        {
          "output_type": "execute_result",
          "data": {
            "text/plain": [
              "array([2.7e+43, 7.3e+43, 2.0e+44, 5.4e+44, 1.5e+45, 4.0e+45, 1.1e+46,\n",
              "       2.9e+46, 8.0e+46, 2.2e+47, 5.9e+47, 1.6e+48, 4.4e+48, 1.2e+49,\n",
              "       3.2e+49, 8.8e+49, 2.4e+50, 6.5e+50, 1.8e+51, 4.8e+51, 1.3e+52,\n",
              "       3.5e+52, 9.6e+52, 2.6e+53, 7.1e+53, 1.9e+54, 5.3e+54, 1.4e+55,\n",
              "       3.9e+55, 1.1e+56, 2.9e+56, 7.8e+56, 2.1e+57, 5.8e+57, 1.6e+58,\n",
              "       4.3e+58, 1.2e+59, 3.2e+59, 8.6e+59, 2.3e+60, 6.3e+60, 1.7e+61,\n",
              "       4.7e+61, 1.3e+62, 3.5e+62, 9.4e+62, 2.6e+63, 6.9e+63, 1.9e+64,\n",
              "       5.1e+64, 1.4e+65, 3.8e+65, 1.0e+66, 2.8e+66, 7.6e+66, 2.1e+67,\n",
              "       5.6e+67, 1.5e+68, 4.2e+68, 1.1e+69, 3.1e+69, 8.3e+69, 2.3e+70,\n",
              "       6.2e+70, 1.7e+71, 4.6e+71, 1.2e+72, 3.4e+72, 9.2e+72, 2.5e+73,\n",
              "       6.8e+73, 1.8e+74, 5.0e+74, 1.4e+75, 3.7e+75, 1.0e+76, 2.7e+76,\n",
              "       7.4e+76, 2.0e+77, 5.5e+77, 1.5e+78, 4.0e+78, 1.1e+79, 3.0e+79,\n",
              "       8.1e+79, 2.2e+80, 6.0e+80, 1.6e+81, 4.4e+81, 1.2e+82, 3.3e+82,\n",
              "       8.9e+82, 2.4e+83, 6.6e+83, 1.8e+84, 4.9e+84, 1.3e+85, 3.6e+85,\n",
              "       9.8e+85, 2.7e+86])"
            ]
          },
          "metadata": {
            "tags": []
          },
          "execution_count": 38
        }
      ]
    },
    {
      "cell_type": "code",
      "metadata": {
        "colab": {
          "base_uri": "https://localhost:8080/"
        },
        "id": "ITKm7XcI2Hw3",
        "outputId": "9021a0a2-3854-40d2-96c9-8cb24da45f1f"
      },
      "source": [
        "np.set_printoptions(precision=2)\n",
        "np.exp(num_data)"
      ],
      "execution_count": 20,
      "outputs": [
        {
          "output_type": "execute_result",
          "data": {
            "text/plain": [
              "array([2.69e+43, 7.31e+43, 1.99e+44, 5.40e+44, 1.47e+45, 3.99e+45,\n",
              "       1.08e+46, 2.95e+46, 8.01e+46, 2.18e+47, 5.92e+47, 1.61e+48,\n",
              "       4.38e+48, 1.19e+49, 3.23e+49, 8.79e+49, 2.39e+50, 6.49e+50,\n",
              "       1.77e+51, 4.80e+51, 1.30e+52, 3.55e+52, 9.64e+52, 2.62e+53,\n",
              "       7.12e+53, 1.94e+54, 5.26e+54, 1.43e+55, 3.89e+55, 1.06e+56,\n",
              "       2.87e+56, 7.81e+56, 2.12e+57, 5.77e+57, 1.57e+58, 4.26e+58,\n",
              "       1.16e+59, 3.15e+59, 8.56e+59, 2.33e+60, 6.33e+60, 1.72e+61,\n",
              "       4.68e+61, 1.27e+62, 3.45e+62, 9.39e+62, 2.55e+63, 6.94e+63,\n",
              "       1.89e+64, 5.13e+64, 1.39e+65, 3.79e+65, 1.03e+66, 2.80e+66,\n",
              "       7.61e+66, 2.07e+67, 5.62e+67, 1.53e+68, 4.15e+68, 1.13e+69,\n",
              "       3.07e+69, 8.34e+69, 2.27e+70, 6.17e+70, 1.68e+71, 4.56e+71,\n",
              "       1.24e+72, 3.37e+72, 9.15e+72, 2.49e+73, 6.76e+73, 1.84e+74,\n",
              "       5.00e+74, 1.36e+75, 3.69e+75, 1.00e+76, 2.73e+76, 7.42e+76,\n",
              "       2.02e+77, 5.48e+77, 1.49e+78, 4.05e+78, 1.10e+79, 2.99e+79,\n",
              "       8.13e+79, 2.21e+80, 6.01e+80, 1.63e+81, 4.44e+81, 1.21e+82,\n",
              "       3.28e+82, 8.92e+82, 2.42e+83, 6.59e+83, 1.79e+84, 4.87e+84,\n",
              "       1.32e+85, 3.60e+85, 9.78e+85, 2.66e+86])"
            ]
          },
          "metadata": {
            "tags": []
          },
          "execution_count": 20
        }
      ]
    },
    {
      "cell_type": "markdown",
      "metadata": {
        "id": "sxQWWP4sziEc"
      },
      "source": [
        "## numpy array indexing\n",
        "\n",
        "<img src=\"https://scipy-lectures.org/_images/numpy_fancy_indexing.png\">"
      ]
    },
    {
      "cell_type": "code",
      "metadata": {
        "colab": {
          "base_uri": "https://localhost:8080/"
        },
        "id": "ZuoPjPu3aR-R",
        "outputId": "cebdf252-202d-465f-adeb-1877e3238ca1"
      },
      "source": [
        "mask = np.array([1, 0, 1, 0, 0, 1], dtype=np.bool)\r\n",
        "mask"
      ],
      "execution_count": 24,
      "outputs": [
        {
          "output_type": "execute_result",
          "data": {
            "text/plain": [
              "array([ True, False,  True, False, False,  True])"
            ]
          },
          "metadata": {
            "tags": []
          },
          "execution_count": 24
        }
      ]
    },
    {
      "cell_type": "code",
      "metadata": {
        "colab": {
          "base_uri": "https://localhost:8080/"
        },
        "id": "edzgt0LfZVH1",
        "outputId": "c2453368-2913-47cc-b9b4-1aceae930c1c"
      },
      "source": [
        "num_data = np.arange(0, 100, 1).reshape(5, -1)\n",
        "num_data, num_data.shape"
      ],
      "execution_count": 25,
      "outputs": [
        {
          "output_type": "execute_result",
          "data": {
            "text/plain": [
              "(array([[ 0,  1,  2,  3,  4,  5,  6,  7,  8,  9, 10, 11, 12, 13, 14, 15,\n",
              "         16, 17, 18, 19],\n",
              "        [20, 21, 22, 23, 24, 25, 26, 27, 28, 29, 30, 31, 32, 33, 34, 35,\n",
              "         36, 37, 38, 39],\n",
              "        [40, 41, 42, 43, 44, 45, 46, 47, 48, 49, 50, 51, 52, 53, 54, 55,\n",
              "         56, 57, 58, 59],\n",
              "        [60, 61, 62, 63, 64, 65, 66, 67, 68, 69, 70, 71, 72, 73, 74, 75,\n",
              "         76, 77, 78, 79],\n",
              "        [80, 81, 82, 83, 84, 85, 86, 87, 88, 89, 90, 91, 92, 93, 94, 95,\n",
              "         96, 97, 98, 99]]), (5, 20))"
            ]
          },
          "metadata": {
            "tags": []
          },
          "execution_count": 25
        }
      ]
    },
    {
      "cell_type": "code",
      "metadata": {
        "colab": {
          "base_uri": "https://localhost:8080/"
        },
        "id": "ZcEjwuPPm0_S",
        "outputId": "f00093f6-c9e1-4f8b-fa3d-bf98bc7b1930"
      },
      "source": [
        "num_data[0]"
      ],
      "execution_count": 26,
      "outputs": [
        {
          "output_type": "execute_result",
          "data": {
            "text/plain": [
              "array([ 0,  1,  2,  3,  4,  5,  6,  7,  8,  9, 10, 11, 12, 13, 14, 15, 16,\n",
              "       17, 18, 19])"
            ]
          },
          "metadata": {
            "tags": []
          },
          "execution_count": 26
        }
      ]
    },
    {
      "cell_type": "code",
      "metadata": {
        "colab": {
          "base_uri": "https://localhost:8080/"
        },
        "id": "cpvuH7AkZVH1",
        "outputId": "6db25d18-3ec2-4175-d2ce-51748f86b3f6"
      },
      "source": [
        "num_data[2:4]"
      ],
      "execution_count": 27,
      "outputs": [
        {
          "output_type": "execute_result",
          "data": {
            "text/plain": [
              "array([[40, 41, 42, 43, 44, 45, 46, 47, 48, 49, 50, 51, 52, 53, 54, 55,\n",
              "        56, 57, 58, 59],\n",
              "       [60, 61, 62, 63, 64, 65, 66, 67, 68, 69, 70, 71, 72, 73, 74, 75,\n",
              "        76, 77, 78, 79]])"
            ]
          },
          "metadata": {
            "tags": []
          },
          "execution_count": 27
        }
      ]
    },
    {
      "cell_type": "code",
      "metadata": {
        "colab": {
          "base_uri": "https://localhost:8080/"
        },
        "id": "ZtUwj1ZnZVH2",
        "outputId": "fb349dbf-ace9-4cbe-d4ea-2f47b67a2e85"
      },
      "source": [
        "num_mat = num_data\n",
        "num_mat.shape"
      ],
      "execution_count": 28,
      "outputs": [
        {
          "output_type": "execute_result",
          "data": {
            "text/plain": [
              "(5, 20)"
            ]
          },
          "metadata": {
            "tags": []
          },
          "execution_count": 28
        }
      ]
    },
    {
      "cell_type": "code",
      "metadata": {
        "colab": {
          "base_uri": "https://localhost:8080/"
        },
        "id": "08DNs0nxZVH2",
        "outputId": "9e61c39e-43fd-4db9-e232-182daa236ce8"
      },
      "source": [
        "num_mat[2:4]"
      ],
      "execution_count": 29,
      "outputs": [
        {
          "output_type": "execute_result",
          "data": {
            "text/plain": [
              "array([[40, 41, 42, 43, 44, 45, 46, 47, 48, 49, 50, 51, 52, 53, 54, 55,\n",
              "        56, 57, 58, 59],\n",
              "       [60, 61, 62, 63, 64, 65, 66, 67, 68, 69, 70, 71, 72, 73, 74, 75,\n",
              "        76, 77, 78, 79]])"
            ]
          },
          "metadata": {
            "tags": []
          },
          "execution_count": 29
        }
      ]
    },
    {
      "cell_type": "code",
      "metadata": {
        "colab": {
          "base_uri": "https://localhost:8080/"
        },
        "id": "Z2LO4eoFZVH3",
        "outputId": "98b3943f-bb7c-42fd-b093-a47a99bf0af6"
      },
      "source": [
        "num_mat[[2, 4]]"
      ],
      "execution_count": 32,
      "outputs": [
        {
          "output_type": "execute_result",
          "data": {
            "text/plain": [
              "array([[40, 41, 42, 43, 44, 45, 46, 47, 48, 49, 50, 51, 52, 53, 54, 55,\n",
              "        56, 57, 58, 59],\n",
              "       [80, 81, 82, 83, 84, 85, 86, 87, 88, 89, 90, 91, 92, 93, 94, 95,\n",
              "        96, 97, 98, 99]])"
            ]
          },
          "metadata": {
            "tags": []
          },
          "execution_count": 32
        }
      ]
    },
    {
      "cell_type": "code",
      "metadata": {
        "id": "4jGNMr0aZVH3",
        "colab": {
          "base_uri": "https://localhost:8080/"
        },
        "outputId": "e5f1bc71-1478-4931-c5f0-e5503c2a40ff"
      },
      "source": [
        "num_mat"
      ],
      "execution_count": 33,
      "outputs": [
        {
          "output_type": "execute_result",
          "data": {
            "text/plain": [
              "array([[ 0,  1,  2,  3,  4,  5,  6,  7,  8,  9, 10, 11, 12, 13, 14, 15,\n",
              "        16, 17, 18, 19],\n",
              "       [20, 21, 22, 23, 24, 25, 26, 27, 28, 29, 30, 31, 32, 33, 34, 35,\n",
              "        36, 37, 38, 39],\n",
              "       [40, 41, 42, 43, 44, 45, 46, 47, 48, 49, 50, 51, 52, 53, 54, 55,\n",
              "        56, 57, 58, 59],\n",
              "       [60, 61, 62, 63, 64, 65, 66, 67, 68, 69, 70, 71, 72, 73, 74, 75,\n",
              "        76, 77, 78, 79],\n",
              "       [80, 81, 82, 83, 84, 85, 86, 87, 88, 89, 90, 91, 92, 93, 94, 95,\n",
              "        96, 97, 98, 99]])"
            ]
          },
          "metadata": {
            "tags": []
          },
          "execution_count": 33
        }
      ]
    },
    {
      "cell_type": "code",
      "metadata": {
        "id": "SQJiIgzUZVH3",
        "colab": {
          "base_uri": "https://localhost:8080/"
        },
        "outputId": "2c56df96-a871-4edc-dfe6-76d1970ec93d"
      },
      "source": [
        "num_mat[[2, 4],[0, 1]]"
      ],
      "execution_count": 35,
      "outputs": [
        {
          "output_type": "execute_result",
          "data": {
            "text/plain": [
              "array([40, 81])"
            ]
          },
          "metadata": {
            "tags": []
          },
          "execution_count": 35
        }
      ]
    },
    {
      "cell_type": "markdown",
      "metadata": {
        "id": "W16NkYKR62gX"
      },
      "source": [
        "## matrices operations\n"
      ]
    },
    {
      "cell_type": "markdown",
      "metadata": {
        "id": "xE-VFK516vsA"
      },
      "source": [
        "### elementwise operations\n",
        "<img src=\"https://algebra1course.files.wordpress.com/2013/02/slide05.jpg\">"
      ]
    },
    {
      "cell_type": "code",
      "metadata": {
        "id": "SaH_VKu2ZVH4",
        "colab": {
          "base_uri": "https://localhost:8080/"
        },
        "outputId": "af19593a-a104-4917-9823-80bc58633774"
      },
      "source": [
        "mat_1 = np.array(list(range(10, 14)))\n",
        "mat_1 = np.reshape(mat_1, (2, 2))\n",
        "mat_1"
      ],
      "execution_count": 36,
      "outputs": [
        {
          "output_type": "execute_result",
          "data": {
            "text/plain": [
              "array([[10, 11],\n",
              "       [12, 13]])"
            ]
          },
          "metadata": {
            "tags": []
          },
          "execution_count": 36
        }
      ]
    },
    {
      "cell_type": "code",
      "metadata": {
        "id": "5LZ07YheZVH4",
        "colab": {
          "base_uri": "https://localhost:8080/"
        },
        "outputId": "e3a45e76-c5c4-44f9-8319-d3b16469b624"
      },
      "source": [
        "mat_2 = np.array(list(range(30, 34)))\n",
        "mat_2 = np.reshape(mat_2, (2, 2))\n",
        "mat_2"
      ],
      "execution_count": 37,
      "outputs": [
        {
          "output_type": "execute_result",
          "data": {
            "text/plain": [
              "array([[30, 31],\n",
              "       [32, 33]])"
            ]
          },
          "metadata": {
            "tags": []
          },
          "execution_count": 37
        }
      ]
    },
    {
      "cell_type": "code",
      "metadata": {
        "id": "XJTfS1PJZVH5",
        "colab": {
          "base_uri": "https://localhost:8080/"
        },
        "outputId": "f9077b8c-c4e1-406a-85ca-e2a830dd2754"
      },
      "source": [
        "mat_1 + mat_2"
      ],
      "execution_count": 38,
      "outputs": [
        {
          "output_type": "execute_result",
          "data": {
            "text/plain": [
              "array([[40, 42],\n",
              "       [44, 46]])"
            ]
          },
          "metadata": {
            "tags": []
          },
          "execution_count": 38
        }
      ]
    },
    {
      "cell_type": "code",
      "metadata": {
        "id": "YnSd4q5pZVH5",
        "colab": {
          "base_uri": "https://localhost:8080/"
        },
        "outputId": "5a0ba9bf-eb4b-4482-91fa-7e65adbba03c"
      },
      "source": [
        "mat_1 - mat_2"
      ],
      "execution_count": 39,
      "outputs": [
        {
          "output_type": "execute_result",
          "data": {
            "text/plain": [
              "array([[-20, -20],\n",
              "       [-20, -20]])"
            ]
          },
          "metadata": {
            "tags": []
          },
          "execution_count": 39
        }
      ]
    },
    {
      "cell_type": "code",
      "metadata": {
        "id": "wPHqXNksZVH6",
        "colab": {
          "base_uri": "https://localhost:8080/"
        },
        "outputId": "025829cc-f0e3-47c1-8ded-0c206fb68923"
      },
      "source": [
        "mat_1 * mat_2"
      ],
      "execution_count": 40,
      "outputs": [
        {
          "output_type": "execute_result",
          "data": {
            "text/plain": [
              "array([[300, 341],\n",
              "       [384, 429]])"
            ]
          },
          "metadata": {
            "tags": []
          },
          "execution_count": 40
        }
      ]
    },
    {
      "cell_type": "code",
      "metadata": {
        "id": "yZccZBLsZVH6",
        "colab": {
          "base_uri": "https://localhost:8080/"
        },
        "outputId": "9d43a22b-a56c-4980-b863-575a46c8ff13"
      },
      "source": [
        "\r\n",
        "mat_1 / mat_2"
      ],
      "execution_count": 41,
      "outputs": [
        {
          "output_type": "execute_result",
          "data": {
            "text/plain": [
              "array([[0.33, 0.35],\n",
              "       [0.38, 0.39]])"
            ]
          },
          "metadata": {
            "tags": []
          },
          "execution_count": 41
        }
      ]
    },
    {
      "cell_type": "markdown",
      "metadata": {
        "id": "wbEO-oDz1Sbz"
      },
      "source": [
        "### scaler operations\n",
        "<img src=\"https://algebra1course.files.wordpress.com/2013/02/slide08.jpg\">\n",
        "\n"
      ]
    },
    {
      "cell_type": "code",
      "metadata": {
        "id": "Ze5aMucGZVH6",
        "colab": {
          "base_uri": "https://localhost:8080/"
        },
        "outputId": "f4fb890e-b49f-486c-dcfa-5ef6c4bd3888"
      },
      "source": [
        "5 * mat_1"
      ],
      "execution_count": 42,
      "outputs": [
        {
          "output_type": "execute_result",
          "data": {
            "text/plain": [
              "array([[50, 55],\n",
              "       [60, 65]])"
            ]
          },
          "metadata": {
            "tags": []
          },
          "execution_count": 42
        }
      ]
    },
    {
      "cell_type": "code",
      "metadata": {
        "id": "1YOS_CArZVH7",
        "colab": {
          "base_uri": "https://localhost:8080/"
        },
        "outputId": "b512b093-611f-413f-85ef-08ce18dbfd24"
      },
      "source": [
        "mat_1 = np.array([[2, 4], [7, 8], [3, 2]])\n",
        "mat_1"
      ],
      "execution_count": 43,
      "outputs": [
        {
          "output_type": "execute_result",
          "data": {
            "text/plain": [
              "array([[2, 4],\n",
              "       [7, 8],\n",
              "       [3, 2]])"
            ]
          },
          "metadata": {
            "tags": []
          },
          "execution_count": 43
        }
      ]
    },
    {
      "cell_type": "code",
      "metadata": {
        "id": "aKY6sPYRZVH8",
        "colab": {
          "base_uri": "https://localhost:8080/"
        },
        "outputId": "a3d464ba-748e-4753-afaf-10c787dc77dc"
      },
      "source": [
        "mat_2 = np.array([[1, 3], [4, 7]])\n",
        "mat_2"
      ],
      "execution_count": 44,
      "outputs": [
        {
          "output_type": "execute_result",
          "data": {
            "text/plain": [
              "array([[1, 3],\n",
              "       [4, 7]])"
            ]
          },
          "metadata": {
            "tags": []
          },
          "execution_count": 44
        }
      ]
    },
    {
      "cell_type": "markdown",
      "metadata": {
        "id": "ja8UkkGp5j0X"
      },
      "source": [
        "### dot product\n",
        "<img src=\"https://miro.medium.com/max/1716/1*-zwv5fz41tWLpUaY9SBQew.png\">\n"
      ]
    },
    {
      "cell_type": "code",
      "metadata": {
        "id": "zM6fiZ8xZVH8",
        "colab": {
          "base_uri": "https://localhost:8080/"
        },
        "outputId": "365143d2-d3d8-4f18-c9f0-013b1d2bedf5"
      },
      "source": [
        "np.dot(mat_1, mat_2)    # mat_1 @ mat_2"
      ],
      "execution_count": 45,
      "outputs": [
        {
          "output_type": "execute_result",
          "data": {
            "text/plain": [
              "array([[18, 34],\n",
              "       [39, 77],\n",
              "       [11, 23]])"
            ]
          },
          "metadata": {
            "tags": []
          },
          "execution_count": 45
        }
      ]
    },
    {
      "cell_type": "code",
      "metadata": {
        "id": "MHR1F4n85xq5",
        "colab": {
          "base_uri": "https://localhost:8080/"
        },
        "outputId": "b651183b-654f-458b-b7ab-972e7eecb4b3"
      },
      "source": [
        "mat_1 @ mat_2"
      ],
      "execution_count": 46,
      "outputs": [
        {
          "output_type": "execute_result",
          "data": {
            "text/plain": [
              "array([[18, 34],\n",
              "       [39, 77],\n",
              "       [11, 23]])"
            ]
          },
          "metadata": {
            "tags": []
          },
          "execution_count": 46
        }
      ]
    },
    {
      "cell_type": "markdown",
      "metadata": {
        "id": "mvYwVy6d6Noa"
      },
      "source": [
        "### matrix transpose\n",
        "\n",
        "<img src=\"https://2.bp.blogspot.com/-8LzbJv0zB3A/WAzRQbxP5eI/AAAAAAAAHYU/MEqPV8JxtLMCSGSQ-0UKZSYlUN3jALZaQCLcB/w1200-h630-p-k-no-nu/Java%2BProgram%2Bto%2BTranspose%2Ba%2BMatrix%2B.png\">"
      ]
    },
    {
      "cell_type": "code",
      "metadata": {
        "id": "_lyx1kapZVH8",
        "colab": {
          "base_uri": "https://localhost:8080/"
        },
        "outputId": "b165638a-b08e-4d74-ea75-53ce0d6da52c"
      },
      "source": [
        "mat_1"
      ],
      "execution_count": 47,
      "outputs": [
        {
          "output_type": "execute_result",
          "data": {
            "text/plain": [
              "array([[2, 4],\n",
              "       [7, 8],\n",
              "       [3, 2]])"
            ]
          },
          "metadata": {
            "tags": []
          },
          "execution_count": 47
        }
      ]
    },
    {
      "cell_type": "code",
      "metadata": {
        "id": "WWuBlXLRZVH9",
        "colab": {
          "base_uri": "https://localhost:8080/"
        },
        "outputId": "293838c7-2114-4448-a8b4-0e25664fc891"
      },
      "source": [
        "mat_1.T"
      ],
      "execution_count": 48,
      "outputs": [
        {
          "output_type": "execute_result",
          "data": {
            "text/plain": [
              "array([[2, 7, 3],\n",
              "       [4, 8, 2]])"
            ]
          },
          "metadata": {
            "tags": []
          },
          "execution_count": 48
        }
      ]
    },
    {
      "cell_type": "code",
      "metadata": {
        "id": "7kkZ84KJZVH-",
        "colab": {
          "base_uri": "https://localhost:8080/"
        },
        "outputId": "c155a142-9817-4dc0-b13b-0fe556492c01"
      },
      "source": [
        "np.transpose(mat_1)"
      ],
      "execution_count": 49,
      "outputs": [
        {
          "output_type": "execute_result",
          "data": {
            "text/plain": [
              "array([[2, 7, 3],\n",
              "       [4, 8, 2]])"
            ]
          },
          "metadata": {
            "tags": []
          },
          "execution_count": 49
        }
      ]
    },
    {
      "cell_type": "markdown",
      "metadata": {
        "id": "hxuruSFs7onq"
      },
      "source": [
        "## trignometric functions"
      ]
    },
    {
      "cell_type": "code",
      "metadata": {
        "id": "8kF3MaPXZVH-",
        "colab": {
          "base_uri": "https://localhost:8080/"
        },
        "outputId": "ebef866e-9116-49b2-e077-ca18193e8153"
      },
      "source": [
        "degrees = np.array([0, 30, 45, 90, 120, 270, 360])\n",
        "degrees"
      ],
      "execution_count": 50,
      "outputs": [
        {
          "output_type": "execute_result",
          "data": {
            "text/plain": [
              "array([  0,  30,  45,  90, 120, 270, 360])"
            ]
          },
          "metadata": {
            "tags": []
          },
          "execution_count": 50
        }
      ]
    },
    {
      "cell_type": "code",
      "metadata": {
        "id": "ttnY-5njZVH-",
        "colab": {
          "base_uri": "https://localhost:8080/"
        },
        "outputId": "42ea36a4-b1c1-4c09-99a9-941d67338d3e"
      },
      "source": [
        "np.sin(degrees)"
      ],
      "execution_count": 51,
      "outputs": [
        {
          "output_type": "execute_result",
          "data": {
            "text/plain": [
              "array([ 0.  , -0.99,  0.85,  0.89,  0.58, -0.18,  0.96])"
            ]
          },
          "metadata": {
            "tags": []
          },
          "execution_count": 51
        }
      ]
    },
    {
      "cell_type": "code",
      "metadata": {
        "id": "03dEKR-4ZVH-",
        "colab": {
          "base_uri": "https://localhost:8080/"
        },
        "outputId": "abc2d348-b97a-4688-c02f-49fec4ebefc8"
      },
      "source": [
        "np.cos(degrees)"
      ],
      "execution_count": 52,
      "outputs": [
        {
          "output_type": "execute_result",
          "data": {
            "text/plain": [
              "array([ 1.  ,  0.15,  0.53, -0.45,  0.81,  0.98, -0.28])"
            ]
          },
          "metadata": {
            "tags": []
          },
          "execution_count": 52
        }
      ]
    },
    {
      "cell_type": "code",
      "metadata": {
        "id": "Hd4rkFZuZVIA",
        "colab": {
          "base_uri": "https://localhost:8080/"
        },
        "outputId": "91ede799-8efb-43b2-af89-97d74494b93c"
      },
      "source": [
        "\r\n",
        "np.tan(degrees)"
      ],
      "execution_count": 53,
      "outputs": [
        {
          "output_type": "execute_result",
          "data": {
            "text/plain": [
              "array([ 0.  , -6.41,  1.62, -2.  ,  0.71, -0.18, -3.38])"
            ]
          },
          "metadata": {
            "tags": []
          },
          "execution_count": 53
        }
      ]
    },
    {
      "cell_type": "markdown",
      "metadata": {
        "id": "UreFusOC8baJ"
      },
      "source": [
        ""
      ]
    },
    {
      "cell_type": "markdown",
      "metadata": {
        "id": "Mu3Tr-7P1i8g"
      },
      "source": [
        "## other numpy array methods\n",
        "\n",
        "\n",
        "<img src=\"https://jalammar.github.io/images/numpy/create-numpy-array-ones-zeros-random.png\">\n",
        "\n",
        "\n",
        "**Linspace**\n",
        "```python\n",
        "    np.linspace(0, 100, 4)\n",
        "```\n",
        "<img width=\"40%\" src=\"https://vrzkj25a871bpq7t1ugcgmn9-wpengine.netdna-ssl.com/wp-content/uploads/2018/10/visual-representation-of-np-linspace-0-100-5.png\">\n",
        "<img width=\"40%\"src=\"https://www.w3resource.com/w3r_images/numpy-linspace-function-image-a.png\">\n",
        "\n",
        "\n",
        "**Meshgrid**\n",
        "\n",
        "```python\n",
        "    x = np.linspace(-3, 3, 5)\n",
        "    y = np.linspace(-3, 3, 5)\n",
        "\n",
        "    xx, yy = np.meshgrid(x, y)\n",
        "\n",
        "    plt.scatter(xx, yy)\n",
        "```\n",
        "\n",
        "<img src=\"https://i0.wp.com/ajaytech.co/wp-content/uploads/2019/05/download-23.png?w=366&ssl=1\">\n",
        "<img src=\"https://i0.wp.com/ajaytech.co/wp-content/uploads/2019/05/scatter-plot-meshgrid.jpg?w=432&ssl=1\">\n",
        "\n",
        "\n",
        "**Squeeze**\n",
        "\n",
        "\\\n",
        "\n",
        "![squeeze.png](data:image/png;base64,iVBORw0KGgoAAAANSUhEUgAAAlQAAADxCAYAAAF60RnLAAAACXBIWXMAAA7EAAAOxAGVKw4bAACXEklEQVR4Xu3dB1jTTB8A8CTdZS+ZAiKoICjgABX33qK4N+6tKOLELW7ce2/ceyvgQJwgDkRQQRkCCsjoTvI1KMpom7a00r7f/R59aC//O0J6vVySy4WK4zhUAs/94gABUlFLXmBfnjVHbBs9KB8guBOyht5u7uwK6TcWbaF3WjKlQvrl2fvo3deMKp/OPzf1BKP35oEV0sPGXmD0392rQvrxYTcZgw53LJ/OO9w/kjksrGWF9P29njD9L3hVSN/TJZY55pp7hfQd7eKZE+44l0/nbm35kTU5smaF9M0+yX82lqQNRZC0oYrTJWyo4nQJG4ogaUMVp0vYUMXpEjYUQdKGKk6XsKGK0yVsqOJ0CRuKIGlDFadPfWhPhf4TcBiC4L/tyZ9kDIFgBKuYjlIgmIJWSMeEdAihCSqkC4r0ILpOwX9kY0nYUMXJEjZUcbqEDUWQtKEI4g1F/KCKEu91pTq1uVp+OUivmP4fqVn/RpmNNcwQSTychzlJC5ZXvBAydKZBeeXT+/fseiHs4tVe5dPrWBqkvs/4aVM+HcJSaRBiI6yQrkIw3ZOLC16yyOKE99aEqKVmSdpQBEkbiiBxQ4kZDntxNu+oTQ9JyxTHQSCILbkNkwOtzey5ZTaWKmqVKuUd7amiDUWQvKHkqVUle0+11Kz/nN97T6qkPUDxApBeIV3hmhV8MqG4T7N0QG2YLFYTVWb9Fd5Y/8/AxlIA2FgKUOHGwmEs440nWdS/hFi6vSCLUYTKNhaW+rIJYtMgiizunxFy2WQhilLZxirPQQfJ+1SEGX5EIb3qWVFsumXTzPIxxggsyMFwOvH6SE/2waEXOSP+LBRGsmvPZ4TOCvDaOsYCfk0kbU0QNplcm/a4fDn/ito2FrGhiJ81KVABZNm0oCSdxjLiCbm5zF/vKMW7cZaOTeHddeMmE6+N2czCHA5P9/HPRmbxQe/nwiZwriGLwfkRs8R9ivPcqNPOlq8j36XXq/AL/wGFNlZJH4WA4TgVgWGRrHhJ/m4oCMrBRAziJ7coVfdPmnhDET+bmLJTIOhXE5jH5Rd/pXB8jsJ9o9JKr38+R2Sjz6amyoovT6GNVVr5DaVR7RWBxuKUTyLWmfiQideKbiiCQhuL6PUSn44yvV9NsLh/LVpl1l+hjUVQ9hdpisqsPxVLfdGUd8DvEVng/zP2ws/FG5iKcX8albwpTZ5z0v8v6SWvy3wN7ZhIfgoP0y+fQYdB5xXxBUyoHBadwecK+Izy6dLAMIyLVfhgqpvoZH/9UWQmbzybTudzBIIKv5fNYPE4fG7Z9RSm0yGalYBpaJPPy0ut8LdVOK38O55lYJnP/ZlRJr7MxmrJhCp0HAlFvO86ktJ5QgFdUro0HAG/wgYnSNpQhMM9DQ9ISucKhRJ/b4UNRRD/4cQPSRtKot/x94PrV7i4XGZjHfmJOx4uHwERl98MRJI+YSaVqtDFBAO2XqFAyKeVTzfTZeRnF/Ir/DHrPe/nDS2fCEn/vXRxh1dQqh9HIGpncKyw3ZrWNc9yc1IMS6dDVDc+JHpdpoaWxC+ddXMHPhPaWXpZmY0laYPISpf2CUsjaUMRJG0oQmywW4CkdGm/t/yGIpSs+5JSG6p0utR4CcupCMsgl7OshsQrupIvz/7/pVNL9oYlQ460Z7iRlHENCo93UGwcxJ+vIGxk+6n8QuCvXxsKE1EhhFrhYBjn5pnALMMfFdILsyxh3WoZFdLzUu1hQ5vk8ulYzudaiHGNDxXSM+PrI+bOryqkp8V6I9bu0eXT0ZToVhQ774gK6YnhXShOra9VSH93tR/Fpeup8umi2FP+VPd++yukPz8ykdpw6PYK6VE7Z//aUBI2EkHSRipOl7CRitMlbCSCpI1UnC5hIxWnS9hIBEkbqThdwkYqTpewkQiSNlJxuoSNVJzedPwahY8F/1+BDSUnsKHkJNeGQhA2hmHESJOyKKbtvqPf75iWT+9/lj8mrA9jT+k0Joyg+ThGE/cYy+ySEZiJPf3OsW1oglQ44YYTnebiH38Ns6a8OZppWQsTpZbpfMLidWxC4/6I4uNlDo+Wv0FboRiOLHY3uY1jPyl/4qUMJyLiF7hSIpqHJi19MMMxuCSddEPZU5FC8VaqsJGMKLAAx2CJPW5JcHEXh4nQRRgmKFNW+HS7pY3NGF8wTFjhd5TfSIQzGVgdBE+vEOtB4+W+abxOYhdnibvunZVxha0lLZOEVmvqR+GHzX8G2hKX8Eg3VLII04UkyEVxqYcx5WsTgY/hFEiClqEJi7FQaLGkZZJwMFziOr/kYyaS0onasQDjVdiw0oYRFceX2kgExNL1JemGAn4BG0pOCm2oygy/0QSVWX+FNtT/M7Ch5AQ2lJxUtqGwjNcNyGL+JY0dLsTb2+O5pMth/xUq21CS7J3RMWR06M25HWae3XZrfZ9JRBpL3DsXWA3/hqbuqTDAn3djdAvv7vsuPhfiJtTfhzrVqbSiNFobDOPe1OPdndhs7pjdoRtTG7rhgmjWk6Da87xWJ6wsX446qHVDERuJ+FmykcR/OzzcAn57zXdwhfNQNJYhT8jNY3aueehtsxom7598/lGLZWT5kysS6pyM+dG05Lpfche7mI91bm0j8jTd5zIDXQ1p1oYqPbxG+cEQCL4znV9f0hJiIxE/Q94LfUrSuLkZBsTPAR4mUQN+Xx05vzVoHAQFFS9Hv5+XeH1Qksquv9wbqmS0S8nr8ss1vX0iW38ycm8ogkM19j0hhpPfk6KhOrqbzXwQnzOPLE4ShTbUiDbV25LFaLJmdYw3EP/J4iShSrsACvzyZziQprctmkKOrx4Op/BhPTsGlF82nQ9/4TP0bCukSz4V3JMFf73EY9jgOK/CB/MmH6/mqg9nlU4rHlABSRorIILThFQdaxpUWD4dE/85SLmzosSp3ZmsG8msml2TS6fLOhU8DbmQrufSp8wlNjk2FIxfSuTVm+LKfFg2nYFffJzmM6WVdZlrag8DXRdA3i8qDCe6xoOsIbjiqV0YQXBYvC0wHC2zQaQOpshP0LubYO4+rJHp/dLprnR6bhIMsXl8rMKZ1wPMzkaTYOZnSR+SJOU3EuHPhqpHg/NeiyCD8itY8slOKb/ieCHiU88yFirHZ+2b5VvENap8ulCQzsxGLCucDsYxDE7mQQbl06WBdS05dewNPpdPf8P/YQLBRhXGDCx0o4bzUm5Vn1h+IwljmCXDgHBh3J/RMET8QuIFrREPFzz9U+P+bKg4IW4ISSDtkxWvMeZhDKVLWiTpnDlEsxRI6x3aM6GfUhZVhBiLGptBXyukS9hIBLJhPvKmg70eCXb5YT8l8IJv1rCeRZrEXBLgP9NtYQOrL2RxJfCi7+awjqnEIZGS4LyfRjDTIJcs7g9+gQHE0JO/hop4LIjK5JKF/YEK6RBFyuwekkibTkUaacORpJI2DKrqlNnxCR9tn0trNjFEWnB5ggsBh+m9NgwjiyshuDpvF73rynFkcSUEt5ZtoHdYKHGkoiTCiPXLaK1mLiSLKyGK2hFEbTphNVlcCdHzw5OoDYdtI4srIYo7N4xar7ekUbISoe9v9KbU6XSOLK6EtBFP0qApT1pS7LwiyeJKYKmx3oiN5MFFkpSM5PpTqbjbWn9gTQqvJStTadzVdQtYQW/1yOJKcNfU+8maHSd3Z4CzzuMHe1aMxGvAknA3NPrGCnhmQRZXgrvRO401PdqaLK4Ed4vPZ9aUhzXI4kpwt7dJYE28V5ssrgRvV8fXzHE33cjiSvD2dn/OHH25IVlcCeL+FebIM83I4krwjw66yxhyXO4jfP7pCWcZfXf0IV4XVyqir6DIwd//X7wDxl74qcJABmnUHr+8Jspe8FHioA5JOCscRez5SXIcjv3CWeEkYM9PlHusPGeVcxF7TvyfuzmKJ/dSZAP/f8bL/4H/k3gFKlRxvAIV6le8/BWqOL5UhSLI/csAQF4SK9Xn0+O7Txi1e9uNfMxW0vLy2hsiX27nYbYwwsJwjEv6rbOnwoXJIlwXRhjieD5pPOHBzLoLtzZ9+U3iuYpyGtDhnBcC3JgsrkT6MT9fi8FnLlARBorJuT4ESwqVm4GKSC+/NGAi31/wMFNE/PfKU747E/kRy8NMKEZdfqC512T2KxGGHW/pi0+diLGDCKIjLj+PMuuRqPu6ZqxLkuIbGFEyXhbVNyROY5Z+LSmWULp8mGIswtEsWpO1SSseB9aRctkGhyVWqhp9d16uNma33JcwiApFQxBxBak4UlYSokIRP60QAY8slkAxbJ2L5r012irhLKEkJRVqmCnl/eHvaB2yeOshF87hgyF4nIXoNVlsCTpMxQS4SK6/9xUfKV6fGoigwvwEksRy882IW1V90cwcsliMn8IkzmkTrxfG/GxPnCVa37za+XVYrsRd5Itc1JI4N17+tTSly8fRHKpevbHvCuJ2u0iM/fGpNmLikCB196foRIRCOStUaWkiXK6Ja9C8cCPipzytVGnyVCgCjouK+1g70lGJwwAkkbdCEUS/Yz/+/jKRgnWx8vc+y0K0IsTPJfWpd4mfuJQKVaJ0yyTP5Isl5ROkVSjh/U2LaC2mLSFegz4VUGm8nR3fMMffdC15L3UyS2lAvGz/j/Hl86i1pSo9uqtGNVbkyDa2rWSEAypWevtbGTNeju9g/09GLKu1UpX2OYvbkiwGUJ/0HL4nWYyq/LNKBfz/AJUKUDlQqQCV07hKVTIjpCLX5/6vEJNSS5jkVZNoXKWSDoNxCPkzz8T5+PwGvs76xfc7Nhqw/Nyzkwt6y85f9b7u79a/uv+VsJL3FMvBGWjGMUtZebSRFlUqBKcwLPkYP6N4nsRZjQzv+BZixWfax1k+SLj1mePSoQb7XekcSeuajnGcFbWHhdBEXExItZ0ScfjLllbFgwqNESq/ZH7tigTwmBvCQTNetDBymf9i6xBDJPFoHuYkIubnKgwzgHT75zZe9X7V0zl15hDRNJiOCfG/E7BQDJrnoT8fGL5cUDfQc/nbtSXptuN/HMD9oT+V6vHwF5uh/yAtqlTEdaiMP5Xg4+8KRSi5RbU8okIRP4kKRfwsqVAE6RWKQMf3dKIfgzr9uvG7mjFSPJyZStz3K65QxOuSCkUoXaEIRIUifpauUARc8LjMZSlxxZR7lK02UUulSvnOabbvztdy991A0NnojMN9vC1lDj8mJqnXtP7Uhk+ixmQx/4wc/SmuADUOOZdUYW7DsKj00/2bWvWVlEeV1FKp7EzZj0rfAkxwsdE7R1ahANVg0Sk55be/oQ4t5V9UKIJaKlUJbX8ShLYr2f7BfWuxqBRYrmFGqqDWSkUAFapqVcX2l/oAamlAvGwg/h+0VMD/H4mV6sH+7QP2BExeJu/oz1WL5i6asyRkiRECC3Ix6fPHlrh342rHNp263mTBMMrFJc8fWx7FoGWe3/5bgfKM/qwm7j9kobjEB7dIUoMKF36Wd1RmKS03flgSOb3WIrI4KkzBRDiK6COwMB/DaWTxxCzKOMZBLCkwNwMln4KoZLZkj6WvN8QEuwUgJkOysR9HzSTFRv/AqjexbPiBGPFZ+rWk2BIl5a+5mtpndlebs7TaQYnChNVS64bEStXcf+JJolJJWibJnMA+G5KFkJ48FYqweu2JmUSlGmaBvCWLJZTMenHKj7k7DMdJK9WH1Aw74udIM0r8gWzUmSw+G4OLz1n5m1He7c9GJQ6XLQ8x6J+D/QyT6+YKFLEqvu19iKV8fy/+e+rwHByWa3uWEAh+PV8GpjGlPnTR2wT5Kum1PNC19YdCXX+clVWhCKoZo67bsMCeLKaUm3ePdiB+7spA5XpMptQZQqQwtLQonqtBngpFKMSw4tZD3gpFkLdCEXD0a3H529NQd5LQMvgYJlcrXjKG/O1yz+JHlKLf9sq89KPsGPW5ET96yQz8DfSpAJWrMOsL8ZgeYiYXyeES/B/OagLIIP58K7RUoudHJlEbj9wkKV4SRSd+ICYsZo6+JP/EErs6vWaOuyH3xBXcbW0SWJPknxiDu7n5Z9bUB/JPvLHRK501/YkVWVwJzvoG2eyZLyR2miXhrHPPYc+KlXvXyl3jls+a/Vru27nKz3tAhrOyNo89L0Hugx7Oylr8MpUKTX7cWpEKJXpzYYgiFQpNuNVLkQqFfnrQXpEKhX590UyRCoV9e+uhSIXCspNcFKlQeG6KoyIVCs/PtFakQuFFP6opUqGIubsUqVCQkKOjSIWCRFw2c+w19zKVCjF1jJcWLwnMMvpOFlMpnDxTspDS8O9JzlD1Bo/I4kpgX575IBZ1Y8jiSmAJN3siZo5lhtfIIoo9NZLWOnA+WVwJ4ZM9M+ntF8g/H1fkhqX0LivGk8WVENxYtIXeU/75xPgXZx1k+G2X+3oh/8zkMFq7ubOpfxMmnhEX4CcrU2m8He3fMSfclvtoibe7ayxz7FV3srgSvP2+T5j+573I4krwDvePZA4Lk/uOHf7x4TcZgw51JIsrwT819gKj3+5eZHEl+OemnmD03jyQLK6E4HLQfnr31f5kcSUE1xdvVahC3Vu7UpEKJXqwbb4iFUr09MA0xoB93THxF/tPpVKkQhEUqVAE5tgrHmQxpTFHnm1CFlMac8gxuSfoIjD67+lBFlMaw3fjYLKY0hhdl8v9gRNobWfPgRRAazZuFVlMaVQPyY/DlAZx7nCeLKY0xLr+05LXxZWKs8pF3Hl7J/e+lrvcAWMtkH9OJcUn6aopYs//KPfpDs4KJyF7fiLpmeoSRGeSPe+D3M+g54SIO6tz5e9bcMXbk6XI9lS0s71W3JkPlL/vxVnvKT5YeCl3344b2jiDNeOp3MOcedtaJTInRfw5r1n8wSlSoQiKVCiCIhWKoEiFIihSoQiKVCiCIhWKoEiFIihSoQiKVCiCIhWKoEiFIpSuUAQqd7VrPivojdx/lOJTG4J4WbQ+XrzXYpdrZKg0BTqTBPqAfd3IYkoD8bJpfXz/vd3Lpym0mwEAeYBKBagcqFSAykmsVKUnD5W0vLxmc69vOd/l+XGT5gujKVDFxxmVN/bE+/HLbc68Mm6+4An19zM0yVQzpeRkfUflOuqJFkKm3jRI7rP9VNteabxnkz0h83bZ8q4Pccd0Fo4wqsEQ6Q0FM+5977uu7vP7uHknucrvsv7JkuW0FV89p17aKyuuzIS/3CjdZKQp4meKJD4vwMwl50DhrovnbLq6eO3Usq8lK10+9ml7jVSriT+G21Beh39H7aTlEd4JWSuxUpWePFQej0I6T4FQJ7q8QxV2D6yz897GVxPaNIcek8US6jIouVt70E+Txf2Cw1Zxp6v7H/+8YP/6oOlk0RDEg79fHdDOqtmC6KykdnJfB0QoNgIMTZfrVEZBPr/4yRjyfOEgNJF+babXIgi6BIXEo83nOlMeSAstPeHvMEufGGIM3PO8OBkjTCj41bkt5ld8LVnp8hGHiZ+Jgnu5sqU+WhkXFOkxxB19lez+8NxoozO5nrZ9HaBXZLEl2kw/tfNcHl6ztyH8UWZg4UP9t3zU6FRf1m6ZcX/AuG2DfjH7G0AxY28JBu7uQD8hO54L67gNSMhKGlBj2n2h76YWNDnOJKMwF02X89wVF17T0/oYBbbmX86H7LvrQ8kywylOgkHNa991nBB2zKp1fbmfjY0gv1tAHJP7dICi1nSyPjU7okDqnBVowu0eVLdex1RSqSIo3jryVygMnnQqcdRq97gId8e+38iiIV2ffLKQsgTwyvs5Xf2hgz82dJgjR+tmhBl7TnudFebda1WLgRLnHi8vNtg9wH3p6/Vkcb/QobC3hQ0nOH57WYPtmEcWTTCbH7HX/pBPK/9BH+W+tHLw20v3RC5k1M3Q/XMCHzMki1dU/s1xLWffSOsnbTkaf70PUaGI11Irlbz9KUJrfSiVLOYvBN/Wr7a4r1AbUuROg36nuWPJYn6h4/NaWFyBIPkvpRW83CT38BqC/BWKQMEnuOo+giBHyFXcbJFFEzZ1sjwBdfpI0sL+8mfYN92dK37BJa1QjO4FEl9LUVK+fsddkbLiEHvviJLXKmmpgP9v5Ue4gEoFVFr5ES6gUgGVIjw7OYw6512ZngyYnJ8EiJeNVa5CEUBLBaic2ipV6bmRCFUx+8j/s6rc/mqrVMD/L1CpAJUDlQpQOVCpAJUDlQpQOVCpAJUDlQpQOVCpAJXTuEqFZbz+J49k1VaIpetLTZ+vS+MqVfH8VWOvuSPmznIO+vv/gn6M7ESp2fIGWVxV0rhKBWg/ralUpZ/pl7K151C7yReP/FpS9jmAmsxhwu2jn3a0H0K8xrNOm8PV+maS5dFGWlOpiAolyIgy77YuI/jW+ouTiDREx4GDFX1iE1dKHXSQvE9FkobS4jAqrnKiK8NbMbodCi9JvVEIVe+kC1WY8nnxK0HbxfXpd4nXJkPOX/xx1LfneT5UfRCTlszFhRTEcNh3zlndnsy22x/NcKA+Df0kaiwUrwpN+JAJ0XyKn3A135N9d8VLTtvas6N3JazxHrfnG+42xiwpoaRCEYgK1WH3t6BbYy1Wl18Hbac1lWrvjI4htlPPH7m1vukkUWa0WfN5jzcSFYpYhhQ/XBKrMJNLzcl3D3/c2naYuAmrMEtNW10orXwagahQ/Z2YsWGJPHenenXfSop5Fx7Z1LMt9Ci0+JFtIhiBqHhJhYJ4sWyiQhEvDYwNi58NOMYCfg2haIX1Q1H5prTWNlpTqUo/KJJq7p39eJ/3n0nISj9csrQWr8dbLLxwffCiXo6ybyIoeqwn0GlSRBcXZW+ml+k9evdRIvlk3bB7rUYbHJ62bep8Luetnr5l3UwYalD8cMiWLlZxxm2mPT6/NWjc8fmDFi66mDLw05tHLjDLo4jIm4vj9OgxnDUsI8ufnNwMQ5hSh19reuT+DxtbFs+Wh/+4YHZ3Qq+VslZLW2lNpVLGgcjEDiWvqaV2fQRa6TuFdZoUlDxaITm74M/dvfZdF96J6ArdIXZ/EKsWJz/j7Z9lke/S/zxYYOiK48uGroCKn5BR5kECJp453NwMg5K3JRWKAJv0yob+o1ReqS49/7bzedLPceXTSwaN/cvBYqriy6jY99JUX7K5Tffe/VJhMt1/uf1VXql6NLQYL6lSEZYMqE06A58iE279PyI7R2VrxoqStizI17GatGWqpPJKRSj/qFWCAZuaqg2H/f8Fkra/g7nOPR0G5Z/sctVSqQgUBBaipR5DNrNHzeqy4gHVYtKQPJ7w7ymWEa1tFJq9uTLUVqkW9atFL/m2TOxk704SDqjYvD5ORiXbv2cjCzmnDFANtVUqwrSuNWrfjfu+zMKQAa7jVYHgfrWYV55n7mhQ04D0GYmqpNZKZaJH/9CvmVV/sjhAPagIzO/V2ELup0ioilorFfD/iUrMm00WBADSEE9RQ2walDmNQSXmzVbk/nlVPGJeFhAvmybGlz/5CHZ/gMqBSgWonORKJUynL08wbyrvFI3L/TvsOPyO1fBD9MVGZLGEab5Nwm5lWdrFPzrnTRZbwoWB5L0jm3rwNxj+NYYbw3FEnrP4Hy4s79xyzq3NGe/vO5HFQtgXGkyxExAvQ+JFLebUkT57cIlZfZsfu5phXjP+4Rm5/t7Z/VsceYQ30X10arUvWawdE8lP4WHFzxZytzP+1G/Lk7nzejiFSYu/s6zLzHYLr60v/1qaMuXbm3z0mR62e+v0djLHgEmuVDQr8UaTdwJrFJ63/9bEBeIP76kIMmlMhX7IjhfAm84/Lj7N8A6FDFwo0E/Z8WKFD/QX92CcIgsr8QXFdaojEIcsroSg+4LHGb0WkFcoAmIrJEYi3JlYc2U7OSqU+BsKrzz9YOg6cXV8It4+XmTbB01grA67P4z4MrxGIUM3CpQnLfTB/u0DWjKh4tGjF4eabI5NyXFA366oA0HSZrLmwu1mT9hd8bVkpcv/dGNr69jkHzX5l4e1gaB2srKpYvdHwYmOmhUV4aSLMDZZNDHRK5q0ria78fYX/JxPhmTRhJa7TWdNIgv6QwRPXBS23J95JqPj/POh4hUSyQzHkmlTVqbOuzWqMDTfslOOCQzxZcb/tqvFk1TZm7YEDfcwoGTGF+oZY2ge+fam1Ob77X4ze7P98WdH9JforPGmXZEW2tx/4sk9AZOLh9zsPJ3j1/MINJXi4p+EE421xBaahUt+LVnp8h06TS4eOsQelRmGZkFmsvKR/5FyoCBsFMXkHMXIi9ahOM76yM+ZZSjPPOcf1zcdc3/W44X3xa/HDL1k8fNID5InilLxy8sGB0DQYGjiXUG/7W3psls4xE50bIH9IhoMcdc8EXVd7UUlPfLBkjfZnx4wbTtZXDHBLd23P9Hi0QEjrvKHHezKOEyW5exY1zUQtAyeD1Hk/nymDK5WvB1FL7bUpTZcqZYrGC6jTx9Hs27KrFAEiStd0icRxgrbLalPvSsp5g/0Ax3DuQiRR64+BtO7aHx3r3O30g0dPr246S4zVqzmzKg9+ExoDzE5f78jPeS6htW/Zd07CfQGlNjbh1uTxRL30L3fPGlos8PJEz+/kO8Zzyemz1k0+MK0kWRxxegdCv07N7wU/s3I/nPM7XqQHPya1oqkt1n05PjywbNlxdWjwXmvRZDBEfG2J3bJ9asbJo8++m7CFEjynPaiV4tcae5LXxOvhbHBbiWvywwsLKV0+au9aNfinwi7wPuggdLiS0isVGSZyqDUEigUL7bz8hOpTw2QRv551CEoLPKtfHum39pM27b78zRIzidKiNvAC1z5KtRv+68/V+h5zWeiPsj1gPE4IW5Y+v2rr3n2kiN/odZf8gbHl/z5rEq/lqR8+TJreClyN68AIC9QqQCVowpOjroiIIsqB8TL9v8UT1z7K59GFfeHJMWWwd3QMJM58lwTsjhlcbe3+cCaeK8WWZyyuNvbvmdNvFuHLE5Z3B3t4lkT7jiTxSmLt6vjW+a4G67qmpiDu6tzHGus+CAFRkifRagM7u6uMawxlxpCMEXek58K4e7r8Yw18nwTCKHIPn2kJN6B3o+Zw8JaQhSaIt83ufEO9XvAHHy4A0RlyvXsIkXxjg66x+i/twdMYxeSxSqDf2L4DbrvloEwUz+XLFYZ3MMDIki7VJzljiL2giTSOGUp+sR6Ram9/OUOGHvBJ9KbhJTFXeaAsRaqr3zO8pooe8FH+U4xKkHt9WeFk5A9P5EGqQlnZS0+e94HifcqqwInpA6XPfc9iyxOWdzVdQtZQW8VeV6dQrhr3PJZs+MM1LYTXe2Wz/Q/20RmBeKscBSqtZKpuxEB5csEypdN/eWLd3Lq3AmpuXzucgeUteCTGndyv3ai2PckZ6mNEHejdxp7fpL69lTLamDqrQTqrmSgfFlA+bKB8mUrX77Ehop/ZNA91vRoa0nLVIET4swRr4TaWnrOyto8tW7ElU4CdZbPXSE+XFJj+cV7Kq0u30HNOzl1l/9vv+SqVhXll2mocEGRnujB1vmMocfbQOogLNLl7unxnD03Xo5xfEoQctncnR3fsOclMMlClYIJ6dzNLT6x5yXSIXXAUQon1Ctd3JNVz+E2jiGcdZ7f1XdOCoe5q+vlqa98YifnUqTOc4K/dnLqLL8WX51fci5xzk6N5XPUvROVspP484XAMt/Xw3M+16K1DZpTPkgV0C/PmoteHJ2grqtvxHT+wofb5rOm3Hcgi1UG9j3RRXhrxXrW9Mc2ZLHKwPK+Ogguzd7HDnhuDqkBnv/Nhn9m4ml2YKwxWawy8KIf1fjHh99gBb02gNSBl2/EO+D3kD33nQ5ZqFKIneiurjFq28mJ+Ezu9jYJajsxj4mo3E1NU1nqurBA7EQ3NPqmtp2oGGeVS6G0nUTxLxW9OjMCsXZ/QnHufEZSUGUJIzcshQ2sUxi+mwaRxSpDFLUzCKKzixh9dyo8lFQeoqcHp4orGosx6GBnslhliGJP++N5qfbMYSdak8UqQ/Tuaj8s7VUjpr96hpigSeFd0A/3ujHHXPEki1UGmhLdCo09M4I54VZdslhlYGlxjYTRu2exJkfIdyuVgrDM+PrCiPXLWVMf2ZHFKgP7nlRHeHPxFtaMpxZkscrA89Ls+RdmHGHPfEl6Y4JS+IX6vP2+0ew576RenaQK765aI4zaFSgtQJUEl+fsJYupDMH1RVvIYipDcHfVKrKYyhA+2LyQLKYyRNF7ZpHFVAbRYyaLqQxR3NnhZDGVwRE36GQxlaHuSXC0tXyKQ7M7zAm3XWTFUGHbxpF08X9FJvhQBDEZCPETlC8ZKF82UL5s/5XyyajteBMAAEBVQEMFAIDGU6yhEqbT7fRsvo95Luwh7yRo8sPh5f4dt4ccixhp7dH59e3Ii23tGFA+WS758eFpvq1O7r76spd9o64xN++d62Cr0vL/IiZlczvODQzrw1DZnOU9WfDXSzyo1BVHBoThPLkmcpMXMeFb21Ehh0VmDfJuP41s5qoPZ5HlkUupyeFKk2sSF7mJ4Fl9Wx/dfvGJn13jHjF3ws+0s6ZBKry3TQTP7t/m8NYLz/p69Jx6/cGp1b0RVWx7Kd8p7ser9k3aDL33/ifbNPhw+BhZk9eRISa0a7/s23Jc8LLMrTrS0hUiZf0L3p2t1bzL2OsJuXSzUUuOrCCbHE8W4e0V6+VuqIiJ1Ih5r0omU1MtFF61aEFw8SR8+6HiE7JGCCy4KcAtySfjk4cAvnfjTgdi0r5Nv1NYMIy+EOHGck3eJ6/CB/oU6wVfTvRgnDpLFqugxwLITNFJARVRgwoXXubjNl9/LFD9lZ3fEw6WvCUmHlxW67pQdY2UEKbCTJSDo9R1xFxkYvoILLwtwC1IJyuUB5rAgGkeXAzjUNZA0FAiyZICc2+J66esyQ3JSPtOERMhLnaKEBGTIRLviQkREZP4bOzHUQU/Gy4c/YNhUzxJ4rJFy8nTFSNt/YmJFs+gvYyJyRaJ98SEi7TatxOFCasVvqrK3doqiTU5wlHuhopYIbIY5VHwOUtClhS/xPMpVjTDgqVx3DaqaaQIdLxNp643iYkgqU6BSXSjGj/Xhad2V2Uj9TDQdcF8y9N09GekITElG1m8YkRwLgbRJy46tvxUcN+5N9b0n9p74fXVRRiPTjrhpDywZFoyButMWflwXvhCn9nC9BuWDOuu6dkYypR3gkp5HelltP/SgMTnkQNM5Zt7UC40XPgzztDVgPLtXT5mBiMG6MEn2W1U0kgRKLX5dam8fL/dbwKJeQ3Tbs1rnUuFKUeeCX1kTZhJRtp3iphcc8zHun9OMhdPsplTwxSHjkqZaFMaFu5tAn0Vf4J68qUrRtr6E5N3lsxe9mx9p/Heq/FlaNZhBRtZYlxV3UL2nF83VMvdUKld4XM9in6LvI98jqF8M9AqgBet07Hr1vM37x7tgOOzivfs4ywpcWMPcQ3IJhmVBzERafN1b5eJD/ogeCb0a4jBGeaYG0MudieflFQeVDw7PcPS0NKieM/lO//82hEbKf6z7gp6k05iKg/ETqQjbvCOLfBZRLylWXXKGGEKxa95Kmonz6Sn8iImRx0e3qEXdsFUtU9dEtzSRYxG/cBR9M9gx4nWlNh7uzkb5JlUVR5vBH/nV7fusCwCF66izPem3ZSRRWnEhK2BO2JHTVzuOZl4T0zcipgP+aZYI1W1QlqZXDjiuJPzbu+NQehMaCdZfHly3esnSckkosVv3KjhxLcxWJ6JZeWBfqDDeo2KzxfVoMN/zhup7BwG07vo5h3XTsSEtYduvOxmWa/Nu7NvhZ08jJF0sqzyKJnctuQ90aM6OyDvmSrPURma4rnEhLjno5JaurTq//D2N9TTjAKpaP4iGC/EMNq9TZPG1p+/d51u7Xafwr+iTeyZqutxEogJd+vNfHqQLE5h9A6FuPAVi5ig98SdV50sXFu9D4sVdG1sRlHdA9TxXIpfM697l2Kyvfxmbt3Ml3f2bRmkfqf2Zc5s++W2DTER8IciA8M15x8PRL9ZWcouraLSEwUTiieEprrxhc99G0pKx4VxCo3Kl7b+OuPYAfOeCLtAkf0gYqLh4uW0Rjxc8FSuc2GSbjOSu6EqPzGtSikxobHCYF2MmARZ4aZdCcTEySofOUizFCg6ybKiiEmZs8X/yeKURUziPJgsSFmIsYiY9Hk/WZyyYCNU3kmi5SXrO8WwbZ9KNrk0mfKTT5dGNhG1PKSuf7TgrrwTV5fH3dgkVdJtRnI3VAAAAOrEO9Q/Utq9tKChAgCgaqECuuDG4s3M4WFSe6xUhGWQyzvg90gtk0GXAsqXDZQvGyhfNm0un9Z03Fp6p8VTZcVQiSe9q3N+GQAAgMoCh34AAGg8rWyogk8myBxPsnRAbdBDBP6z/h/rv1Y2VAAA/H8BDRUAABoPNFQAAGg80FABAKDxQEMFAIDGAw0VAAAaDzRUAABoPNBQAQCg8UBDRQJLfdGUuBeSeM0YsK8bYuoYT5YHAErgIh4Lz8+oTqnZ8gZZLCAdaKgUAOtbpsJGtp/I4gCgBCzkslFxQ0UWB8gGGirgP2uiC+tx/fM/p4+rTX/yN5WDGFPNiz4JCwwMYbVOCgCoEGio1ECYGV3NuWbT99UGbrgWtWf6kNLL9s/svGL01lezbiV8dG9nz/pzGCkrj2SFCBUxErXq6Xe16OUl55essRj/fWgtYgn/yvDWvvEd2z/cuXPw4FZWd56Yz+S8XNloCrHMGGHyB9ZBXmR6D08qirtW6/LzlKbiSoBJ+y0/70xrbtzr/I2Bvj7noy6f6TTnLa/tWGvklTgL7ECn5rees3Y78+lO57iPybUC3gjb+zKgryyYhhbgQlpxucJINmK27wuWd9iUKK+rFfVDinOPTLuiF5RbX93thWkXrYh03pttzuwGS2IH+LU+e+nk6b4b3/ObjnaiPSOmAF61elfgr7VB4fnzli8XYFwqRXxUJa0sQjUKhZeIonoG4k1b9i9iYzmiAlYXXeTr7B9Yo1YM6BsEaDzQUKkBzdw7K6kQM947o2MIwt7IuZ/0wc3Hiv6RWOa//vr8IbOiNjs76by399955u7msWPI8kimi+2c1Xv5zI1hs/OFOAOCtkIiKBQpaXTiki1s8z/et6uYTwiHvkN96DIap9IM2i6L8tLbmX38TITf4Qdp7YcUN1IQ9GC6w6J6B/Lm7RusvwWCZkJT7agvyMq6Psps/bUM1AnKOO/0tjjlCzTtvtB3Uwv8go7b5HfEnbYnjp8qnmN7jLPTo9GiZDoxBfCcOXNWpYcN6NHi3vD+KMalyC6Ldh4SXNP9rj+koGIj9dfx7V2neAQ9CPm8sflIaTGA5gANlcrh8OX4Avfuzvoxo0Nvzh0dCs0tWZLz5Hx9Iy/fOLpl08yPhZiRPHmkebPcc8o6dLPlT0EY8/v9BU3NWq5+VHo5giBSGiJY6uT0aHxIbarL/PdfUOzP8wMfXIppH5XBtydeh091XtrtTWSjKyOqbWi+Yk9oSyOvTGxw/FZE8JGx7Qvq2fp3OY0Y6PdTqajLIBvKmxVte56EoF8P4um88+58+GCLaV+5eYbWdKjw++trzkZutPfiRfjSRqybV9pcSHq8qsNkojE9fP3z78dF4XBNGi3/IV9ULak/dKlkXWWUBUH0LoWG+d31C6BDVD0pjxMbNvnqpl2Zl5tKWgZoHtBQqRyMEw2OpCXGXr6vJKXLyiON64KXW97/fm3aYnkUji//0/4wuh0K/9INCpeULwcTVZg4vwTFeW4Cjs8t04417/n3alXrzfHBJY0RpNP+JyaI//XUEnpN3rQalGcli+7zMPOS1/Pv5/WYX/KGVo+HoXl/6pypW5c/h77zn3I6/YmDaPiwzrV+Py8Pxj8KRRWfPyejLEIOijJGOjFetL5ZNHqYA7XUtuXBZlQTTrwQMzRV8TMLAfUBDRWgEhs+iRqTxfxrBxL5DSqmMvFsUZFcj20CNIfWNFSLwxJEGA7J9Sy1konFdJnUzNm9alqQxctLcHX+TpjOLiSLA4A/cIxCbTpuDVkYmSWnPvBRDKeTxRFK6r+hLu1zQDcHB7J4baA9DVX/2tTlZxMLBEJMlyyWRkE4Leoar2zpYrKCLJYMmFMe0ASL+tVi7LyZ8jw9lyehl1hRjWrs8JFtqrchi9MWWtNQERb0cdILf/NjUfib74ulxdSz1z/WzdN8MpOO5EmLAQBtNL6jXcPUH7zGu2+nlBoXVpalESOmWwPzSdVNWY+lxWgjrWqoCK1dTZb4OButXXY6saj8Mjsz1kM/b0s5xiABgHayMWE+JeZEXyQ+vCs/cXo9W/3jfk0t1fYw6qqkdQ0VgTi0Iz6sJacSBCgG0Yg0Ez164qi2ts3J8gLAf8GS4vr/97yVDpOS9V9tpAha2VCVWNSvNn3txY+pndzNAt3s9E+QxQPAfwlx3urYg7RL+ixqeveG5uPJ4rWZVjdUhMCeNSU+qx4A/h8Mbm7dgyzmv0DrGyoAAP77qKLEe8W3KlCd2lwlC1YGKF82UL5soHzZ/l/KBz0qAAA0HmioAADQeKChAgBA48ndUH0+Pb57zSHXT3dgfM3yiRIOW+BKiSDLo4j2hsgXzoSrFx+FdJ6S9WBZE/OWKx+JMC6FmCCNLK887KlwYYcj8bN2D6yzM+vBcnH5yx4JMT5V1qRxyngws+7CPofez2i9ixMU1oexhyxeXg3ocM62IryWNw36TharjPRjfr62c0VbBV8u2GCZd6rRLbtmCNSwfX7BYEsKnfNKJDKqBkM8smh5NGAi31tcy5oQ2sb0NJp5w5xm2VOl6+/ORH5YrXi89dpMr0UvN/cY3WiRaDWae82ELJ8sUr9T3ChdRKd9/idukaE9Q1jQUI/xrdWNojHrmrH+THMjHxRuYERPt5gWcPrayrtjcMFLlux0xUhbf+zT9hoUpwWJKUU5xrZMUUFrU0YyL+jtsceBdebJLlE6uRuqGn13Xsb6QsxhhkgiWawybudhtiWvqzUd+AKGQmSFKyxZhP+5R/DNi1fuiHHzHFVV4hJ1GZTcM4Voja1fWNXPkgUrBIffCmEDq7hT1fsvPbRXx7FF8s71QQHyTn5HjgfbDLlyNifuYF0XS4OvOTrOwqfZXFtVb59iWCoNoTXmoKiIDqtoJ0SoawJ/K8jn/50OBjETqWonB6GJ9FcCplGsuJEi3npOvbTXKxAOCYlHm891pjwgyy6NtO/UMEufmEWxgnb2DCgfgmjQ87w4W5hmwVmH/ZTrpvy/KPiLXNQS4l/Wg8UNEnm6YqStP+Iw8TOOTvzdtlChXq7sF2eoVInzgslL7obqX8Bzo43oJk1/HE/ieWAYByGLV1ab6ad2WsxC1p/Lw2v2NoRlzKIpp8KH+hSbhSkoHy2eDO81WbzCYJyHY8WVNOxiv17Ez2GmlPfM49wluzvQVTDQlQvjkAjWcRuQ8D5jQPG4tAlWlFdHTvIWF8+YqTIoTKfY87m4iKbKRopY/+PpsEtWT+tjxDuKeafMGlCa4Eo+ZNddH0omyUyO4iTA0SzqoOa1756Py28UuOP6dCsaXGRkiOSTZVUGgkAYhkN/b4THMfFrtX0d1GZNJ+tTy9K7uhbEFbhMIwsmoTENlT0VKTyQg9URYpgaPhEMNqJQ+INOvJ+4rV/tvYUfztTMQGGWuz6cSZZTLro++WheeKkZO1VNADMQhmhRREbPeS0srny7v6rJ0RxKrfwO9NNkOeVjhEVMr7nE2HPaq4KXm9y4iSdq7vqGuBW1oCl4qCFbbLB7AHvw2SsMcYtFFqsYOkSHUSzsbWHDCa66jyBeEisFhdk12FAeWU55eTL1s5tfTJvM7WTZdv/Amrs2eqzNPGMJS5kIsXIOfnvpjjB1i4YU8UycWJyftXXcv62ME2jNTAj5N8e1NJnC2C/8kFZzNlmwnBRuqA7nYU5kMcpIFpFP36I8BM9F/87lo1urbxKG91Xb1C39TnPH9iMLUggd52P4n26/RYs5jzFsjkob9JahCYsLIGgx8ZrlNPAjhg1UafkE96Wv1+dB0HqyOMVRcA6G/63LTEeuCFftDu8lH/tzPsr/xMdx/rKCFVThO0V352IY7/f6s6EEPmZYMZcCGN0LcEH3iuehpKUrqPz663fcFSn8ANWUFq8MhRsqAACAfw00VAAAaDzQUAEAoPGoeIXptyrCc7+odd5lvCjbHNYxU82JbQnwwmwLWNdMbQ+axAuzLGHdahlkccoC5cum9s+3SFy+jjrL/y6u/6bqq//q/n6pef2FT/bOIO1R4fxCfeHTA9NojUduIotVipCjwz8/4xhzyNF2ZKFKQflM/rkpYcxhJ1uShSoFQ6mC0xPPMkaeUc8z4nCUwgsbe5E16oJ6nvKCYwj/hP9V5pgrnmShysFh/vHhN5hjr9cni1QW7+iQO6zxN13J4pTFOzzoHmvCbReyOGXxDg+IZE24U4csTln8QwPuMyferU0Wpyzeob4PWBPDa5HFKUv07Mhk0oaKG9o4gz3nnQ5ZnLK4yx1Q1oJPCg5kkx9neU2UveCj+spf4Shkz0+ikcUpi7PCSVx+ovrKX1mLz573Qeqz/iqLE1KHy577vtJXlqThrqpbyJ5L1E+Y/NBACdw19X6y5xHrr57yOes8foi3DxOCpT0wtnK4GxplsubGsyCkcgMupeFu9EoTtw+6EIWhkjsMyuNu9E4lfspsqLDM9/UYPdaNkBVTGWhaTBPEuYtqB3GXgmW+c6c4tlbL9BQELOdTbYp9kwiyOGXhP9NtERuPaLI4ZYkPySwQc2e1jAUi4JwcM8S4xgeyOKXxCwxgfctUdTUikJDLhliGP9RWPipgwDQmR12NFNEbL/6ppkaK6I3jIgFTXY0Usf64kFvcSZLZUPF2d36lzkdF8ff3VuujqHi7u8aotfxtbd+rs3zu5mYpai0/1CtDreWvb5jJXvhJpeOZSuOsqZ+r1vJX1y1gq7O3H+JSxF6QRHpUoyzOyjo8tfbGid6yWnvjzhyifM6yGrjUjSR6dXY4c/ytutKWV5boweaF9K4r1TbPs+jx7kB6x4UBZHHKEj0/OpHeeuZCsjhlieLOD6U2m7CKLE5Z6PsbvanqOu8ohn560IHq0X8fWZyy0K/PfKiuPVRw+5BkWPrrBpRaHS6SxSmLOFqh1PS5TRanLDwn2Yli2/AhWZyy8PyM6oil60uyOGXhBVlWSLU6f+5Gk9pQCW4Eb2UHvf17k6eKCSJCl6pzby64E7JGreVfX7hNreVfDDiszvL5pyecVWv5x4bdVGv5B/s9UGf5vH09nqu1fDUfrXC3tf6g1vI3Nf2i1vI3eqWKy//TW5bYUAluLN7MDnimskehl8c/MvAeU41XUfgnRlxnjr4s1xNllcE/Pe4c0/+ceq7yifEvTD/KGHxMPVdBIeLR9HP2MAbs7U4WpyzBzSUbGb23DCCLU5YgfN1yevdVo8nilCV6tH0uvdPiKWRxyhI9PTiF3jZoDlmcsoRxZ4fTmk9ZRhanLPTd1X7UJmPXkcUpC02K6ExtOHhX6TSJDRX2+VE7iMaeKmmZKmApz1ogpo7xZHHKQj8+6MAYeLAzWZyy0Pd3ejH67upNFqcs9M2lQYxeG9X2IFXRy1Oj6F1XKT29BxnxF3EaveOi6WRxyhI93DZfnXtzwb21K9Va/s0lm9VZvvDirIPqLJ9/dnKYWss/MfJa+fIrNFS8g30fqrO3ww1t/I01L55NFqcs7qYmqb8uV6sHd0uLT+ygVwZkccri7mj7njUrxpQsTlnEIQdrRrQ1WZyyeHt7PmVNjbKF1IQnPuRjTlbfmB3+0aG31Tnmix82+jLT/6J6xsRBxY3IKcawk63I4pQluDTrIGPggS5kccoS3Fy6kd57a//y6WUbKkxEQ4xsKz8/kzTE5UYMRSCEJiALVQpxx7yAw1bb5VICJ8cMousWkIUpC89Lrw4zDXLI4pSFff9UW52jxLGsd+6wgeVXsjhl4Wkx3oiRvVombySgKY9bM8zrxJHFKQtNvNeF0V99h93ou2t+jD5bVTt5RymiuLPD6GocskT0xtkdg6eXTy/TUHE3NvnKUuO5qV+XMxPpkJqo/3KpugcvuhSx58arrze4xu334EX14Kx1z2HPTWCSxSmLGO5QPHhRTbihXulqHdxMDDchBkeqCXdbq0T27Fi1zYvG29nhLSvgZTWyOGXxD/SOYk55YC9p2Z+GCi/4Zk3zmbRSUpAq4HmpNRBrT3UOXrREzOvGksUpq3jwoolDAlmc0nj5hpCB9ReyMKUVD140/q7WwYsMdqFaBy/CsHoHL4r/BohC55OFKgeHiz9jKpNLFqksvDDbEmLo/ySLUxaW+6UGzDZSy5z9BDT9dSOGoXWKpGV/GirupmZf1HmrCXdL80/qPAFXvDdUZ/lqHrzIFfdGWGosn7OqboF4/dX2+ap/8GJtPnu+GssPqc1Ta29/pbO4t/9efb1Nojeuzt4gMfh17nv1nVte3yCbPT9B6tFQ8QePfrzfkTk8TD037YqJXp8fSvOZrLbeGhp/3Y/q5R9KFqes4sulngN2k8UpC0150hJx63WULE5ZWFpcI4pzRxXOfV4Wlp1Yl+LY4iZZnLKwnM+1ELvGkWRxysJ/ptkhVvWekcUpi5jdAanm9IYsTmm8fCPYsPonsjClCYt0IV3zdLIwpRG9ZYQi7ilL740XN1T8k/5X1HljreCCmgcvnpl4Wq3lS7hcqkr8wwMi1Fk+b3/Pp2otf2eHN2otf1ubBHWWz93sk6zW8ot7+2rsLa91/6HO8rmr3fJZC9RXvjy3+lCFD7fNY02PtpEVVBmC89OOM9Q1hYuY4HLQPnVeRRHcWLyF0afi5VJVEYSvXUHvuWE4WZyyRA+3LKB3XjqJLE5Zoqf7p9PbzVHVHP4VCGPDRtFaTF1CFqcs0dsr/alNx60hi1MW+uFeN2rDodvI4pSFJke3prr7HSCLUxb65VlzpG63MLI4ZWE/U2tQqntGkcVRheHrVhD/yQIrQ/Tm0kCymMoQxZ5S5Vz7FYieHZoMnZ2stg+LILgYcIgspjIE14PV9mUhCO6sUtuXnSC8v3kRWUxliKJ2qa2xJYieH55MFlMZotjTav0OcN5cVtudBvL0ZqnyBiqLuPMZlC8dKF82UL5s/4XyyWIIaruKAgAAoCqgoQIAQOOBhgoAAI0HGioAADQeaKgAANB4oKECAEDjKdRQ3VnWZWb7Zd+W44KXKr+DveDd2VrNu4y9npBLNxu15MiKrdPbrSbLo4gvd7c0bz9kwYlUnq7u6KWHl2+a0lYtMxQW3J/prd9qRxSOcVQ3kjf/qAlsMLTMzaDdDubMuDzcaKOUHErgICPbNr56/NHX1r0Dd20+sWyAysYVbW7JOD/tvqBXmURaIx4ueKqyevTt0e7GbfoFnUnmsA3Grzy+aMOElhvJ8igi8/Hehq39As+loWbMTVef9BnRwOgBWR55SPtOrRnTcevig/fG1mw5JOrJnQPt2BCk3M3YwnS6nZ7N9zHPhT0WuFIiSNMVJHn9cXi5f8ftIcciRlp7dH59O/JiWzsGlC+9FNmI25vkbKhQuIERPd1iWsBpcZUgC1YY9ml7DX23Be9SinKMbZmigtamjOQmwrcGjwPrzCPLK4+CW+Nb2PtGXcsv/GmkC4tEbcTle+TGWMUE11Pxwx8KENM2h+6TRSkK/ZpsRnGc9UmUuLYmWaxyMNiColu04GlOlwMNDDvPaqB7z51SZ2PsYvfpZDnlMTWS71t6utj04317Nbo2QGWj8UVxy+patT0TIeLl6oj3DvgkF/pjj+xntjHB9VXy+QpeLqpn4bM7+ocwV8cYzhPZ0IzzhZ9EPmNskRiyvNJJ/04FOtMf3m5zKokjvElPuzGzrS69TiEmUPyG5s+nx3evOeT66Q4MKEuedMVIX//2hpQUzoSrF4v4t5hZD5Y1MWex8kQYl0IRfzZSCpOKt7fHM+boS43kbKgE0LYkYWNv3at58Mq7Kp/CNvkDZr/6Ulx/WybR6lKhGwcGj9SddWAXFLhaJQ0Vx3po5uP32+rpwpCQKP/Slp6TjNddXgkF1yPLqpBZdU0jQ15nt51Z10KlN9CiqSlmFJv62WRxyhI8CGiUU29J0uQGhuHE+3UvCtuQ5VFePmI75MZZHnZaZfeWPj96pJfpkM1Xkd9fhA0r+y7UDTq+A1JRQ7VhfMjq7gczZxojEB+CDKGka6M76fdcfmRMTHAlns4s7TtVhGx4DzUVxPdqTryz7rT+rge0gXOhELLvpQslSylMotSCejoYfydzmCFSZqJBaemKkbb+KNx2WtC+2Us6LyXeVWu+8LEhFCx6IYKMG1OhH9JKkwgV0hFz5+JJDOVsqFi4twn0VfwxqeWpNA6dJoeXPs7Yuf78ZO/xMSp7FJJ53WYJ5r9f40UpOh4jLxxd9zKsq8xMCip8MMtrj2kI9acz7eFMsmAF5X75YsW07pi9PnD0ynsf8l0Hzdm4YXATqwiyfPK6sefQkJbj3h4PHtxi/9qzMYO6TNm86+zakdPI8iljfze7gwPOJI8TVzyVzVvlNXv17u9WU7+K9n5AiHID5p1eNnB1RghZPnlREHGXE/47jxe9Zu004duT4t5tsKxsJKR8p/j3dDCqi6B076OXK+3Fmbv81r16MhS6p6+5/8STiqQrRlqbQMHnLAn5e28mmkT/CbGoDaiQwrPWcjcRE3k+L/7qytlQ/TvP1ncaH/CuaXM0wlHlD09oQoe/Rwthk0bdJ12f4EJ7TBYvv0LEpNXuh4VoPkO8ecmCFZaanGpXcG5OW+/XT2aPYaTkezrZvF019eGJ16ubTiDLK4/PyRzb8JPu405wswyWHoP8Z3jqRpgP0r+UebxPD7K8CsEzqaOvI4PQKyYqO+wjwKa+2afmHV9Mg2GUeF/Xd+71V71MFPpSyzJtS+D8oCb1nhYO/rJDFxaIWjReEAFh1dUytxeen6UDISZo6TQzEyTnYVaemXiXKy2bZsLzKVaMWnmb4jgtFD3swwsyrWilnmupUQ3Vmk7Wp5ald3VFs3abkcUq47EAL35oQuaZwV2Z1QZnoFnHVPLJB7qaRK5+W9iS9quXoPL7ohqseLsGWwH9vunXBEr6ccEO1uv9A1r9TSUNlaEBnF994tnjphSoeK750OgLXTeyR+dCx/uQZVXI62UdJ9lNPn8UVrDSkomY6rA0oHBzHRw/XbztC+5O8qFbjkxDMw5YkeWVB73Riti3J6m9a+ozvxt59Hn7+NPBxsbme5LI8ikD1jcvgrDsMo3gtyzUzNzCMFNaHk2E50Yb0U2a/jiexPPo60B/RRZfXvG0zaWmntKYhiqklcmFI447OQU3+qr8CTgbh/bazlpw9tC42pQnxHvzHiMisf5DTMjyyQeDN78VNBM40x/NKJUKwwjOwzGquItVZu+oFIyP5KEMuiHtV0MCwRSc6GKT5JJbV78OF8YdeSs+Ym3+KwETIBDMUFn5JSateDV/zfcW3mRxijp+KsW3x4mOfw439Jr3icEy/VSyEyrh7LfkSqbfkuKnDyWtazrGoMd0lV80KcZoW4iI4unELHIlh8dh70QNQtsxhpJl1RiFz/WoJm2+f+RjBvY0SOEHoWBfnjVnDDxY5kk3GtFQ5d8c1zI4fbCbMKKvWq5q9fLhPXJo2PDO4PwYY10YF03y6n1Nt+XKp2T55IPgfBwvNRSBK26jTFBVDk94Htxoptdei0Det1sWNEiId67Z84XT5DsqmxHUdPiJC9hIvdNXvvo7d6tOjx9Z3ze89tS7h8nyKUYEPxbAprf0oBSySEUFzPTa6jrEb8vWtItniPdHho1cz2wYqLInyaCvl7nQvM4+E3Bi9SiFb3VcZkfvjOX3U9GOrjwWvsiTeqfeqJPH3u0bMPDD8RF9EuheSCcWlEaWU1PYGzbOuJOH2SnTSBF4xESS5aZFl6uhEr1a5EpzX/rnOfDFJxapbnxcGKfwJVNJdi46MFuUKHSA4S1/9+IqHGdjP+7GsXcWq394WOqnfC1i6g+cuWtzweJBKrmi+C80XB63NtI2MNPBmJ2Vh1SDp4dGB10f2nAvWT756WAC3hd2tya1IvskFLr5L728/H2Aj8pORv/CgUUQFaap8CR6iTqBUbue2yzNqmmun5HGYej1nbZuO/fkcA+yfPKiuC1893xHob+1HiOXYuOV+SwXtXahQXlk+WSR9Z0KfsHtoDuu4yYmdajQpePYcH5RtFLPkaxHg/Nei6Bfed2o4QvFP4Jjhe3ON6SdlZS+pD71rvTSypK6/rwz+ikortPGAC7zyLSQeFGLOXUopGPPRC+OTmBNCncqny5XQ0Wtv+QNji9R+bmXErOjBV1VNrpQijo9g24k9gxSyTkL2Vi4KntTJXzGrj38VfyfLE5pdBv+lRfJKj8s+0sfw3GB2uqQ+8Dg8x/F/8nilOU5fHVYpvg/WZy8yL5TAbtuTgvYBVXqymucEDeUlL5ESroiZK0/juNKf87Ce2tXUhsM2VE+Xa6GCgAAQN2IWWhZ0yU/xRs0VAAAaATsy9PmEI3FkbQMNFQAAFQ5/pFB95jjbki9VQQ0VAAAVC3iuX5sY5m3iIGGCgCAKsXd3Pwza1qUrawY0FABAFClqJ6DSJ9CXtxQyfvIGmWB8mUD5csGypdN28unNZ+8nCyGqs5ndgEAAKgCOPQDAEDjgYYKAACNBxoqAAA0ntY1VJHvfsy/G/dd6sm3pQNqg3NuwH9WSjbXZ9/dL1Jv7v2v1n+ta6hkoVFg1U+vCQBAlftPNVQAAPw3gYYKAACNBxoqAAA0HmioAADQeKChAgBA44GGCgAAjQcaKgAANB5oqAAA0HigoQIAQOOBhgoAAI0HGioAADQeaKgAANB4oKECAEDjgYYKAACNBxoqAAA0HmioAADQeKChIoFlxteHMBHYToByYAqKWLjEkoUBsoEvIAne7i6xJa9ZkyNryggFgAq4W1t+BI+kqzzQUCkANrL9RBYDAIDqgYYKAACNBxoqAAA0HmiogP8kPOtaNVq97a9F366Yl06PWdNq4pjcpS7PQ1pMlpYX0DygoVKxlK09h75se+Sdr7P+i7JLMLjRgJVnn55c0AcWf4/kywMoB4NNLHt8zUFFuuWXeMyO2O5kQYk/O1Pk1McUTpSUG9A8oKFSMbvJF4/cndl5BbL1VdSthI/u7exZ8b+WIHjUpnbjnXSRH9UGbrgWtWf6EPI80t0cV311v5vmg7p5W0adCLva714BZtNKF0ojlhkjTP7AOsiLTO/hSUVx12pdfp7SVPxBY/wrw1v7xnds/3DnzsGDW1ndeWI+k/NyZaMp0n8LDjszKTl6bfyeWws/4xcfG3thhTcNiCUZ50d0tpuUdHDtrPZrgjfemVGQW52NFRw3LjjWq3vzpKVtYhfVm0HETbWjvmj/QdSzOwNK5b3Z5sxusCR2gF/rs5dOnu678T2/6Wgn2jMirqsV9UOKc49Mu6IXlFtf3e2FaRetiPQnR9b2DU9Di6+2plxb1+aNb3T0gxmOwbLKKrg0si1l4Okb+hAklPRXHY/d3ZbWcFqUKHmzvaTlgOYBDZUa+K+/Pt9/PTR/74yOIcjuxGmJ+Z/Ma1KgApq5d1ZSIWYsyIgyd9BB8hzHnz52a32fSbLySPsdHXd9DfoJQUHE662du59st+nt9Bfz6wb+WsqHuz/F+3fShb6Wz3dzU/gwNPW+Tfl0yfLgBKw+E7t2qn35Je5+R879QFE9PQgSTWoH3aA3S5D69N4STu7Tn/NFQhZN3GhCB6eMRvS7ZY7m3tTj3Z3YLGnIw/CENd7jiLgZDtSne77hbmMs4NdeQwNPexGJhY/1KWvvBaL3HTvIKotYtnPliRmBh/evlLYesMXwDDhF1xaHNsPle7eAZgINlZoQjVHIntvjW4/aeax8g3N4zZLpybgt/fDM7hvkzVMemvnYrHVrv7sP49PdiG9a3QVLtv5dikBtfveuyrPsOTBCUrpkRtjLHV6jEBjGG/Sff+HxyeV9iJ6ZuKMC/8DoDKKRIqKozq0+Q1ACSVkCOB0VsekwjP5JotgV93jCj5/u/WH/jrHwWmhsyaKpH0SOkAXt9a93GGxj2DIjSygwJiuL8C4RrdnHjpIMSUXFqZAIF688TAMNlVYADZWKiTKjzWrXbPqhWv/11z4WYkallxG9pbHb4wJuvP/ogYWy58qTRzIUZls2//YdExU3FoUnenfzfgd1/LscxqWNMEQQBJOySCL3UTuPY+L/GQ83e9Ep1nwMTaMRDSECoThKjLsmvuiivL/1SNxHwfG/vz7jB2by6xWRh4YLcAGFUq5xMLes9q1RyIPVT+fUmQNJENLU8PLUlwVdTWCIT1YWoZYDJTn+C2rXzYkisbEWbzJYBFFgKmiktAZoqFQsPznDiji8q3hIgcPmY0+fwkL150LlSM8jnbgtgJHiVxjcYfyF3dDUBWdJspBqREd+vG2+NYFzd2LT4gTsC+1joY1BTX3ku2Wzoc8p+DwEL26KKLh/dSxu6s3sAds6mp04MHhCKAS1Ks6i06TlmzezVuyGFp+ajuc/MzhXhNsNK15CxRc3ot7ymXNry+NVHSYTvbLD1z93Hda51hXPRSe2PGd6F6YF5C23pkOF319fczZy6/KeaISyr4xuv6PGfuGXeoyIv2sqvSxi6cSg3ptqLb82K/BQ996QBHjWMXPMSnz4p8D2BqoWaKhUzNjL95XkJTDe3Vk/RtIS6XmkoeBpD9Z627NpeTp1eyTGZ91ybrQcWk6Wi0z3xmZRxt19nv9JgFnYnB7uJy8/etvSxKnZpyc/8quXfLl3finyHNjEOVx3KG3LzdhzPlDtzb5EOlJj+udTIx5uZdOZ/Gb+649dGmGysaQLN/8pp5Pt/EELDVndOcY1GyavPHJpdPECWj2eKOtetdbuVlFPM3C7ToOnnzy3tct4YlHX3vtOfhXuM4aP//q9zO6HwrmXhrWRWpaYgd/xG9x+jEtFh4RUnd+Hp6UN9/C/c/CZsFQPFNB0oKHSUmY+059mc6b/ufz+Zhn05+pdjviQUFIeRrdD4V+6QeGSlhGCH2Z2L5MAm6GnI+LaSY5m4Ccef2pV/FL4iF16SZ+VZ1b0WQmt+PVuUplcQ1ccXzZ0BbQMKgcx8cyJfJder3z6UwFuUj6thLSyiCuseV/D7Bg2finC1DPWpZe82dRhdGzfG9GHrZA3FfMBmgo0VMB/EmLdO12Y2rtMI0VwnXZrbxwE7ZWUB9BcoKECKo/WjIMVNDMmCwMAZWlFQxV8MkGuk55CFGeVjjXWpX+c3q2Go6w8AKDpxHWaOM0n11Qxpes/FYEFwf1qSTwNoG20oqFqUsto4+MPudPJ4kqrY617oWcji3FkcYrgHx1ymywGAFRtRJvqbQ/e+3qPLK40Yz1aYveGFhPJ4rSFVjRUnT2rzXiamDcJxXEaWWwJnhAz0mFSssjiyIBJz4Cq5lCNHU6nIhyBCCtz0UIWgRDXq2nOvkMWpy20oqEiBPV2NFt5NjGPLI5AfEDDW1evcNsHAGirBX5OOvKeAnG31z/i6205nCxOm2hNQ8WkIT9tTFhPUn9wvWTFVTNgvGntZrpYVgwAaKOWdU2WR779sUBWjLjnVUR8B/5rg1m1pqEijG1v67047IMQw3Gp680ToEa2pqxH0pYDgLZq62a68GF8ThCKST8FwqAh+T7OxmukLddWWtVQEcZ3sGu0/WayxBHe9ez0Tvg1sRokaRkA/BfM6+NouOx0YpGkZfXt9I91a2Q+QdIybad1DZWFESOWSUfyeALMsHQ6k07JsTVlP5SSDQD+E2gUhGNfjR2RnMVpVX4ZcbGJQUVkzrqhrbSuoSLM6+1ktOhkAl76IJwCQ2hjJ8PtUjMBwH+Ef5vqrRefShBgGPTnENDamPm0X1Or/rLyaTOtbKgInT2qTb8Wk7WReO1RQ/9Q94YW40myAMB/xuTONdw2X/38nnhta8J61NPL4s9cXv9FWttQedc22nQzLns1huE0GIZFVArMI8sDAP8Vpnr0BB0GJauIj1bjCFBTM336O7I82kxrGyrCgj5O+puufkro1dhiNAQA/2eCfB3NN139/GFq1xp1yGK1nVY3VBQEFgR0r1mDLA4A/qumda1Riyzmv0CrGyoAAP4/gIYKAACNBxoqAAA0HpWzrMZ/6p4gAAC0izwzlFDlDVQW0RCC8qUD5csGypftv1A+WQwBHPoBAKDxQEMFAIDGAw0VAAAaDzRUAABoPNBQAQCg8UBDBQCAxlOoobqzrMvM9su+LccFL1lksYoqeHe2VvMuY68n5NLNRi05smLr9HaryfIo4svdLc3bD1lwIpWnqzt66eHlm6a0XUeWRxkF92d667faEYVjHIQsVm75R01gg6HfSyd1O5gz4/Jwo41SciiBg4xs2/jq8UdfW/cO3LX5xLIBs8lyyGtzS8b5afcFvcok0hrxcMFTldWjb492N27TL+hMModtMH7l8UUbJrTcSJZHEZmP9zZs7Rd4Lg01Y266+qTPiAZGD8jyyEPad2rNmI5bFx+8N7ZmyyFRT+4caMeGIJG0MmQSptPt9Gy+j3ku7LHAlRJBmq4gyeuPw8v9O24PORYx0tqj8+vbkRfb2jGgfOmlkJOzoULhBkb0dItpAafFVYIsWGHYp+019N0WvEspyjG2ZYoKWpsykpsI3xo8DqwzjyyvPApujW9h7xt1Lb/wp5EuLBK1EZfvkRtjFRNcL4Asr2IKENM2h+6TRSkK/ZpsRnGc9UmUuLYmWaxyMNiColu04GlOlwMNDDvPaqB7z51SZ2PsYvfpZDnlMTWS7zu11Pv04317Nbo2QGVPSRHFLatr1fZMhIiXqyPeO+CTXOiPPbKf2cYE11fJ5yt4uaiehc/u6B/CXB1jOE9kQzPOF34S+YyxRSROiS0f6d+pQGf6w9ttTiVxhDfpaTdmttWl1ynEBO+ZUgqS6vPp8d1rDrl+ugMDKvPYOGnpipG+/u0NKSmcCVcvFvFvMbMeLGtizmLliTAuhVKJB07I2VAJoG1Jwsbeulfz4JV3x5BFKyr5A2a/+lJcf1sm0epSoRsHBo/UnXVgFxS4WiUNFcd6aObj99vq6cKQkCj/0paek4zXXV4JBdcjy6qQWXVNI0NeZ7edWdcikixWEWhqihnFpn42WZyyBA8CGuXUW5I0uYFhOPF+3YvCNmR5lJeP2A65cZaHnZb7GY1knh890st0yOaryO8vwoaVfRfqBh3fAamoodowPmR194OZM40RiA9BhlDStdGd9HsuPzImJtiVLK900r5TRciG91BTQXyv5sQ7607r73pAGzgXCiH7XrpQspTCJEotqKeD8XcyhxkiifKkK0ba+qNw22lB+2Yv6byUeFet+cLHhlCw6IUIMm5MhX5IK42MnA0VC/c2gb6KPyY9skhlOHSaHF76OGPn+vOTvcfHnJCaQUHmdZslmP9+jRel6HiMvHB03cuwrjIzKajwwSyvPaYh1J/OtIczyYIVlPvlixXTumP2+sDRK+99yHcdNGfjhsFNrCLI8snrxp5DQ1qOe3s8eHCL/WvPxgzqMmXzrrNrR04jy6eM/d3sDg44kzxOXPEwslh5ec1evfu71dSvor0fEKLcgHmnlw1cnRFClk9eFETc5YThP70Bes3aacK3J8W922BZ2UhI+U7x7+lgVBdB6d5HL1faizN3+a179WQcqFCMDM39J55UJF0x0toECj5nSciSP2/RJPpPiEVtQIVyoEqQs6H6d56t7zQ+4F3T5miEY2+yWEU1ocPfo4WwSaPuk65PcKE9JouXXyFi0mr3w0I0nwFBXLJghaUmp9oVnJvT1vv1k9ljGCn5nk42b1dNfXji9eqmKnniyOdkjm34SfdxJ7hZBkuPQf4zPHUjzAfpX8o83qcHWV6F4JnU0deRQegVE5Ud9hFgU9/sU/OOL6bBMEq8r+s79/qrXiYKfallmbYlcH5Qk3pPCwd/2aELC0QtGi+IgLDqFLJ8ysDzs3QgxAQtnWZmguQ8zMozE+9ypWXTTHg+xYpRK29THKdFZQ77CBrVUK3pZH1qWXpXVzRrtxlZrDIeC3BT4mfmmcFdmdUGZ6BZx1TyyQe6mkSuflvYkvarl6Dy+6IarHi7BlsB/X5WmwmU9OOCHazX+we0+ptKGipDAzi/+sSzx00pUPF0zqHRF7puZI/OhY73IcuqkNfLOk6ym3z+qKofjhkx1WFpQOHmOjh+unjbF9yd5EO3HJmGZhywIssrD3qjFbFvT1J719Rnfjfy6PP28aeDjY3N9ySR5VMGrG9eBGHZZRrBb1mombmFYaa0PJoIz402ops0/XE8iefR14H+iiyejMY0VCGtTC4ccdzJKbjR14UsVlEbh/bazlpw9tC42pQnxHvzHiMisf5DTMjyyQeDN78VNBM40x/NKJUKwwjOwzGquItVZu+oFIyP5KEMuiHtV0MCwRSc6GKT5JJbV78OF8YdeSs+Ym3+KwETIBDMUFn5JSateDV/zfcW3mRxijp+KsW3x4mOfw439Jr3icEy/VSyEyrh7LfkSqbfEgPiddK6pmMMekxX+UWTYoy2hYgoni6CIKTk8DjsnahBaDvGULKsGqPwuR7VpM33j3zMwJ4GqeTxXRrRUOXfHNcyOH2wmzCir1quavXy4T1yaNjwzuD8GGNdGBdN8up9Tbflyqdk+eSD4HwcLzUUgStuo0xQVQ5PeB7caKbXXotA3rdbFjRIiHeu2fOF0+Q7R8nyyct0+IkL2Ei901e++jt3q06PH1nfN7z21LuHyfIpRgQ/FsCmt/SgFLJIRQXM9NrqOsRvy9a0i2eI90eGjVzPbBgYR5ZPXujrZS40r7PPBJxYPUrhWx2X2dE7Y/n9VLSjK4+FL/Kk3qk36uSxd/sGDPxwfESfBLoX0okFpZHl1BT2ho0z7uRhdqpqpAhyNVSiV4tcae5LX5e8Lz6xSHXj48I4hS+ZSrJz0YHZokShAwxv+bsXV+E4G/txN469s1j9w8NSP+VrEVN/4MxdmwsWD1LJFcV/oeHyuLWRtoGZDsbsrDykGjw9NDro+tCGe8nyyU8HE/C+sLs1qRXZJ6HQzX/p5eXvA3xUdjL6Fw4sgqgwTYUn0UvUCYza9dxmaVZNc/2MNA5Dr++0ddu5J4d7kOWTF8Vt4bvnOwr9rfUYuRQbr8xnuai1Cw3KI8sni6zvVPALbgfdcR03MalDhS4dx4bzi6INZJUlTT0anPdaBP3K60YNXyj+ERwrbHe+Ie2spPQl9al3pZdWltT1553RT0FxnTYG8NfS8SHxohZz6lCUHnsmV0NFrb/kDY4vUfm5lxKzowVdVTa6UIo6PYNuJPYMUsk5C9lYuCp7UyV8xq49/FX8nyxOaXQb/pUXySo/LPtLH8NxgdrqkPvA4PMfxf/J4pTlOXx1WKb4P1mcvMi+UwG7bk4L2AVV6sprnBA3lJS+REq6ImStP47jKv+c5WqoAAAAqhJoqAAA0HigoQIAQOOBhgoAAI0HGioAADQeaKgAANB4xQ2VvI+sURYoXzZQvmygfNm0vXx5UHFcNesgen54kuD6oq1kcQAAAACgeYh9ocqHAAL/R1RyikoYvm6F6PnRCaxZMSYwy7BS085UBf6pcefRhFu9GCPPNqPYeEaRxWsa/rlpx9G3lwYyhp5oQ7H3DieL1zSCy0H7RLGn/BkD9nWjOLW5ShavaQQ3Fm8WPTs0hdF7ywBK3W4qG7z+rwjurV0perR9Lq3b6lE0j377yeI1jejhtvmC8HXL6Z2XTKY2HLaNLF7TiJ4cmCa4tXQjvW3QHGrT8Sqdgf1fEL06PUJwafYBesvpi6ktpv2dikxLoG8uDuafn36U2mTcOnq7uYFk8ZoGTbjdk39q7AVqw6Hb6J2XTiaL1zTopwft+ceG3aLW9ztI77F2JFm8pkE/3u/IPz78BvG60h0qwaXAA2jKk5asgKeWEIXOJ4vXNLx9PZ9iGa8bsqY8qAEb2iSTxWsa3sF+97Gvz32YE+86IyYO78niNQ3/6NBbaPLDdszxN90Qs1pvyOI1DT9szCX0w53uzFEXGiNW9Z+RxWsa/tkpYei7K/0Yw062oth5qXQC7X+BaH9Er86MYAw80IXi2Oo6WbymEVwP3iZ6fmQiw29rP4pz19Nk8ZpGcHfValHUztk08Y6QWr/vQbJ4TSN6sHmhICJ0Kb3zsonUhkN2kMVrGtHj3bMEd0LW0jssDKB6+YeSxWsa4kSM4PrC7fRWAcHU5lOWkcVrGtGLY+MF1xbsoDYYsl304ujESnWoxL3Kmzgv35A1JbImBMGquXb4D3G3NP+M53+zZs9+rQ/RdQrJ4jUNd1ubBCjvS01WYIwJzDTIJYvXNLxdneKw7MS6rOlPrWBdM9U/20jNeHt7PMO+vfFkTXtcHda3SCWL1zS8g30fYqkvmrKmRDjChnYfyeI1Df/okDvo50dtmONvuSJmTm/J4jUN/+Soy2jivW7MURcbIVb1npPFaxr+2Umn0HfX+jKGhbUUd8bVM4ukGgkuzTwkenVuGGPQwc6Umi1vkMVrGsH1BTtEz4+NZ/ht60tx7nKGLF7TCO6sXCt6vGcWo/eWgZS63VTwEId/S3h31Rph1K5Aeo91IxHr+k+U71DhGMLb1/MZrG/1hTn4cEeycM2Dw5x1nt9hTERjz0tgQjCi8onc1I2zvkEWJOTqsOe+Z0IIVbkHU1Yh7kavdJybZ8ye+04HojB4ZPGahru5WQpemG0p7owbaGdnvFUilJdmzw6MNYIY+j/J4jUNb2eHN9iPj3VYs15Wg1lGZR7Mqw14e7q9xDLj67NmRIsPJswzyOI1De9A7ygsLdabOJiGDW0/kcVrGv6RgffQ5OhWzAm3XRBTx3iyeE3DPzHiGpoU2Zk5+lJDxNLtBVm8puGfHn8WfX+zN2PEqeaU6o0eksVrGv7ZySfRd1f7M4adbC0+mIjAvic5E+mKd6hEfCZ3e5sEilPbK/TOSyeRhWscVMDgrKmXB7ONv7OmRVUnC9c4mIjKXVPvJyzeibPmiDsj2kbcGeeurZ+HI1ShuDPI0r4zmzjMXVOfOBsIF3dmtbEzvs4zGxbx2Ky58Syt7IyHNhZ3xvON2HPidbRxmAF3U7MveFG2OTvojR5EY3HI4jUNd2urJPxnmi179itDiK6XTxavaXg72r/Dcj7VYs2KMYNZhko/D7eq8HZ3jcGy3tfT2s74ft9oLC2usdYOsznU7z725bkPa9LdOrCxQ0LpZQp1qHBOrilva8skapOx62jNJy8ni9c0eNGPatxQr3TEvNZr5phrKpv2/5/h5Rty1ntmIyY1Epnjb6v8gWJqJ+TocNa658D6ll/ZkyMdycI1DtEZXy3uzOoYZ4k747Zk4Rrnb2e8QDs74yhFvP55OIUuYM+LZ2tvZxyHig8mtLMz/h1G+Uz2PGL9KZV/COA/xt3QOAPnFxiItz8bQmgCsnhNw93U9Kt4P2amtWf2t7T4hBdk2LCD4rRzmM2OdvFQTrITa9ZLU0k34MndocJzvzgQhdG7LJ9Adde+O4GwzPf1eLu7xFIcW9xgDDzYhSxe0+DiD5EYM0Wx945gDD3ehixe0+D5GdV5m5slI9YeT5gjzzYli9c0eNF3c26odxpiUecVc/SVBmTxmgbn/TTmrmuQhZg6vCfGHJHFaxxhkS5njbgzLj6iZU8Kr0UWrnGKz4y7iTvjZt9YUx/ak4VrHExE46x2/Qkz9X8SOxOycI3zpzPO4Bd3RrStM158Zt89F4JhtLgzq23rD5V0xgUM9lztHGbD3dDom7gzrs8uPrNPE0qKkatDhaXFevH2937MGHSgizYO3kMTw7vwT/pfpTYYtIveZcV4snhNg6ZEt+IfHhhOrdf7ML3n+uFk8ZoGS41pQoy5IAZOEgMoyeI1DTHWpbgz7tTmKjG1A1m8psFyPtXmbW8XT7Frco8x9Fg7snhNg/9Mt+Vt8fmMWHs+Zo4840MWr2nwwiwL7sYm4s543RhizAtZvKb50xk3c3zHHHejHlm8xiE648SZccPqn9kT79UmC9c4Qi6bs7Z+Lqxnnk5cJiML1ziYkM5ZLT6YYBn+0M7OuLgzS3TGqXR+8ZlNGUg7VGj89T78s5NPMUdfbKSNg99ETw9OFdxcsklb53gRxp7yF14O2kdrMWUZrWVAMFm8phG9u9JPcHZKGLXpuLX0tnPU/RxslSPuwiLuxqI2HLpdG8cMop8ftSXuhtPaOV5SXzblH+jziOLS7RSjz5b+ZPGaBst8506MeaHUaneZ0X9PD7J4TYN9T3Tm7ej4luLgc4cx+HAHsnhNg+el1uBtbfERqd7oIXN4WAuyeE3zpzNu6facOeqCF1m8pikeZrOxcTpiVvsNc+w1d7J4jUMMU1lTPxcxsElhTQ53IguX2aEiJisU3AlZw5py3wE2sE6RFauJBNcXbxU9PzSJ0WdbP4pLF+2b4+XemhDRox1z6L02DKO6+R4hi9c0ovubgwWRoUu0do6X6L0zBbdXrKO3mzeL2mTMerJ4TSOKOTlacGXuHlqL6YtpLbVvwkXRm8sDBOennqA2nbCK3nb2XLJ4TYMm3PTlnxp/jtp4xGZ6x0XTyOI1DfrpYXv+saG3qB7999G7rRpNFq9p0K/PfPgH+z2guPY4wfDdNIgsXtNgGW88eXu7v6DU6XCB0XeXL1m8pvnTGa/Z4hZj0MFOZPGaBs/PtOZubvqFYl3/CWPkObmGqUjtUAmJ2ZNfHBvPmh5trZWzn4eNvox+uKv9c7wMD2tJsW2shXO8zDokenV2GGPwkY7io9tbZPGa5s8cL/129abU7nCeLF7TEB1BokNI7xU6lOrW6yhZvKYRRW5cIri/Kbh4zGaDwTvJ4jWNKGp3oOBuyBp6h+DpVK+Rm8jiNc2fCRdbB86n+kxcSRavaUSvzw8VXAg4TGs2MYTWJnAeWbym+dsZH7mR3jF4Blm8pkGTIjrzT4y8RvUcuJvedeU4snhNg2W8Fndme7ygOnc6R/fb0YcsvoTEDpV4Z3gQ/fKsudbOfr6n+wss8607MS0CrG+pfRMuHugThaXGeDOnRDoihrbaN+HikUH30JTHrZgTbtVFTJ3ekcVrGnFDcFXcIHRhjr7UALF0e0kWr2n4pyecQd/f6MMcebYZooWPUhJcmHFE9PrCEMbgo+0pDs3ukMVrGsHVebtEL0+MFXfGe4k74xfJ4jWN4NayUNGTfdPpvhuHUF17HSOL1zTCyA1Lhfe3LKR3CxlD9Riwlyxe0xAzzwvurl5N77RkKrXRsC1k8ZpG9OzQZMGNxVvobWbPpTabsIosXtOI3t/sLTg9/iytsf9GWseFCnVmK3So/sx+PjnCURvvJPg94aIFe847XYjK5JLFaxrutlZJUF6aXfEcLwwtnONlZ/u32I/PtVkBL6vBbG2ccLFrDHFHKGt6tBWsp5VzvDzG0l95FV+mN6z+mSxe0/APD4hAU560YE66VxsxrvGBLF7T8I8Pv45+fNCROfaqB2LuEksWr2lKnmvK9D/fFLH2eEwWr2kE56cdE725NIgx5Gg7So1md8niNY3g8py9otiwUYx+e3pQare7TBavaf4817TPlgEUF+17rqnoyf7pxAEFrf28WTRvxYd5/O1Qlcx+bmCdorWznxN3coj/Du2d48XjO4QKmOx5CQxtXH9uaKMMnFdgKOu2Uk3G3dT0CzE9AnvOW+3sjG9t+RH6mW7LDtTSzviOdvEYMcdLYKwpzDTQumEGxJ2gWFaCGyvgiRUxPQJZvKbh7e/1BEt/3ZA17ZEtrG/1lSxe0/AP949EU542Z04Kr4UY2yeSxWsa/vFhN9GPD9szx16vj5jXiSOL1zT8sLEX0Q+3ezBHnfdGrNyfkMVrGsHVBTtEL4+Np/fb3Ytau71SZ5Z/dahEPBZ3e9v3FKd2l4kntpPk0TwiPpOzpn4erGuayZr60I4sXONgQhqXWP/iOV5itPi2UmKOF2KOFG2Dw9zV9fIgBMGKH0WkhWdmxZ3xH7BIQGdpa2e8eI6XQplzvGgy7sYmqTgnx5RNTJhK1dIJF/OLJ1w0gGjaN+EiT7z/wnNTarJnvzKGGPp5ZPGahrercxyW/cGFNfOZBcw2ySKL1zS/nmv61lNbh9nww0ZdRj/c68YcfbkBYumq9DAPqrgRMONtaf4JqeFzh2Lj+Qh9fXEgWSZNgguL9ATXFu6E9S2+0lsHztG69RfxWYKrc/eIO4Pf6G3nztK29ScmLORfmbsXYhv+YLRfOF3r1h8T0fhX5uyDGbr59I6LJ6OvLw0gy6JRcIzCvxK0D6YyufSuK8eiby5r2dQCGFK8/WGakNFt1Sj07TU/shwaBcdh/jVx/cdhnNF9zUg0/oaW3Y0lXv+rC3aJGyIqo/vaEej7O93JcmgawfWFOyERl0nvvm44+iG8M1m8phHcXLRNfDChx+i5diT28WFbsnhNI7i1dBPO/WlM1H8s5WlzsnhNI3yweVHxmfFpj23E/Yg0snhZqGjqiya4gKOrjeMVCHjOZyfxTgWmunTXuuu1BPxHkjNxhofq6qt1gz8J2PfEusQsxLR6fofIYjURlp3gSjySherefx9ZrCbCsuLrQaiQTm3sr3V3khGwzPf1IZGAQW0ycjNZrCYSb393SMhj0ZqMW0sWq4mwTGL9i3SL1x/WvjOzWOY7D2L2aq1ef+5Po1/1h6J1z9UsXn9Ojlnx+iNUrTuzTMwTh/34VJu4zFfZzhSBWvI8Jtiu8X1iJmiyDJoGZ+rlQ4/3zhKvf6T2rv8esP5V5Pf6B4L1rxq/1n83WP8qAta/aoH1r1q/1382hKimM0s6UzoAAAAAAAAgG+hQAQAAAAAAVBLoUAEAAAAAAFQS6FABAAAAAABUEuhQAQAAAAAAVBLoUAEAAAAAACgJ5/w0JiaEVkuHivfpgv3CEeO2b3yY1UmEQzBE8+Ate/ms8wJXSgRZ3qolglNOj+3WacTBg+85kDHd2CHPtbZ5ApL7Uf9tQlYtLgRTTFqGRN28Mtu3gQ6kebPZ4jmUyOBuM31XPl6Wi1PoetbOGS62einC70lG7xKznXgQghg3Xfz0yrUFvk304XSy4jRCwQODmd7troa+EzTDYRbe73TuuLA+jD1k2aoC9nWrbVvHKc8ioWqGTq7V3+vBkIR5WehQ88U3N4R20ztecZkGwH9Q7gZ1mNt7/cvgAlgfsa1XP95BtyAv8WWcW1oRbqDbaF7stTvLuvnow5Wes0Wl8G/UsHG+IWtfCltLj8mnpMQl1fmONMHXxz9oHeCAaNjjMThITKjv6C6zb2/MhI2pzi3bPfZ2MPiA5SbqR9950CohDzczbbni8dXLQX0a6UIa+GgbLvx6W78RXWZc3ZIqQnT0bNzS3R31E4s+x9q8Ssl3wOiO/OHHwqfs7WOzjyL+NMhKUzdF91MFT5Z7dum86OLDXNyGbuqU6+5i+Y7y/b1BTHymCw82hJouuh56Y6H3XMnfe/VQ9G9QNF6dFFsXzd03YylPWhLPIGUMPdZWxR2qQuS4r9le/9gO7ZYdeTOO3yh6wAjzni+OcCAbspxVTwTHLW4wvcGS1+tpLUKffgyf1s4BgUo9ggGF363wmuS+IGhz086MKwkR01rbI1CR9PL+tSLkwhDHTb2PF0yqNStqT8baJhMY4pX+u1wEv17WaEqD4OCNrbroXnx/f0brGmX+Ps1T+GCWl1e70BupzVe/W1F74cl5FyCNngUcTU02S0UhNrX+lIRzTxe0qEuBfpLl0SiCJ+ygej631yTZNBp7LW/Ezo4GJ+BSOz7e0+31Ao+lj3py+00L9z5up3XFlUpWcf8UbCHqv/txoLQKgmefqzbMo9+9GIPuhQdiz7cdYYNo2LPSxO3LyhYTvOa/3ELtvPdB5lX/DmYwxP+7HIPTtrcb7DBpzuFmrbGbcdFzm9ehQBr0vEY+fGeC08qOOzPmGPoeufnt7OBe5jD09xE84o76uaFuG/v61dj9dF60x6sVDaaIdz5V9IgkRfdTOJwT1r+r48DT5wpc5n56mrGyWiMGlP13uQCOCW4U0HhR07V2b064JIX19zUu89mpg6J/g6Lx6qToumjuvhl9c2kg/0LAEea4m25ItVpvVNyh0sUGnef6Dyp5y4f0ZEVrFipeb/GrUOFiKFTycgSqZmX+jQJDOIZjxJS8sOS4qqKD9TqWMxk7Bkl5FqMQ+plbZIiJ/w5jR8ev1RBIg583VoiI+1Lz24WmBnuvfRMSG2C/5HzfhTvIclU1UWqKWRoGsSjWdt+tKRCHLF6zoHD8+skjQhPwJjWmHzm4taPBSbjcWQRm44lxWxpD06SVoKkEMYvdvJssjXjjFJT1+FmIS2Nm6Z2hphB/L6uZfqfCEIbx+TQBDlHKtzAoilGIZodqapZniEACyeVUEVEc825Epg+GGKO9xvY9UqYzRYBN0F5LA0ObnA7oH7Vx+ZCw2ec3DjaAqugBxgrup0SvGBuXn5+VC5siI9cuWl62M0Wg4x7z1+wasavLyL3nl7UJjenTcpkn9ZbkwlRFwb9B4Xh1UnRdNHPfLHp6YJrg7upVrKkPasD6lsUPE1dxh+q/qgh5GdJ5YpsFDzfgdQM/3Ls+o4emn93BUvbbDuq2JuxlUb55Vto3yyKmrahRlxG3Tr0PbNC7tk4MWf4qU/hAf5ZXu6uhX73d1r6JbR3gTHtIXEogy1b1UDg1OdVWhMMIHBXgaU8dXvgTxellQmBd3HXk7pPndwyc4EjXsLNX+HfKw4jXzYUwDXLCzuPN9FulJ5g2EjTztH3BLkpmPHv4vMnXQtyQWXt00onwnd16WiIJZEVqAu7DgMb1W22886VByMdXUUGtnDX2rCGMW4y+firddV3SsEEzD1Wnz813bN7+iU9tk7dwbqJ+1O37rT8I7HS7r4tacjDAO8QQ1rAOFbUer10r84dr3mf4XDpwYeCPjv3OmJQ7w/b15tWmsULIGMfi0dcJIieoMbWKOlQKKozTjU0SOULUOvx6zjTJ9Z5Wh+9WR/z33E+qGxOXXxf3NL5d/oAEUIeq2TcLw9etED0/OoE1PdoaZhnmlKSDDpUsgs/MM9N8l/rvipvBteqSvf55foepHroRZNk0AWLn/+Xka/8mmKCAnp0cZxt5alPvRauXzvY7s6+7757IoLARDpuq7pS7ZIUPA72822648cV7bcKb2AB7ZxqUR5ZHc1Bw66GHLsR0FkZRjOzya1vrfi3boIrgz7u6D2owcdD+WmfCOh1KOt9sqBkcL728fwznwVwezoRwARzxxNzjda6oVq1yl5T4T4I83X3WhPs6pj3dl3ylyUgz+J204jQB+mGtU5t2G698shz783p4UDfN7Uz9gmffMg0eu3jjlRR2Ha8Jq46ETO253quGYSKel6z34tquDguDNq64NG/Q3Mk2kZmH+1ffhWjUDpuBt93xfv5Dyw7ZXZb0X2VKGco1reP1sbGjXkLR5xc20e8K6jqNm3Kmq0V44qlsRg0mQ92XxFSp1PEcLv3sB16yDNaC4z9tV4X7ZsGVOXvQz4/asQKeWkIUepl6DDpUEuA5EcZzOvQ4vfYlr7V155B7t3MC7L0MNWwQrpwQup7AvFazpH4Lmq3pF3h9x6jq3aL3j261Zob9xy9bWtHOkuX/NzA4bWfHgU4T7x7GbJtmdjaLSls4MGpvmeVPhB7iF3DUuoHj/U5QOrJbBD3fP7XhGk3qFLItamXVtZA2IJKK1xi19Ny4jXfGr0q41exyJL/5UD+m5nSoECuRm1u1t8j9jF4WXt5xNSgVj/IYDfrG+zpuiAv58LTJw+dCj5Gd6ZrboULfMFb2n78jWmhtNOHgpsHt2ZBmf39FT1hBzbpe3PLRuLH/la8j9nVmHP2zzMyJ33z4uuMRA9pdHm3bNXrfYJ/NxhZJWZtb0s7JKLEK6GJNgqM25AZDGyQtFcUEu3nswR4g5j7ZLZ2pbyXFaCQ994KGtWnvL8e9ax3zhu8M1WA9rRDDj2O9fCuqA9HceI099WPB2Sn1qOp9Mz9szEX8Z5oda3JkTQhGKux7QIeqNDybctG/0bo+h9KmVR907ELKk3561Sn/ZnBbpYl3IMsael4NfgW3abD0+YbHC9xm08p1NoRvH9V4motZQ4iN0M6GokF3+SG49fjbxznjISl3vnHhU32Nd/U/C49uOuvETo28y0/4iD3LudW9DZ/1GvY8+G7muaEWm8s2qjicc2VLi0MfRA1hvW55PVszIqUXVhVoeKv5S7Z3Ojx66PXds/3Wj3uwf44L7X7piMLwvQ2PJYo8EaOOOd186FHSStIE+WeWtFv7StiS5jX19YxWjOtk8VUO1scM9ZECCP+JvH+XWhvrXBMufwYKS483TcjDzCDECDU1RnKlFVU1xPU7MtRrzrY709KdA7+GLWk9T6f0TQuFkfqz+ofseYOZ6w7ZuiKgFR3KlFGYZqG48WcsHbhqm+9hn2Mz5wWPbht6qzkbyvgbUIiEz54eeCwHqmXpv/JMgBvlgfTCAKVowL6Zd8DvEUxnFzLHXnOXFqPSDhWauMthyNA9+xJFvweZ4T8pyYVQdQhLoO8c4LXzAvP3US/VSTDmyNHp45woFXv6VQXPoO7t7HR47E3OQFo1pxzj92vsfL3WSN7pUV0Ek08enDjCHomVuLwqUFz5C58ndXEe23HV8OB60+nBlJm6VnW+udgbfobyUvTi36fVLkAhGsOuz9d9t4738XdEnpEVCSiA1oyz7tWTdpY9Ox8IGm4ZigxnhJo61fvsYsX8yk1/bx6XmF2LD9Fgm84b7z0PmzbYU1fzdiiwpX/61W8eddf36HgwyJUeMY9pxa/XuO5LM+FXPPZFgsd3Acw2bbkyKurSHD8vvdI7FE3DhyOu3u5YiFOoNX2aP7f/xw2vUijO/HmPYnuZDOi8fWqg4zzqPLPZdVu0jPa0M/yIFKay4h5ENolJ59lRrTp/23TtbMepbpQynd2qB+PGLUY9G3LtyJsuy9os0VuuO7O6e6O3dQy52Z9jX7gm5YiqMWsN/3gqeW/9vtUpVXp2Spn9lF6PQ3dSYht49GwfcKWlzqZ0qrHDz/rOFvHQt3jjV59yHEUUK7Tbzrdzz4yrs5b+D86aK/o3jIb2flckXp37ZkXXfZxj1ssq3TdjIipvV+c4xNL1Bb1X6FBZoSrtUFGcxn06ET1O+jwwmgy2FI2+UThoNAQNgrQVxVbgty8+wG8fFEAWql2I+ae4Y/tB0FiyyCql41k4805m35lkcZqM7SH+G7L8tPpvgBh4j8N5U7HD0FSySI3CcOGOO58ychwEjSQL1UiwAdpidcyKwtXQCrLQqqTsforpNjX+5repNcni/gXF/4ZxkGLx6qP4ultCVbZvFnB0udtaJVJcex6nt59P2iyqtEMFAAAAAACg7XBOjhlva8skqs+klbSm41eTxRNAhwoAAAAAAOA3/MfnWtydHd7Qu4WMpdb3O0gWXwJ0qAAAAAAAACDi5o9XjXn7fKMZA/d1ozi2vkYWXxroUAEAAAAA8H8P/XC3OzE1AnPkmWaIjedjsvjyQIcKAAAAAID/a6KYsFGCawt2sCbdqw0b2ys1iz/oUAEAAAAA8H8LfXe1H/r+Rm/W9MfVYR1Tpae0+dOhwrM+uGI0ttqfgaNqeFaC26+fH9zA+v97YP2rFlj/qgXWv2qB9a9a2r/+H1yJn9iH2z1YM55awXSdArI8slCpTm2uIqMvNYT4RbpkwZqIYu3xGOm/qydM19fo53RJA9a/aoH1r1pg/asWWP+qBda/alGs3aPhLsvHUz0H7pH0KBlFFZ+hQizdXpAFAgAAAAAA/Jcg9t4qewwYGEMFAAAAAABQSaBDBQAAAAAAUEmgQ/UP5BYJa+QUChV+BhQMQZiDOfseWRwAAACgmXgCzDAtl9eQLE4Sa2PmMyYN0crxSf+PQIfqH4hLyR90N+77crK48mgUmCtEcdbSAbVhslgAAABA82T+5LseCv96myxOGtD+aw/QoQIAAAAAAKgk0KECAAAAAACoJNChAgAAAAAAqCTQoQIAAAAAAKgk0KECAAAAAACoJNChAgAAAAAAqCTQoQIAAAAAAKgk0KECAAAAAACoJNChAgAAAAAAqCTQoQIAAAAAAKgk0KECAAAAAACoJNChAgAAAAAAqCTQoQIAAAAAAKgk0KECAAAAAACoJNChAgAAAAAAqCTQoQIAAAAAAKgk0KECAAAAAACoJNChAioFy3jdkLe3xzOyOAAAAHVhDjvZCrHziiSLAwB1Ah0qoHJQAV1SMnPsNXfE3PmVpGUAAAAqIeSyOatcinARj0UWCgDqBjpUAAAAAAAAlQQ6VAAAAAAAAJUEOlQAAABaRphytvqkrsNOHSrqar3j+mE//zrMpxWjCpGYTf1GdZ0VFWoz/dSRy6s7BJgjELdiHAAAqgA6VIDGw0QiKkylojAE4WSxJf5VHgD4p0QfGbu6e+2feNe4z/grqSN4HYzCpNdXXcxj2rU96VMyDpwe0niTNR376Xfs2bTj/a12IqCOA4DKgQ4VoOFwOOfalNbNBu06mcg31W8waNa5xQsnLe/qqPO66vMoh5McXv343kMjz1x/0PVFQqpznpDGNLB0+taw/ZB7sxZNWdnOhv6hfB7+leGtLXvdvOp37cuonZ7Pbm0Jmr94x5XnfT7l4SZ65jWzPYesOXNyRacgExjiVyaP4lA4M2pPw5DVBwKvPH7XPPUnasw2scy1quGW3LJb3+sjRw/a39AM/lo2jwD+cnNdq3lL9y+8EZvaiMe2EdTvMOLevBVTFyPLHUd2C2vnf+b78fq+DKg4X8GxXt2rDbl6ofbiF5ufL6o3U9xoYX+KEkaypzq2fbD15yC7i5mH3bszoNTSv4n/9Y71tmVrgw5ef9ojKZtvwazm9L1x5+G3AxdMDmlbveJ2VjgP+oG+ppnr+aAnwi6SyiKa2LoLnmyNXeY5rfR6K/Q7SvDu606v2+be5uz2tXZ9uuo9xgaJlRhXHmIp6ns8ebKbe7PX7gPtt7q/feL8cqnH9DLbEQCASgMdKkDDwbhpjx23Ewp3mBDvhN8eVzu8ps/0mrtv3f+M2jBb+M89sXSu/8oWNoykf59HOQyIhln2DLl9cbnlCoZ4l1ycyH2ts7Zzs6MdbJfF9w37MjGsr/6uChmxLOrhnqb7o4YfPX19Z8TEaTRoSskiHIdgGJZw1kGZPHIrQE71s94x4Lz98KBH0b2TGrP7/Vkk/E5/+zrP2dYU/lYmC+ee/mSXDuHbc5o7bngW3/lobVpUcTr+nXJ1jPuq7vuyZ+K6UC5UWcJXrGVNvC8s/tysYcjtc/1e7daf9utMDh9O2j+gf3P7Wa84HXdHv70yuqsNAnGUzkOpJZgdLeg6u9yv579Z79zBZ/btF3WCsw7N81z6p/OizO/4VSJ8Z/rABVs+6zbwO3FystydqT8oeJ1ZZ/eF3nJsMylkwLj5Xd/eXO1FvUqWCwAA+YEOFaBVaBZNskZtuDFv1AZoniDjkcWeWaOWdrSdmMA3GJJ7Pv2IZ08W9KWq8siLYu+T1tUeSvv1DoMFXC5TiNaAR03qvmfl/VNd38YluYr6eiKSziDQuu+LiN7Zw18XgkSl02V1jJTJIx8dvHnPDjfMzp4bvr5H24PZM4O2TBnZdX99U1oaRDMV1PU0LTdtBgrHb5w9dHcKxd0n9MCyqbVpj/8sgk3RrltDlw0449vrOAqZQJUigl+tGDZ+6Qth++qtqz/+tHt23wkQ1PfPYpxJsTeDs6Jvr2265fmIVqsbU68pl0cCPIdyc6L38u57igJ6Hk6ZmT/IZtvfy2uV+B3CKPaFq9864szehX7dDa6X/7VyQaxEPfs0uzjjbmSfK5dedVnh1eA6OEsFAKoDOlSA1hBkRJkfXrNkesie2+M/i6xYPiPmnFyyKnYl9xhzbFXnkReedbHa6Cb9rh9I1q3v3n/CZf+ujS/UsjJMZdMQvuDDtzpc8W5Pem4ENzI3y2YotBNUJo+8ENxy8JnzmYMhJsRJYUee3NN7TffJx84/SfPhISa4V8CxPRdWdwwwhyHer3gM+p713QyDENjIxCinwjgeipHIxBD5Cf1QoEOFi2ChCC/XjmFQakqqLQozoMYTtx/a6cfaXSHfrhPlEpTJU5YocWfN7k0m3Y6wCeSE566q0UwPSi8bUYnfgePEv19gySGKwHBcBaUAAFAa6FABGg6Dkze1GlF7VvxOt4GzLi5eeHZ5UqjuPNkDx/9VHkUJ4PDFk6Yf/IR4+J74MvnsAJ3tf5fx4ccXv7ZEcVkdqn8IL6C8Ob29y/E4WuMmwyec7u7EipMZz7bjtPRffpT4T7zNP9G7m+Xg7uc7673kPlvoOotSvB1peMMObSKMtxycc+/U+V5ZQ0bsrvansyXukLy+5XgnDXUSd8/Q0kXT9fWLmDCGZmdkmYsXwKUbLX70JdcbmVhNSPdvOeIceJuBfucsD+8Zd3HtpgnxveaEOVOhn5BMyuT5Dc+nPJjtM7fDhm/BbXZ+WFAwpuY6yWd+KvE76E053Tqa3tt54E69c1fzO/Tz06/YGSODf6NcPv+ou4BSHe3ctf5NcHYKAFQLdKgADYfg9tPuH+BPgw6QRf71r/Ioio63nBG0r+WxacPOD66+ue6hrn4+dvTEvMSoGrcf5jX1mtgxrC7tc16Z63JVRBi12KPnoA0nPqGQDu1qoe+L58E+bhQor0yQ4J7OxBrtH+3KM6/lXL/um5p2VsnGlAJBSuwD10fvfrhR3QLjN05z3UAp1SllddkbGXNS0LfZIP8TFozZ+W6tWz1yNeZmfo6O9IzTa4u3qklNjk+Dqpf+NYxu6yL3DQ7f2W93h8m6Z1w6tWrtfr8aloHGPXjk/dmmT16XurR3KSmQQ+k8rA67HnyOb+o2rMu4s3Xp83KZ1Vx+eLpZv6YXZTLSUj7bfs4osNIbfvli+oGufUvGsSmTB/9+rtqwen3Dj32vUbNH4Ixd3j9OI+tWQWWGVFEdu32Z4ucaRuRR5nf8wsQ7bz6ydMztLm12jx68qmOzS49HWsIK3DCBwkmhfUdMvyPyqzXr+L5VzWiXyXIAAKAY0KECgH+I4jTl472fU2ykBoQeHCUpmdHtUHgOdoghaZk0yuQpQWu2/vlH0XpdmUH0NkXb01D3UqfZ5IDg1n2PXk7ue7Ri2cJH7IDalyMqDE6Cq6G9j3ydKjoCTa2Qp9gxian0WsM/nkwa7n5S4lLJFM0Dm/bOOpKO1j1CFliKor/jD50OP3cmxTWt3bHp0dE1XJ+8ufl4yLqW+udJz6Li2ZRL/o3W9j7MndJlX2LQ+ZH2ZTq5AACoBuhQAQAAaAu6C3dGeF6fSZ/C7Md3swxji3qv3Xt9n9/gmvSYisFFSNz2QcO6To/YYj7pxIkvgi4GVpTSdw4CAKBKoEMFAACgZegO/ZP3v+vvtV9mlA5Wb+LFg18nQgdlhgEAoBKgQwUAgGagNeNs+CRqvIEsDgAAQAOBDpWK/CgQ1Np6Pfk1iuF0slh5CVGcRfwMPplQZrwDMWbC1VbvFAzDqF8Ty8GScwMAAAD/ggjDGesvfvxaxEfNyGIVVb79J9Sz0z+W+oPnNamzfT0aBQbPZ9QQoEOlIiZ69A8L/Jz01v36UlUji1cWm0H5bqRD++xoqXPTo4aBGu9Ikw9sUvM9tX6fQ7iQyy6dLny4db60PAAAAKpCrdf7MGLp9oIsTp2oCMwP8nWsduxB2qUPaYXdcJXMFlYRcTDtUl3vLAWBhdO71XAiiwf+LdChUiFxJReIv1TmJx6mn3ufWtBL1V8qezN2ZFY+v24fb8thpvr092Tx/wLMMsyh91g3giwOAADgv25wc+seLz79HHX5eeYODMNpZPGK0GFSv+mxKN/qWOterG+vf5QsHvj3QIdKDQb6WPWO+Zw/4tKzb7tRFX2p3O31j6Tn8j0Ce9a0JjpuZPEAAADAv9fAwWBfTXP2nc1XPycQlwLJ4uVRw5wVnpUncB3QzNrPWJf2kSweqBqgQ6UmHjX0DzqYs+5tvPI5sTLjqhAYQutY611k0JD8yZ3t3cjiAQAAgKplqENLWdDXSXfD5c+f8zlC6fPOyUF8MH04I4/vPuvXwbSQLB6oOqBDpUYGbNqX4L61WBuvfErKLRLWIIsvT/yl/EJFYE59e/0jzja6F8jiAQAAAM2AwLBoVg+H6mejM47EpeQPwhV8rBSRv5aVzlUWg5IzqZN9fbJ4oOqBDpWawTCEzeju4HD+ybcDscn5w3Acl+tLVcdK9/LXHK7X6Lb2zfTZ1FSyeAAAAEDz9PG2HOpSXe/MqUfpp+UdAmKgQ0shBrp7Ohjsr2Ote4ksHtAMoEP1j/h6WYx0rq57LuxB+lkUl/2l8qihfyg7X1Bndk9HS6JDJisWAAAA0GzO1roXZ/ZwsA29/PmzEMWYsmKJQedfvnObje1k31SPRU2XFQtoFtCh+oeIs06BvWparbv06YsIxVjllxNHJPbV2OH6bNpXXy/LERKKAAAAALSQLpP6bYGfk86Wa5/ivxcIa0mKcbc3OJRbJHAgpmAgfUYjoHFAh+ofI+aRWtjXSWfb9c9vsn4KXErSzfTp70QozvZxNl7nYM6+K6sMAAAAQPsQVxymdnWofe1l1uaniXkTMBwv3gfTKAjH1oz50EiX9rm3t8UIkmIADQU6VFWAOPKY3LlG3esvs0KfJOZOcamufzY5i9Nycmd7V6LDRZYfAAAA0F5dPKtNrWOje/5IROoNIz16klCI6rdwMVlVoxo7nCwvoLlAh6oKdfasNsPNVu9kcjanZb+mlv3J4gEAAID/Bgdx52l2r5qWUe9zA5rVMV7HpCN5ZHkAzQY6VFXMxpT1hPhPFgcAAAD8t7DolJy29UwXkMUB2gF0qAAAAAAAACoJdKgAAAAAAAAqqbhDhWW8bgDxi3TJgjUVLsg3gOn6P8niNBVY/6oF1r9qgfWvWmD9qxZY/yrG0ClELN1ekIXJgypKvNdVcHLUFVqboDkUa/dosgyaBk2LaSK8tyZEvP5zxev/mCxe04D1r1pg/asWWP+qBda/aoH1r1poWqy38N7qVfQB+7pRndpcJYsn8+eSH1yt1hvE3jtSVrAmwoSc4jNr4vV/Ddb/3wPrX7XA+lctsP5VC6x/1fqvrL+qgDFUAAAAAAAAlQQ6VAAAAAAAAJUEOlQAAAAAAACVBDpUAAAAAAAAlQQ6VAAAAAAAAJUEOlQAAAAAAACVpJYOFe/TBfuFI8Zt3/gwq5MIh2CI5sFb9vJZ5wWulAiyvFVLBKecHtut04iDB99zIGO6sUOea23zBCT3o/7bhKxaXAimmLQMibp5ZbZvAx0oi6y0fw7PoUQGd5vpu/LxslycQtezds5wsdVLEX5PMnqXmO3EgxDEuOnip1euLfBtog+nkxWnEQoeGMz0bnc19J2gGQ6z8H6nc8eF9WHsIctWFbCvW23bOk55FglVM3Ryrf5eD4aEFaPoUPPFNzeEdtM7XnGZBsB/UO4GdZjbe/3L4AJYH7GtVz/eQbcgL/FlnFtaEW6g22he7LU7y7r56MNpZEX9U/g3atg435C1L4WtpcfkU1Likup8R5rg6+MftA5wQDTsGZocJCbUd3SX2bc3ZsLGVOeW7R57Oxh8wHIT9aPvPGiVkIebmbZc8fjq5aA+jXShb2Sl/Xtc+PW2fiO6zLi6JVWE6OjZuKW7O+onFn2OtXmVku+A0R35w4+FT9nbx2YfRfxpkJWmborupwqeLPfs0nnRxYe5uA3d1CnX3cXyHeX7e4OY+EwXHmwINV10PfTGQu+5kr/36qHo36BovDopti7asW9WcYeqEDnua7bXP7ZDu2VH3ozjN4oeMMK854sjHMiGLGfVE8FxixtMb7Dk9Xpai9CnH8OntXNAoMK/y1H43QqvSe4LgjY37cy4khAxrbU9AhVJL+9fK0IuDHHc1Pt4waRas6L2ZKxtMoEhXum/y0Xw62WNpjQIDt7Yqovuxff3Z7SuUebv0zyFD2Z5ebULvZHafPW7FbUXnpx3AepPlqcqoanJZqkoxKbWn5Jw7umCFnUpkHbNHix4wg6q53N7TZJNo7HX8kbs7GhwAi614+M93V4v8Fj6qCe337Rw7+N2WldcqWQV90/BFqL+ux8HSqsgePa5asM8+t2LMeheeCD2fNsRNkiclNAqIm5fVraY4DX/5RZq570PMq/6dzCDIf7f5Rictr3dYIdJcw43a43djIue27wOBcqXXt6/xofvTHBa2XFnxhxD3yM3v50d3Mschnh/Fos76ueGum3s61dj99N50R6vVjSYIt75YDIKVCNF91M4nBPWv6vjwNPnClzmfnqasbJaIwaU/Xe5AI4JbhTQeFHTtXZvTrgkhfX3NS7z2amDon+DovHqpOi6aM++WcUdKl1s0Hmu/6CSt3xIT1a0ZqHi9Ra/ChUuhkIlL0egalbm3ygwhGM4Bov3MrDkuKqig/U6ljMZOwZNlrxcCP3MLTLExH+HsaPj12pIqcZO4xQi4r7U/HahqcHea9+ExAbYLznfd+EOslxVTZSaYpaGQSyKtd13awrEIYvXLCgcv37yiNAEvEmN6UcObu1ocBIudxaB2Xhi3JbG0DRpJWgqQcxiN+8mSyPeOAVlPX4W4tKYWXpnqCnE38tqpt+pMIRhfD5NgEOU8i0MimIUotmhmprlGSKQQHI5VUQUx7wbkemDIcZor7F9j5TpTBFgE7TX0sDQJqcD+kdtXD4kbPb5jYMNoEQppamZgvsp0SvGxuXnZ+XCpsjItYuWl+1MEei4x/w1u0bs6jJy7/llbUJj+rRc5km9JbkwVVHwb1A4Xp0UXRft2TeruEP1X1WEvAzpPLHNgocb8LqBH+5dn9FD08/uYCn7bQd1WxP2sijfPCvtm2UR01bUqMuIW6feBzboXVsnhix/lSl8oD/Lq93V0K/ebmvfxLYOcKY9JC4lkGWreiicmpxqK8JhBI4K8LSnDi/8ieL0MiGwLu46cvfJ8zsGTnCka9jZK/w75WHE6+ZCmAY5YefxZvqt0hNMGwmaedq+YBclM549fN7kayFuyKw9OulE+M5uPS2RBLIiNQH3YUDj+q023vnSIOTjq6igVs4ae9YQxi1GXz+V7rouadigmYeq0+fmOzZv/8SntslbODdRP+r2/dYfBHa63ddFLTkY4B1iCGtYh4paj9eulfnDNe8zfC4duDDwR8d+Z0zKnWH7evNq01ghZIxj8ejrBJET1JhaRR0qBRXG6cYmiRwhah1+PWea5HpPq8N3qyP+e+4n1Y2Jy6+LexrfLn9AAqiDZu2bQYdKFsFn5plpvkv9d8XN4Fp1yV7/PL/DVA/dCLJsmgCx8/9y8rV/E0xQQM9OjrONPLWp96LVS2f7ndnX3XdPZFDYCIdNVXfKXbLCh4Fe3m033PjivTbhTWyAvTMNyiPLozkouPXQQxdiOgujKEZ2+bWtdb+WbVBF8Odd3Qc1mDhof60zYZ0OJZ1vNtQMjpde3j+G82AuD2dCuACOeGLu8TpXVKtWuUtK/CdBnu4+a8J9HdOe7ku+0mSkGfxOWnGaAP2w1qlNu41XPlmO/Xk9PKib5namfsGzb5kGj1288UoKu47XhFVHQqb2XO9VwzARz0vWe3FtV4eFQRtXXJo3aO5km8jMw/2r70I0aofNwNvueD//oWWH7C5L+q8ypQzlmtbx+tjYUS+h6PMLm+h3BXWdxk0509UiPPFUNqMGk6HuS2KqVOp4Dpd+9gMvWQZrwfGfttPQfTPoUEmA50QYz+nQ4/Tal7zW1p1D7t3OCbD3MtSwQbhyQuh6AvNazZL6LWi2pl/g9R2jqneL3j+61ZoZ9h+/bGlFO0uW/9/A4LSdHQc6Tbx7GLNtmtnZLCpt4cCovWWWPxF6iF/AUesGjvc7QenIbhH0fP/Uhms0qVPItqiVVddC2oBIKl5j1NJz4zbeGb8q4Vazy5H85kP9mJrToUKsRG5u1d4i9zN6WXh5x9WgVDzKYzToG+/ruCEu5MPTJg+fCz1GdqZrbocKfcNY2X/+jmihtdGEg5sGt2dDmv39FT1hBTXrenHLR+PG/le+jtjXmXH0zzIzJ37z4euORwxod3m0bdfofYN9NhtbJGVtbkk7J6PEKqCLNQmO2pAbDG2QtFQUE+zmsQd7gJj7ZLd0pr6VFKOR9NwLGtamvb8c9651zBu+M1SD9bRCDD+O9fKtqA5Ec+M19tSPBWen1EPT982gQ1Uank256N9oXZ9DadOqDzp2IeVJP73qlKoZ3KYw8Q5kWUPPq8Gv4DYNlj7f8HiB22xauc6G8O2jGk9zMWsIsRHa2VA06C4/BLcef/s4Zzwk5c43Lnyqr/Gu/mfh0U1nndipkXf5CR+xZzm3urfhs17DngffzTw31GJz2UYVh3OubGlx6IOoIazXLa9na4aGPUiUhreav2R7p8Ojh17fPdtv/bgH++e40O6XjigM39vwWKLIEzHqmNPNhx4lrSRNkH9mSbu1r4QtaV5TX89oxbhOFl/lYH3MUB8pgPCfyPt3qbWxzjXh8megsPR404Q8zAxCjFBTYyRXWlFVQ1y/I0O95my7My3dOfBr2JLW83RK37RQGKk/q3/InjeYue6QrSsCWtGhTBmFaRaKG3/G0oGrtvke9jk2c17w6Laht5qzoYy/AYVI+OzpgcdyoFqW/ivPBLhRHkgvDFCKluybVdqhQhN3OQwZumdfouj3IDP8JyW5EKoOYQn0nQO8dl5g/j7qpToJxhw5On2cE6ViT7+q4BnUvZ2dDo+9yRlIq+aUY/x+jZ2v1xrJOz2qi2DyyYMTR9gjsRKXVwWKK3/h86QuzmM7rhoeXG86PZgyU9eqzjcXe8PPUF6KXvz7tNoFKERj2PX5uu/W8T7+jsgzsiIBBdCacda9etLOsmfnA0HDLUOR4YxQU6d6n12smF+56e/N4xKza/EhGmzTeeO952HTBnvqat4OBbb0T7/6zaPu+h4dDwa50iPmMa349RrXfWkm/IrHvkjw+C6A2aYtV0ZFXZrj56VXeoeiafhwxNXbHQtxCrWmT/Pn9hrY8FZAcebPexTby2RA5+1TAx3nUeeZza7bomW0p53hR6QwlRX3ILJJTDrPjmrV+duma2c7TnWjlOnsVj0YN24x6tmQa0fedFnWZonect2Z1d0bva1jyM3+HPvCNSlHVI1Za/jHU8l76/etTqnSs1PK7Kf0ehy6kxLbwKNn+4ArLXU2pVONHX7Wd7aIh77FG7/6lOMoolih3Xa+nXtmXJ219H9w1lzRv2E0tPe7IvHq3Dcruu7jHLNeasu+WaUdKorTuE8nosdJnwdGk8GWotE3CgeNhqBBkLai2Ar89sUH+O2DAshCtQsx/xR3bD8IGksWWaV0PAtn3snsO5MsTpOxPcR/Q5afVv8NEAPvcThvKnYYmkoWqVEYLtxx51NGjoOgkWShGgk2QFusjllRuBpaQRZalZTdTzHdpsbf/Da1Jlncv6D43zAOUixefRRfd0tIW/bNKu1QAQAAAAAA/D8CHSoAAAAAAIBKAh0qAAAAAACASgIdKgAAAAAAgEoCHSoAAAAAAIBKAh0qAAAAAACASvrTocKzPrhiNHaVPQNHWXhWgtuvnx/cwPr/e2D9qxZY/6oF1r9qgfWvWtq//h9cyWIU8T+N1xwI7yikAQAAAABJRU5ErkJggg==)\n",
        "\n",
        "<br><br>\n",
        "\n",
        "**Stacking**\n",
        "<img src=\"https://miro.medium.com/max/2560/1*AENBh3KxxiDivXw_QIz8aA.jpeg\">\n",
        "\n",
        "\n",
        "**Depth stacking**\n",
        "```python\n",
        "    img = np.dstack([arr1, arr2, arr3])\n",
        "```\n",
        "<img src=\"https://media.geeksforgeeks.org/wp-content/uploads/3D-array.jpg\">"
      ]
    },
    {
      "cell_type": "markdown",
      "metadata": {
        "id": "64rQPDQV25Rs"
      },
      "source": [
        "# Exercise\n",
        "\n",
        "> **RGB-Image Formation**\n",
        "RGB image formed by stacking $3×2D$-*Matrices* of the same shape producing a colored image:\n",
        "\\\n",
        "each matrix is containing the light intensity values of each color channel\n",
        "\n",
        "<br>\n",
        "\n",
        "<img src=\"https://savan77.github.io/assets/img/3channles.png\">\n",
        "<img width=\"50%\" src=\"https://ai.stanford.edu/~syyeung/cvweb/Pictures1/colorpixels.png\">\n",
        "<br>\n",
        "<img src=\"https://miro.medium.com/max/693/1*bV7S0zACdidh11ikjYpLpQ.png\">\n",
        "\n",
        "---\n",
        "\n",
        "<br><br><br>\n",
        "**To Do**\n",
        "\n",
        ">    - using np.zeros(image_shape) create a black image\n",
        ">    - using numpy indexing to draw a white square in the image\n",
        ">    - using np.dstack to make it a colored image \n",
        ">    - change the square color to any color between $\\{R, G, B\\}$\n",
        "\n",
        "**Given**\n",
        ">    -  img_size = (192, 192)\n",
        ">    -  square_length = 64\n",
        "\n",
        "\\\n",
        "\n",
        "**output**:\n",
        "\n",
        "<table>\n",
        "    <tr>\n",
        "        <th>expected output</th>\n",
        "        <th>bonus</th>\n",
        "    </tr>\n",
        "    <tr>\n",
        "        <td><img src=\"data:image/png;base64,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\"></td>\n",
        "        <td><img src=\"data:image/png;base64,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\"></td>\n",
        "    </tr>\n",
        "</table>\n",
        "<br>\n",
        "\n",
        "hint to display image use:\n",
        "\n",
        "```python \n",
        "    plt.imshow(img)\n",
        "``` "
      ]
    },
    {
      "cell_type": "code",
      "metadata": {
        "colab": {
          "base_uri": "https://localhost:8080/",
          "height": 269
        },
        "id": "3VxkaaVfCrUz",
        "outputId": "7964b3b3-a58c-44e4-d991-4174493b7b87"
      },
      "source": [
        "img_size = (192, 192)\r\n",
        "square_length = 64\r\n",
        "\r\n",
        "r_img = np.zeros(img_size)\r\n",
        "g_img = np.zeros(img_size)\r\n",
        "b_img = np.zeros(img_size)\r\n",
        "\r\n",
        "img = np.dstack([r_img, g_img, b_img])\r\n",
        "img[:square_length, :square_length, 0] = 1\r\n",
        "\r\n",
        "# plotting array as img\r\n",
        "plt.imshow(img, cmap='gray');"
      ],
      "execution_count": 64,
      "outputs": [
        {
          "output_type": "display_data",
          "data": {
            "image/png": "[encoded data removed]",
            "text/plain": [
              "<Figure size 432x288 with 1 Axes>"
            ]
          },
          "metadata": {
            "tags": [],
            "needs_background": "light"
          }
        }
      ]
    },
    {
      "cell_type": "code",
      "metadata": {
        "colab": {
          "base_uri": "https://localhost:8080/",
          "height": 286
        },
        "id": "Imax8gOMDZRK",
        "outputId": "73f006f8-4082-4ec9-e6c4-968688d288dd"
      },
      "source": [
        "img_size = (192, 192)\r\n",
        "square_length = 64\r\n",
        "\r\n",
        "r_img = np.zeros(img_size)\r\n",
        "g_img = np.zeros(img_size)\r\n",
        "b_img = np.zeros(img_size)\r\n",
        "\r\n",
        "img = np.dstack([r_img, g_img, b_img])\r\n",
        "print(img.dtype)\r\n",
        "\r\n",
        "img[:square_length, :square_length, 0] = 1\r\n",
        "img[square_length:square_length*2, square_length:square_length*2, 1] = 1\r\n",
        "img[square_length*2:square_length*3, square_length*2:square_length*3, 2] = 1\r\n",
        "\r\n",
        "# plotting array as image\r\n",
        "plt.imshow(img, cmap='gray');"
      ],
      "execution_count": 62,
      "outputs": [
        {
          "output_type": "stream",
          "text": [
            "float64\n"
          ],
          "name": "stdout"
        },
        {
          "output_type": "display_data",
          "data": {
            "image/png": "[encoded data removed]",
            "text/plain": [
              "<Figure size 432x288 with 1 Axes>"
            ]
          },
          "metadata": {
            "tags": [],
            "needs_background": "light"
          }
        }
      ]
    },
    {
      "cell_type": "markdown",
      "metadata": {
        "id": "9xoonhcPBHZI"
      },
      "source": [
        "# References\n",
        "\n",
        "https://ajaytech.co/numpy/\n",
        "\\\n",
        "https://numpy.org/\n"
      ]
    }
  ]
}