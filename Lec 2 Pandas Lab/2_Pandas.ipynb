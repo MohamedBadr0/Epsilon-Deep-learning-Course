{
  "nbformat": 4,
  "nbformat_minor": 0,
  "metadata": {
    "kernelspec": {
      "display_name": "Tensorflow GPU",
      "language": "python",
      "name": "tensorflow"
    },
    "language_info": {
      "codemirror_mode": {
        "name": "ipython",
        "version": 3
      },
      "file_extension": ".py",
      "mimetype": "text/x-python",
      "name": "python",
      "nbconvert_exporter": "python",
      "pygments_lexer": "ipython3",
      "version": "3.7.6"
    },
    "colab": {
      "name": "2-Pandas.ipynb",
      "provenance": [],
      "collapsed_sections": [
        "WsT2BgYlcPL9",
        "6BC2H0Upb5tJ",
        "MfRwbZo_pwgf"
      ],
      "toc_visible": true
    }
  },
  "cells": [
    {
      "cell_type": "code",
      "metadata": {
        "id": "2zndqUPlt5qH"
      },
      "source": [
        "import numpy as np\n",
        "import pandas as pd\n",
        "\n",
        "import matplotlib.pyplot as plt\n"
      ],
      "execution_count": 1,
      "outputs": []
    },
    {
      "cell_type": "markdown",
      "metadata": {
        "id": "RL6K2v4-bD6Z"
      },
      "source": [
        "# Pandas"
      ]
    },
    {
      "cell_type": "markdown",
      "metadata": {
        "id": "RKHUUzzxZQXe"
      },
      "source": [
        "## Array <---> Series\n",
        "\n",
        "<br>\n",
        "<img width=\"50%\" src=\"https://media.geeksforgeeks.org/wp-content/uploads/dataSER-1.png\">\n",
        "<img width=\"30%\" src=\"https://www.upgrad.com/blog/wp-content/uploads/2020/07/series_spreadsheet-300x263.png\">"
      ]
    },
    {
      "cell_type": "code",
      "metadata": {
        "colab": {
          "base_uri": "https://localhost:8080/"
        },
        "id": "OMN4GrbMt5qZ",
        "outputId": "e22e31c1-b4cc-4368-9161-af39b2ded13c"
      },
      "source": [
        "mat = np.array([[30, \"USA\", \"YES\"], [20, \"Egypt\", \"YES\"], [100, \"KSA\", \"NO\"]])\n",
        "mat"
      ],
      "execution_count": 2,
      "outputs": [
        {
          "output_type": "execute_result",
          "data": {
            "text/plain": [
              "array([['30', 'USA', 'YES'],\n",
              "       ['20', 'Egypt', 'YES'],\n",
              "       ['100', 'KSA', 'NO']], dtype='<U21')"
            ]
          },
          "metadata": {
            "tags": []
          },
          "execution_count": 2
        }
      ]
    },
    {
      "cell_type": "code",
      "metadata": {
        "colab": {
          "base_uri": "https://localhost:8080/"
        },
        "id": "ihw77w2et5qe",
        "outputId": "8caac75e-8489-4734-ebb3-8af34f534087"
      },
      "source": [
        "test_df = pd.DataFrame(mat, columns=[\"population\", \"country_name\", \"is_safe\"])\n",
        "test_df, type(test_df)"
      ],
      "execution_count": 3,
      "outputs": [
        {
          "output_type": "execute_result",
          "data": {
            "text/plain": [
              "(  population country_name is_safe\n",
              " 0         30          USA     YES\n",
              " 1         20        Egypt     YES\n",
              " 2        100          KSA      NO, pandas.core.frame.DataFrame)"
            ]
          },
          "metadata": {
            "tags": []
          },
          "execution_count": 3
        }
      ]
    },
    {
      "cell_type": "code",
      "metadata": {
        "colab": {
          "base_uri": "https://localhost:8080/"
        },
        "id": "OCpJl-ypD9S5",
        "outputId": "b1fb926d-f9de-4f03-e694-603da05be188"
      },
      "source": [
        "test_df.is_safe, type(test_df.is_safe)"
      ],
      "execution_count": 5,
      "outputs": [
        {
          "output_type": "execute_result",
          "data": {
            "text/plain": [
              "(0    YES\n",
              " 1    YES\n",
              " 2     NO\n",
              " Name: is_safe, dtype: object, pandas.core.series.Series)"
            ]
          },
          "metadata": {
            "tags": []
          },
          "execution_count": 5
        }
      ]
    },
    {
      "cell_type": "markdown",
      "metadata": {
        "id": "ooWGuXbFascJ"
      },
      "source": [
        "\n",
        "## Series <---> DataFrame\n",
        "<img src=\"https://storage.googleapis.com/lds-media/images/series-and-dataframe.original.png\">"
      ]
    },
    {
      "cell_type": "markdown",
      "metadata": {
        "id": "QszTfip-iKVG"
      },
      "source": [
        "## Supported Files\n",
        "\n",
        "<img src=\"https://files.realpython.com/media/Reading-and-Writing-Data-With-Pandas_Watermarked.435ef1c38466.jpg\">\n",
        "\n",
        "<img src=\"https://pandas.pydata.org/docs/_images/02_io_readwrite1.svg\">\n",
        "\n",
        "**blog** &rarr; [[link](https://www.cbtnuggets.com/blog/technology/programming/14-file-types-you-can-import-into-pandas)]"
      ]
    },
    {
      "cell_type": "markdown",
      "metadata": {
        "id": "f8wRRGtvbMNA"
      },
      "source": [
        "## Working with CSV datasets"
      ]
    },
    {
      "cell_type": "markdown",
      "metadata": {
        "id": "zrb1pHfGbob6"
      },
      "source": [
        "### Loading Heart Disease dataset"
      ]
    },
    {
      "cell_type": "code",
      "metadata": {
        "colab": {
          "base_uri": "https://localhost:8080/",
          "height": 399
        },
        "id": "x3AINQtCt5qg",
        "outputId": "c431ff09-be35-4f33-affc-39514d2c9331"
      },
      "source": [
        "dlink = \"https://raw.githubusercontent.com/caravanuden/cardio/master/cardio_train.csv\"\n",
        "df = pd.read_csv(dlink, delimiter=\";\")  # \"./any.csv\"\n",
        "\n",
        "conv_dict = {\n",
        "    \"cardio\": {1: \"positive\", 0: \"negative\"}\n",
        "}\n",
        "\n",
        "df = df.replace(conv_dict)\n",
        "df\n"
      ],
      "execution_count": 9,
      "outputs": [
        {
          "output_type": "execute_result",
          "data": {
            "text/html": [
              "<div>\n",
              "<style scoped>\n",
              "    .dataframe tbody tr th:only-of-type {\n",
              "        vertical-align: middle;\n",
              "    }\n",
              "\n",
              "    .dataframe tbody tr th {\n",
              "        vertical-align: top;\n",
              "    }\n",
              "\n",
              "    .dataframe thead th {\n",
              "        text-align: right;\n",
              "    }\n",
              "</style>\n",
              "<table border=\"1\" class=\"dataframe\">\n",
              "  <thead>\n",
              "    <tr style=\"text-align: right;\">\n",
              "      <th></th>\n",
              "      <th>id</th>\n",
              "      <th>age</th>\n",
              "      <th>gender</th>\n",
              "      <th>height</th>\n",
              "      <th>weight</th>\n",
              "      <th>ap_hi</th>\n",
              "      <th>ap_lo</th>\n",
              "      <th>cholesterol</th>\n",
              "      <th>gluc</th>\n",
              "      <th>smoke</th>\n",
              "      <th>alco</th>\n",
              "      <th>active</th>\n",
              "      <th>cardio</th>\n",
              "    </tr>\n",
              "  </thead>\n",
              "  <tbody>\n",
              "    <tr>\n",
              "      <th>0</th>\n",
              "      <td>0</td>\n",
              "      <td>18393</td>\n",
              "      <td>2</td>\n",
              "      <td>168</td>\n",
              "      <td>62.0</td>\n",
              "      <td>110</td>\n",
              "      <td>80</td>\n",
              "      <td>1</td>\n",
              "      <td>1</td>\n",
              "      <td>0</td>\n",
              "      <td>0</td>\n",
              "      <td>1</td>\n",
              "      <td>negative</td>\n",
              "    </tr>\n",
              "    <tr>\n",
              "      <th>1</th>\n",
              "      <td>1</td>\n",
              "      <td>20228</td>\n",
              "      <td>1</td>\n",
              "      <td>156</td>\n",
              "      <td>85.0</td>\n",
              "      <td>140</td>\n",
              "      <td>90</td>\n",
              "      <td>3</td>\n",
              "      <td>1</td>\n",
              "      <td>0</td>\n",
              "      <td>0</td>\n",
              "      <td>1</td>\n",
              "      <td>positive</td>\n",
              "    </tr>\n",
              "    <tr>\n",
              "      <th>2</th>\n",
              "      <td>2</td>\n",
              "      <td>18857</td>\n",
              "      <td>1</td>\n",
              "      <td>165</td>\n",
              "      <td>64.0</td>\n",
              "      <td>130</td>\n",
              "      <td>70</td>\n",
              "      <td>3</td>\n",
              "      <td>1</td>\n",
              "      <td>0</td>\n",
              "      <td>0</td>\n",
              "      <td>0</td>\n",
              "      <td>positive</td>\n",
              "    </tr>\n",
              "    <tr>\n",
              "      <th>3</th>\n",
              "      <td>3</td>\n",
              "      <td>17623</td>\n",
              "      <td>2</td>\n",
              "      <td>169</td>\n",
              "      <td>82.0</td>\n",
              "      <td>150</td>\n",
              "      <td>100</td>\n",
              "      <td>1</td>\n",
              "      <td>1</td>\n",
              "      <td>0</td>\n",
              "      <td>0</td>\n",
              "      <td>1</td>\n",
              "      <td>positive</td>\n",
              "    </tr>\n",
              "    <tr>\n",
              "      <th>4</th>\n",
              "      <td>4</td>\n",
              "      <td>17474</td>\n",
              "      <td>1</td>\n",
              "      <td>156</td>\n",
              "      <td>56.0</td>\n",
              "      <td>100</td>\n",
              "      <td>60</td>\n",
              "      <td>1</td>\n",
              "      <td>1</td>\n",
              "      <td>0</td>\n",
              "      <td>0</td>\n",
              "      <td>0</td>\n",
              "      <td>negative</td>\n",
              "    </tr>\n",
              "    <tr>\n",
              "      <th>...</th>\n",
              "      <td>...</td>\n",
              "      <td>...</td>\n",
              "      <td>...</td>\n",
              "      <td>...</td>\n",
              "      <td>...</td>\n",
              "      <td>...</td>\n",
              "      <td>...</td>\n",
              "      <td>...</td>\n",
              "      <td>...</td>\n",
              "      <td>...</td>\n",
              "      <td>...</td>\n",
              "      <td>...</td>\n",
              "      <td>...</td>\n",
              "    </tr>\n",
              "    <tr>\n",
              "      <th>69995</th>\n",
              "      <td>99993</td>\n",
              "      <td>19240</td>\n",
              "      <td>2</td>\n",
              "      <td>168</td>\n",
              "      <td>76.0</td>\n",
              "      <td>120</td>\n",
              "      <td>80</td>\n",
              "      <td>1</td>\n",
              "      <td>1</td>\n",
              "      <td>1</td>\n",
              "      <td>0</td>\n",
              "      <td>1</td>\n",
              "      <td>negative</td>\n",
              "    </tr>\n",
              "    <tr>\n",
              "      <th>69996</th>\n",
              "      <td>99995</td>\n",
              "      <td>22601</td>\n",
              "      <td>1</td>\n",
              "      <td>158</td>\n",
              "      <td>126.0</td>\n",
              "      <td>140</td>\n",
              "      <td>90</td>\n",
              "      <td>2</td>\n",
              "      <td>2</td>\n",
              "      <td>0</td>\n",
              "      <td>0</td>\n",
              "      <td>1</td>\n",
              "      <td>positive</td>\n",
              "    </tr>\n",
              "    <tr>\n",
              "      <th>69997</th>\n",
              "      <td>99996</td>\n",
              "      <td>19066</td>\n",
              "      <td>2</td>\n",
              "      <td>183</td>\n",
              "      <td>105.0</td>\n",
              "      <td>180</td>\n",
              "      <td>90</td>\n",
              "      <td>3</td>\n",
              "      <td>1</td>\n",
              "      <td>0</td>\n",
              "      <td>1</td>\n",
              "      <td>0</td>\n",
              "      <td>positive</td>\n",
              "    </tr>\n",
              "    <tr>\n",
              "      <th>69998</th>\n",
              "      <td>99998</td>\n",
              "      <td>22431</td>\n",
              "      <td>1</td>\n",
              "      <td>163</td>\n",
              "      <td>72.0</td>\n",
              "      <td>135</td>\n",
              "      <td>80</td>\n",
              "      <td>1</td>\n",
              "      <td>2</td>\n",
              "      <td>0</td>\n",
              "      <td>0</td>\n",
              "      <td>0</td>\n",
              "      <td>positive</td>\n",
              "    </tr>\n",
              "    <tr>\n",
              "      <th>69999</th>\n",
              "      <td>99999</td>\n",
              "      <td>20540</td>\n",
              "      <td>1</td>\n",
              "      <td>170</td>\n",
              "      <td>72.0</td>\n",
              "      <td>120</td>\n",
              "      <td>80</td>\n",
              "      <td>2</td>\n",
              "      <td>1</td>\n",
              "      <td>0</td>\n",
              "      <td>0</td>\n",
              "      <td>1</td>\n",
              "      <td>negative</td>\n",
              "    </tr>\n",
              "  </tbody>\n",
              "</table>\n",
              "<p>70000 rows × 13 columns</p>\n",
              "</div>"
            ],
            "text/plain": [
              "          id    age  gender  height  ...  smoke  alco  active    cardio\n",
              "0          0  18393       2     168  ...      0     0       1  negative\n",
              "1          1  20228       1     156  ...      0     0       1  positive\n",
              "2          2  18857       1     165  ...      0     0       0  positive\n",
              "3          3  17623       2     169  ...      0     0       1  positive\n",
              "4          4  17474       1     156  ...      0     0       0  negative\n",
              "...      ...    ...     ...     ...  ...    ...   ...     ...       ...\n",
              "69995  99993  19240       2     168  ...      1     0       1  negative\n",
              "69996  99995  22601       1     158  ...      0     0       1  positive\n",
              "69997  99996  19066       2     183  ...      0     1       0  positive\n",
              "69998  99998  22431       1     163  ...      0     0       0  positive\n",
              "69999  99999  20540       1     170  ...      0     0       1  negative\n",
              "\n",
              "[70000 rows x 13 columns]"
            ]
          },
          "metadata": {
            "tags": []
          },
          "execution_count": 9
        }
      ]
    },
    {
      "cell_type": "code",
      "metadata": {
        "colab": {
          "base_uri": "https://localhost:8080/"
        },
        "id": "zgihhCtasZ56",
        "outputId": "8fb434a8-6680-410b-f71e-4994234bd9ed"
      },
      "source": [
        "df.dtypes"
      ],
      "execution_count": 10,
      "outputs": [
        {
          "output_type": "execute_result",
          "data": {
            "text/plain": [
              "id               int64\n",
              "age              int64\n",
              "gender           int64\n",
              "height           int64\n",
              "weight         float64\n",
              "ap_hi            int64\n",
              "ap_lo            int64\n",
              "cholesterol      int64\n",
              "gluc             int64\n",
              "smoke            int64\n",
              "alco             int64\n",
              "active           int64\n",
              "cardio          object\n",
              "dtype: object"
            ]
          },
          "metadata": {
            "tags": []
          },
          "execution_count": 10
        }
      ]
    },
    {
      "cell_type": "markdown",
      "metadata": {
        "id": "bdpzvkrSzwRK"
      },
      "source": [
        "Data description\n",
        "\n",
        "There are 3 types of input features:\n",
        "\n",
        "    Objective: factual information;\n",
        "    Examination: results of medical examination;\n",
        "    Subjective: information given by the patient.\n",
        "\n",
        "Features:\n",
        "\n",
        "    Age | Objective Feature | age | int (days)\n",
        "    Height | Objective Feature | height | int (cm) |\n",
        "    Weight | Objective Feature | weight | float (kg) |\n",
        "    Gender | Objective Feature | gender | categorical code |\n",
        "    Systolic blood pressure | Examination Feature | ap_hi | int |\n",
        "    Diastolic blood pressure | Examination Feature | ap_lo | int |\n",
        "    Cholesterol | Examination Feature | cholesterol | 1: normal, 2: above normal, 3: well above normal |\n",
        "    Glucose | Examination Feature | gluc | 1: normal, 2: above normal, 3: well above normal |\n",
        "    Smoking | Subjective Feature | smoke | binary |\n",
        "    Alcohol intake | Subjective Feature | alco | binary |\n",
        "    Physical activity | Subjective Feature | active | binary |\n",
        "    Presence or absence of cardiovascular disease | Target Variable | cardio | binary |\n",
        "\n"
      ]
    },
    {
      "cell_type": "markdown",
      "metadata": {
        "id": "WsT2BgYlcPL9"
      },
      "source": [
        "### indexing the dataset columns/rows"
      ]
    },
    {
      "cell_type": "code",
      "metadata": {
        "colab": {
          "base_uri": "https://localhost:8080/",
          "height": 424
        },
        "id": "xc2-49qOt5qo",
        "outputId": "b26c9a8b-bc6d-4d72-c54c-2213f16cfabe"
      },
      "source": [
        "df"
      ],
      "execution_count": null,
      "outputs": [
        {
          "output_type": "execute_result",
          "data": {
            "text/html": [
              "<div>\n",
              "<style scoped>\n",
              "    .dataframe tbody tr th:only-of-type {\n",
              "        vertical-align: middle;\n",
              "    }\n",
              "\n",
              "    .dataframe tbody tr th {\n",
              "        vertical-align: top;\n",
              "    }\n",
              "\n",
              "    .dataframe thead th {\n",
              "        text-align: right;\n",
              "    }\n",
              "</style>\n",
              "<table border=\"1\" class=\"dataframe\">\n",
              "  <thead>\n",
              "    <tr style=\"text-align: right;\">\n",
              "      <th></th>\n",
              "      <th>id</th>\n",
              "      <th>age</th>\n",
              "      <th>gender</th>\n",
              "      <th>height</th>\n",
              "      <th>weight</th>\n",
              "      <th>ap_hi</th>\n",
              "      <th>ap_lo</th>\n",
              "      <th>cholesterol</th>\n",
              "      <th>gluc</th>\n",
              "      <th>smoke</th>\n",
              "      <th>alco</th>\n",
              "      <th>active</th>\n",
              "      <th>cardio</th>\n",
              "    </tr>\n",
              "  </thead>\n",
              "  <tbody>\n",
              "    <tr>\n",
              "      <th>0</th>\n",
              "      <td>0</td>\n",
              "      <td>18393</td>\n",
              "      <td>2</td>\n",
              "      <td>168</td>\n",
              "      <td>62.0</td>\n",
              "      <td>110</td>\n",
              "      <td>80</td>\n",
              "      <td>1</td>\n",
              "      <td>1</td>\n",
              "      <td>0</td>\n",
              "      <td>0</td>\n",
              "      <td>1</td>\n",
              "      <td>negative</td>\n",
              "    </tr>\n",
              "    <tr>\n",
              "      <th>1</th>\n",
              "      <td>1</td>\n",
              "      <td>20228</td>\n",
              "      <td>1</td>\n",
              "      <td>156</td>\n",
              "      <td>85.0</td>\n",
              "      <td>140</td>\n",
              "      <td>90</td>\n",
              "      <td>3</td>\n",
              "      <td>1</td>\n",
              "      <td>0</td>\n",
              "      <td>0</td>\n",
              "      <td>1</td>\n",
              "      <td>positive</td>\n",
              "    </tr>\n",
              "    <tr>\n",
              "      <th>2</th>\n",
              "      <td>2</td>\n",
              "      <td>18857</td>\n",
              "      <td>1</td>\n",
              "      <td>165</td>\n",
              "      <td>64.0</td>\n",
              "      <td>130</td>\n",
              "      <td>70</td>\n",
              "      <td>3</td>\n",
              "      <td>1</td>\n",
              "      <td>0</td>\n",
              "      <td>0</td>\n",
              "      <td>0</td>\n",
              "      <td>positive</td>\n",
              "    </tr>\n",
              "    <tr>\n",
              "      <th>3</th>\n",
              "      <td>3</td>\n",
              "      <td>17623</td>\n",
              "      <td>2</td>\n",
              "      <td>169</td>\n",
              "      <td>82.0</td>\n",
              "      <td>150</td>\n",
              "      <td>100</td>\n",
              "      <td>1</td>\n",
              "      <td>1</td>\n",
              "      <td>0</td>\n",
              "      <td>0</td>\n",
              "      <td>1</td>\n",
              "      <td>positive</td>\n",
              "    </tr>\n",
              "    <tr>\n",
              "      <th>4</th>\n",
              "      <td>4</td>\n",
              "      <td>17474</td>\n",
              "      <td>1</td>\n",
              "      <td>156</td>\n",
              "      <td>56.0</td>\n",
              "      <td>100</td>\n",
              "      <td>60</td>\n",
              "      <td>1</td>\n",
              "      <td>1</td>\n",
              "      <td>0</td>\n",
              "      <td>0</td>\n",
              "      <td>0</td>\n",
              "      <td>negative</td>\n",
              "    </tr>\n",
              "    <tr>\n",
              "      <th>...</th>\n",
              "      <td>...</td>\n",
              "      <td>...</td>\n",
              "      <td>...</td>\n",
              "      <td>...</td>\n",
              "      <td>...</td>\n",
              "      <td>...</td>\n",
              "      <td>...</td>\n",
              "      <td>...</td>\n",
              "      <td>...</td>\n",
              "      <td>...</td>\n",
              "      <td>...</td>\n",
              "      <td>...</td>\n",
              "      <td>...</td>\n",
              "    </tr>\n",
              "    <tr>\n",
              "      <th>69995</th>\n",
              "      <td>99993</td>\n",
              "      <td>19240</td>\n",
              "      <td>2</td>\n",
              "      <td>168</td>\n",
              "      <td>76.0</td>\n",
              "      <td>120</td>\n",
              "      <td>80</td>\n",
              "      <td>1</td>\n",
              "      <td>1</td>\n",
              "      <td>1</td>\n",
              "      <td>0</td>\n",
              "      <td>1</td>\n",
              "      <td>negative</td>\n",
              "    </tr>\n",
              "    <tr>\n",
              "      <th>69996</th>\n",
              "      <td>99995</td>\n",
              "      <td>22601</td>\n",
              "      <td>1</td>\n",
              "      <td>158</td>\n",
              "      <td>126.0</td>\n",
              "      <td>140</td>\n",
              "      <td>90</td>\n",
              "      <td>2</td>\n",
              "      <td>2</td>\n",
              "      <td>0</td>\n",
              "      <td>0</td>\n",
              "      <td>1</td>\n",
              "      <td>positive</td>\n",
              "    </tr>\n",
              "    <tr>\n",
              "      <th>69997</th>\n",
              "      <td>99996</td>\n",
              "      <td>19066</td>\n",
              "      <td>2</td>\n",
              "      <td>183</td>\n",
              "      <td>105.0</td>\n",
              "      <td>180</td>\n",
              "      <td>90</td>\n",
              "      <td>3</td>\n",
              "      <td>1</td>\n",
              "      <td>0</td>\n",
              "      <td>1</td>\n",
              "      <td>0</td>\n",
              "      <td>positive</td>\n",
              "    </tr>\n",
              "    <tr>\n",
              "      <th>69998</th>\n",
              "      <td>99998</td>\n",
              "      <td>22431</td>\n",
              "      <td>1</td>\n",
              "      <td>163</td>\n",
              "      <td>72.0</td>\n",
              "      <td>135</td>\n",
              "      <td>80</td>\n",
              "      <td>1</td>\n",
              "      <td>2</td>\n",
              "      <td>0</td>\n",
              "      <td>0</td>\n",
              "      <td>0</td>\n",
              "      <td>positive</td>\n",
              "    </tr>\n",
              "    <tr>\n",
              "      <th>69999</th>\n",
              "      <td>99999</td>\n",
              "      <td>20540</td>\n",
              "      <td>1</td>\n",
              "      <td>170</td>\n",
              "      <td>72.0</td>\n",
              "      <td>120</td>\n",
              "      <td>80</td>\n",
              "      <td>2</td>\n",
              "      <td>1</td>\n",
              "      <td>0</td>\n",
              "      <td>0</td>\n",
              "      <td>1</td>\n",
              "      <td>negative</td>\n",
              "    </tr>\n",
              "  </tbody>\n",
              "</table>\n",
              "<p>70000 rows × 13 columns</p>\n",
              "</div>"
            ],
            "text/plain": [
              "          id    age  gender  height  ...  smoke  alco  active    cardio\n",
              "0          0  18393       2     168  ...      0     0       1  negative\n",
              "1          1  20228       1     156  ...      0     0       1  positive\n",
              "2          2  18857       1     165  ...      0     0       0  positive\n",
              "3          3  17623       2     169  ...      0     0       1  positive\n",
              "4          4  17474       1     156  ...      0     0       0  negative\n",
              "...      ...    ...     ...     ...  ...    ...   ...     ...       ...\n",
              "69995  99993  19240       2     168  ...      1     0       1  negative\n",
              "69996  99995  22601       1     158  ...      0     0       1  positive\n",
              "69997  99996  19066       2     183  ...      0     1       0  positive\n",
              "69998  99998  22431       1     163  ...      0     0       0  positive\n",
              "69999  99999  20540       1     170  ...      0     0       1  negative\n",
              "\n",
              "[70000 rows x 13 columns]"
            ]
          },
          "metadata": {
            "tags": []
          },
          "execution_count": 11
        }
      ]
    },
    {
      "cell_type": "code",
      "metadata": {
        "colab": {
          "base_uri": "https://localhost:8080/",
          "height": 206
        },
        "id": "A8qKp_wkHF3Y",
        "outputId": "d1d7653c-93dd-4fe2-9729-dd5878528e6f"
      },
      "source": [
        "df.head()"
      ],
      "execution_count": null,
      "outputs": [
        {
          "output_type": "execute_result",
          "data": {
            "text/html": [
              "<div>\n",
              "<style scoped>\n",
              "    .dataframe tbody tr th:only-of-type {\n",
              "        vertical-align: middle;\n",
              "    }\n",
              "\n",
              "    .dataframe tbody tr th {\n",
              "        vertical-align: top;\n",
              "    }\n",
              "\n",
              "    .dataframe thead th {\n",
              "        text-align: right;\n",
              "    }\n",
              "</style>\n",
              "<table border=\"1\" class=\"dataframe\">\n",
              "  <thead>\n",
              "    <tr style=\"text-align: right;\">\n",
              "      <th></th>\n",
              "      <th>id</th>\n",
              "      <th>age</th>\n",
              "      <th>gender</th>\n",
              "      <th>height</th>\n",
              "      <th>weight</th>\n",
              "      <th>ap_hi</th>\n",
              "      <th>ap_lo</th>\n",
              "      <th>cholesterol</th>\n",
              "      <th>gluc</th>\n",
              "      <th>smoke</th>\n",
              "      <th>alco</th>\n",
              "      <th>active</th>\n",
              "      <th>cardio</th>\n",
              "    </tr>\n",
              "  </thead>\n",
              "  <tbody>\n",
              "    <tr>\n",
              "      <th>0</th>\n",
              "      <td>0</td>\n",
              "      <td>18393</td>\n",
              "      <td>2</td>\n",
              "      <td>168</td>\n",
              "      <td>62.0</td>\n",
              "      <td>110</td>\n",
              "      <td>80</td>\n",
              "      <td>1</td>\n",
              "      <td>1</td>\n",
              "      <td>0</td>\n",
              "      <td>0</td>\n",
              "      <td>1</td>\n",
              "      <td>negative</td>\n",
              "    </tr>\n",
              "    <tr>\n",
              "      <th>1</th>\n",
              "      <td>1</td>\n",
              "      <td>20228</td>\n",
              "      <td>1</td>\n",
              "      <td>156</td>\n",
              "      <td>85.0</td>\n",
              "      <td>140</td>\n",
              "      <td>90</td>\n",
              "      <td>3</td>\n",
              "      <td>1</td>\n",
              "      <td>0</td>\n",
              "      <td>0</td>\n",
              "      <td>1</td>\n",
              "      <td>positive</td>\n",
              "    </tr>\n",
              "    <tr>\n",
              "      <th>2</th>\n",
              "      <td>2</td>\n",
              "      <td>18857</td>\n",
              "      <td>1</td>\n",
              "      <td>165</td>\n",
              "      <td>64.0</td>\n",
              "      <td>130</td>\n",
              "      <td>70</td>\n",
              "      <td>3</td>\n",
              "      <td>1</td>\n",
              "      <td>0</td>\n",
              "      <td>0</td>\n",
              "      <td>0</td>\n",
              "      <td>positive</td>\n",
              "    </tr>\n",
              "    <tr>\n",
              "      <th>3</th>\n",
              "      <td>3</td>\n",
              "      <td>17623</td>\n",
              "      <td>2</td>\n",
              "      <td>169</td>\n",
              "      <td>82.0</td>\n",
              "      <td>150</td>\n",
              "      <td>100</td>\n",
              "      <td>1</td>\n",
              "      <td>1</td>\n",
              "      <td>0</td>\n",
              "      <td>0</td>\n",
              "      <td>1</td>\n",
              "      <td>positive</td>\n",
              "    </tr>\n",
              "    <tr>\n",
              "      <th>4</th>\n",
              "      <td>4</td>\n",
              "      <td>17474</td>\n",
              "      <td>1</td>\n",
              "      <td>156</td>\n",
              "      <td>56.0</td>\n",
              "      <td>100</td>\n",
              "      <td>60</td>\n",
              "      <td>1</td>\n",
              "      <td>1</td>\n",
              "      <td>0</td>\n",
              "      <td>0</td>\n",
              "      <td>0</td>\n",
              "      <td>negative</td>\n",
              "    </tr>\n",
              "  </tbody>\n",
              "</table>\n",
              "</div>"
            ],
            "text/plain": [
              "   id    age  gender  height  weight  ...  gluc  smoke  alco  active    cardio\n",
              "0   0  18393       2     168    62.0  ...     1      0     0       1  negative\n",
              "1   1  20228       1     156    85.0  ...     1      0     0       1  positive\n",
              "2   2  18857       1     165    64.0  ...     1      0     0       0  positive\n",
              "3   3  17623       2     169    82.0  ...     1      0     0       1  positive\n",
              "4   4  17474       1     156    56.0  ...     1      0     0       0  negative\n",
              "\n",
              "[5 rows x 13 columns]"
            ]
          },
          "metadata": {
            "tags": []
          },
          "execution_count": 15
        }
      ]
    },
    {
      "cell_type": "code",
      "metadata": {
        "colab": {
          "base_uri": "https://localhost:8080/",
          "height": 206
        },
        "id": "qyRyHnXFHS4_",
        "outputId": "63e62d6b-08ae-49f2-afe6-514792bca7d8"
      },
      "source": [
        "df.tail()"
      ],
      "execution_count": null,
      "outputs": [
        {
          "output_type": "execute_result",
          "data": {
            "text/html": [
              "<div>\n",
              "<style scoped>\n",
              "    .dataframe tbody tr th:only-of-type {\n",
              "        vertical-align: middle;\n",
              "    }\n",
              "\n",
              "    .dataframe tbody tr th {\n",
              "        vertical-align: top;\n",
              "    }\n",
              "\n",
              "    .dataframe thead th {\n",
              "        text-align: right;\n",
              "    }\n",
              "</style>\n",
              "<table border=\"1\" class=\"dataframe\">\n",
              "  <thead>\n",
              "    <tr style=\"text-align: right;\">\n",
              "      <th></th>\n",
              "      <th>id</th>\n",
              "      <th>age</th>\n",
              "      <th>gender</th>\n",
              "      <th>height</th>\n",
              "      <th>weight</th>\n",
              "      <th>ap_hi</th>\n",
              "      <th>ap_lo</th>\n",
              "      <th>cholesterol</th>\n",
              "      <th>gluc</th>\n",
              "      <th>smoke</th>\n",
              "      <th>alco</th>\n",
              "      <th>active</th>\n",
              "      <th>cardio</th>\n",
              "    </tr>\n",
              "  </thead>\n",
              "  <tbody>\n",
              "    <tr>\n",
              "      <th>69995</th>\n",
              "      <td>99993</td>\n",
              "      <td>19240</td>\n",
              "      <td>2</td>\n",
              "      <td>168</td>\n",
              "      <td>76.0</td>\n",
              "      <td>120</td>\n",
              "      <td>80</td>\n",
              "      <td>1</td>\n",
              "      <td>1</td>\n",
              "      <td>1</td>\n",
              "      <td>0</td>\n",
              "      <td>1</td>\n",
              "      <td>negative</td>\n",
              "    </tr>\n",
              "    <tr>\n",
              "      <th>69996</th>\n",
              "      <td>99995</td>\n",
              "      <td>22601</td>\n",
              "      <td>1</td>\n",
              "      <td>158</td>\n",
              "      <td>126.0</td>\n",
              "      <td>140</td>\n",
              "      <td>90</td>\n",
              "      <td>2</td>\n",
              "      <td>2</td>\n",
              "      <td>0</td>\n",
              "      <td>0</td>\n",
              "      <td>1</td>\n",
              "      <td>positive</td>\n",
              "    </tr>\n",
              "    <tr>\n",
              "      <th>69997</th>\n",
              "      <td>99996</td>\n",
              "      <td>19066</td>\n",
              "      <td>2</td>\n",
              "      <td>183</td>\n",
              "      <td>105.0</td>\n",
              "      <td>180</td>\n",
              "      <td>90</td>\n",
              "      <td>3</td>\n",
              "      <td>1</td>\n",
              "      <td>0</td>\n",
              "      <td>1</td>\n",
              "      <td>0</td>\n",
              "      <td>positive</td>\n",
              "    </tr>\n",
              "    <tr>\n",
              "      <th>69998</th>\n",
              "      <td>99998</td>\n",
              "      <td>22431</td>\n",
              "      <td>1</td>\n",
              "      <td>163</td>\n",
              "      <td>72.0</td>\n",
              "      <td>135</td>\n",
              "      <td>80</td>\n",
              "      <td>1</td>\n",
              "      <td>2</td>\n",
              "      <td>0</td>\n",
              "      <td>0</td>\n",
              "      <td>0</td>\n",
              "      <td>positive</td>\n",
              "    </tr>\n",
              "    <tr>\n",
              "      <th>69999</th>\n",
              "      <td>99999</td>\n",
              "      <td>20540</td>\n",
              "      <td>1</td>\n",
              "      <td>170</td>\n",
              "      <td>72.0</td>\n",
              "      <td>120</td>\n",
              "      <td>80</td>\n",
              "      <td>2</td>\n",
              "      <td>1</td>\n",
              "      <td>0</td>\n",
              "      <td>0</td>\n",
              "      <td>1</td>\n",
              "      <td>negative</td>\n",
              "    </tr>\n",
              "  </tbody>\n",
              "</table>\n",
              "</div>"
            ],
            "text/plain": [
              "          id    age  gender  height  ...  smoke  alco  active    cardio\n",
              "69995  99993  19240       2     168  ...      1     0       1  negative\n",
              "69996  99995  22601       1     158  ...      0     0       1  positive\n",
              "69997  99996  19066       2     183  ...      0     1       0  positive\n",
              "69998  99998  22431       1     163  ...      0     0       0  positive\n",
              "69999  99999  20540       1     170  ...      0     0       1  negative\n",
              "\n",
              "[5 rows x 13 columns]"
            ]
          },
          "metadata": {
            "tags": []
          },
          "execution_count": 16
        }
      ]
    },
    {
      "cell_type": "code",
      "metadata": {
        "colab": {
          "base_uri": "https://localhost:8080/"
        },
        "id": "9-Y835FYt5qq",
        "outputId": "bb521941-ff6d-4338-ed12-4c4b152cfe07"
      },
      "source": [
        "df['age']"
      ],
      "execution_count": null,
      "outputs": [
        {
          "output_type": "execute_result",
          "data": {
            "text/plain": [
              "0        18393\n",
              "1        20228\n",
              "2        18857\n",
              "3        17623\n",
              "4        17474\n",
              "         ...  \n",
              "69995    19240\n",
              "69996    22601\n",
              "69997    19066\n",
              "69998    22431\n",
              "69999    20540\n",
              "Name: age, Length: 70000, dtype: int64"
            ]
          },
          "metadata": {
            "tags": []
          },
          "execution_count": 18
        }
      ]
    },
    {
      "cell_type": "code",
      "metadata": {
        "colab": {
          "base_uri": "https://localhost:8080/"
        },
        "id": "eycUBTkut5qt",
        "outputId": "2df78afe-90a4-4ba8-b986-fb89ac44ea5a"
      },
      "source": [
        "df.age"
      ],
      "execution_count": null,
      "outputs": [
        {
          "output_type": "execute_result",
          "data": {
            "text/plain": [
              "0        18393\n",
              "1        20228\n",
              "2        18857\n",
              "3        17623\n",
              "4        17474\n",
              "         ...  \n",
              "69995    19240\n",
              "69996    22601\n",
              "69997    19066\n",
              "69998    22431\n",
              "69999    20540\n",
              "Name: age, Length: 70000, dtype: int64"
            ]
          },
          "metadata": {
            "tags": []
          },
          "execution_count": 20
        }
      ]
    },
    {
      "cell_type": "code",
      "metadata": {
        "colab": {
          "base_uri": "https://localhost:8080/",
          "height": 424
        },
        "id": "bZwgdfSOt5qu",
        "outputId": "13c21b61-647c-4a6f-eb96-7a3818c70187"
      },
      "source": [
        "cols = ['age', 'gender']\n",
        "df[cols]    # === df[['age', 'gender']]"
      ],
      "execution_count": null,
      "outputs": [
        {
          "output_type": "execute_result",
          "data": {
            "text/html": [
              "<div>\n",
              "<style scoped>\n",
              "    .dataframe tbody tr th:only-of-type {\n",
              "        vertical-align: middle;\n",
              "    }\n",
              "\n",
              "    .dataframe tbody tr th {\n",
              "        vertical-align: top;\n",
              "    }\n",
              "\n",
              "    .dataframe thead th {\n",
              "        text-align: right;\n",
              "    }\n",
              "</style>\n",
              "<table border=\"1\" class=\"dataframe\">\n",
              "  <thead>\n",
              "    <tr style=\"text-align: right;\">\n",
              "      <th></th>\n",
              "      <th>age</th>\n",
              "      <th>gender</th>\n",
              "    </tr>\n",
              "  </thead>\n",
              "  <tbody>\n",
              "    <tr>\n",
              "      <th>0</th>\n",
              "      <td>18393</td>\n",
              "      <td>2</td>\n",
              "    </tr>\n",
              "    <tr>\n",
              "      <th>1</th>\n",
              "      <td>20228</td>\n",
              "      <td>1</td>\n",
              "    </tr>\n",
              "    <tr>\n",
              "      <th>2</th>\n",
              "      <td>18857</td>\n",
              "      <td>1</td>\n",
              "    </tr>\n",
              "    <tr>\n",
              "      <th>3</th>\n",
              "      <td>17623</td>\n",
              "      <td>2</td>\n",
              "    </tr>\n",
              "    <tr>\n",
              "      <th>4</th>\n",
              "      <td>17474</td>\n",
              "      <td>1</td>\n",
              "    </tr>\n",
              "    <tr>\n",
              "      <th>...</th>\n",
              "      <td>...</td>\n",
              "      <td>...</td>\n",
              "    </tr>\n",
              "    <tr>\n",
              "      <th>69995</th>\n",
              "      <td>19240</td>\n",
              "      <td>2</td>\n",
              "    </tr>\n",
              "    <tr>\n",
              "      <th>69996</th>\n",
              "      <td>22601</td>\n",
              "      <td>1</td>\n",
              "    </tr>\n",
              "    <tr>\n",
              "      <th>69997</th>\n",
              "      <td>19066</td>\n",
              "      <td>2</td>\n",
              "    </tr>\n",
              "    <tr>\n",
              "      <th>69998</th>\n",
              "      <td>22431</td>\n",
              "      <td>1</td>\n",
              "    </tr>\n",
              "    <tr>\n",
              "      <th>69999</th>\n",
              "      <td>20540</td>\n",
              "      <td>1</td>\n",
              "    </tr>\n",
              "  </tbody>\n",
              "</table>\n",
              "<p>70000 rows × 2 columns</p>\n",
              "</div>"
            ],
            "text/plain": [
              "         age  gender\n",
              "0      18393       2\n",
              "1      20228       1\n",
              "2      18857       1\n",
              "3      17623       2\n",
              "4      17474       1\n",
              "...      ...     ...\n",
              "69995  19240       2\n",
              "69996  22601       1\n",
              "69997  19066       2\n",
              "69998  22431       1\n",
              "69999  20540       1\n",
              "\n",
              "[70000 rows x 2 columns]"
            ]
          },
          "metadata": {
            "tags": []
          },
          "execution_count": 21
        }
      ]
    },
    {
      "cell_type": "code",
      "metadata": {
        "colab": {
          "base_uri": "https://localhost:8080/"
        },
        "id": "yIt5SCx0t5qv",
        "outputId": "6602406b-3f43-46f2-951c-08f9b91ab880"
      },
      "source": [
        "df.iloc[0]"
      ],
      "execution_count": null,
      "outputs": [
        {
          "output_type": "execute_result",
          "data": {
            "text/plain": [
              "id                    0\n",
              "age               18393\n",
              "gender                2\n",
              "height              168\n",
              "weight               62\n",
              "ap_hi               110\n",
              "ap_lo                80\n",
              "cholesterol           1\n",
              "gluc                  1\n",
              "smoke                 0\n",
              "alco                  0\n",
              "active                1\n",
              "cardio         negative\n",
              "Name: 0, dtype: object"
            ]
          },
          "metadata": {
            "tags": []
          },
          "execution_count": 22
        }
      ]
    },
    {
      "cell_type": "code",
      "metadata": {
        "colab": {
          "base_uri": "https://localhost:8080/"
        },
        "id": "iZV2yihht5qw",
        "outputId": "fee1f664-3dae-486d-9b68-a652bb3de6ee"
      },
      "source": [
        "df[['age', 'gender', 'cardio']].iloc[10]"
      ],
      "execution_count": null,
      "outputs": [
        {
          "output_type": "execute_result",
          "data": {
            "text/plain": [
              "age          22530\n",
              "gender           1\n",
              "cardio    negative\n",
              "Name: 10, dtype: object"
            ]
          },
          "metadata": {
            "tags": []
          },
          "execution_count": 23
        }
      ]
    },
    {
      "cell_type": "code",
      "metadata": {
        "colab": {
          "base_uri": "https://localhost:8080/",
          "height": 677
        },
        "id": "-fpf9JlGt5qw",
        "outputId": "e6d432dd-b2ee-4fec-c59c-d8788930de58"
      },
      "source": [
        "df[['age', 'gender', 'cardio']].iloc[10:30]"
      ],
      "execution_count": null,
      "outputs": [
        {
          "output_type": "execute_result",
          "data": {
            "text/html": [
              "<div>\n",
              "<style scoped>\n",
              "    .dataframe tbody tr th:only-of-type {\n",
              "        vertical-align: middle;\n",
              "    }\n",
              "\n",
              "    .dataframe tbody tr th {\n",
              "        vertical-align: top;\n",
              "    }\n",
              "\n",
              "    .dataframe thead th {\n",
              "        text-align: right;\n",
              "    }\n",
              "</style>\n",
              "<table border=\"1\" class=\"dataframe\">\n",
              "  <thead>\n",
              "    <tr style=\"text-align: right;\">\n",
              "      <th></th>\n",
              "      <th>age</th>\n",
              "      <th>gender</th>\n",
              "      <th>cardio</th>\n",
              "    </tr>\n",
              "  </thead>\n",
              "  <tbody>\n",
              "    <tr>\n",
              "      <th>10</th>\n",
              "      <td>22530</td>\n",
              "      <td>1</td>\n",
              "      <td>negative</td>\n",
              "    </tr>\n",
              "    <tr>\n",
              "      <th>11</th>\n",
              "      <td>18815</td>\n",
              "      <td>2</td>\n",
              "      <td>negative</td>\n",
              "    </tr>\n",
              "    <tr>\n",
              "      <th>12</th>\n",
              "      <td>14791</td>\n",
              "      <td>2</td>\n",
              "      <td>negative</td>\n",
              "    </tr>\n",
              "    <tr>\n",
              "      <th>13</th>\n",
              "      <td>19809</td>\n",
              "      <td>1</td>\n",
              "      <td>negative</td>\n",
              "    </tr>\n",
              "    <tr>\n",
              "      <th>14</th>\n",
              "      <td>14532</td>\n",
              "      <td>2</td>\n",
              "      <td>negative</td>\n",
              "    </tr>\n",
              "    <tr>\n",
              "      <th>15</th>\n",
              "      <td>16782</td>\n",
              "      <td>2</td>\n",
              "      <td>positive</td>\n",
              "    </tr>\n",
              "    <tr>\n",
              "      <th>16</th>\n",
              "      <td>21296</td>\n",
              "      <td>1</td>\n",
              "      <td>negative</td>\n",
              "    </tr>\n",
              "    <tr>\n",
              "      <th>17</th>\n",
              "      <td>16747</td>\n",
              "      <td>1</td>\n",
              "      <td>negative</td>\n",
              "    </tr>\n",
              "    <tr>\n",
              "      <th>18</th>\n",
              "      <td>17482</td>\n",
              "      <td>1</td>\n",
              "      <td>negative</td>\n",
              "    </tr>\n",
              "    <tr>\n",
              "      <th>19</th>\n",
              "      <td>21755</td>\n",
              "      <td>2</td>\n",
              "      <td>negative</td>\n",
              "    </tr>\n",
              "    <tr>\n",
              "      <th>20</th>\n",
              "      <td>19778</td>\n",
              "      <td>2</td>\n",
              "      <td>negative</td>\n",
              "    </tr>\n",
              "    <tr>\n",
              "      <th>21</th>\n",
              "      <td>21413</td>\n",
              "      <td>1</td>\n",
              "      <td>negative</td>\n",
              "    </tr>\n",
              "    <tr>\n",
              "      <th>22</th>\n",
              "      <td>23046</td>\n",
              "      <td>1</td>\n",
              "      <td>positive</td>\n",
              "    </tr>\n",
              "    <tr>\n",
              "      <th>23</th>\n",
              "      <td>23376</td>\n",
              "      <td>2</td>\n",
              "      <td>negative</td>\n",
              "    </tr>\n",
              "    <tr>\n",
              "      <th>24</th>\n",
              "      <td>16608</td>\n",
              "      <td>1</td>\n",
              "      <td>positive</td>\n",
              "    </tr>\n",
              "    <tr>\n",
              "      <th>25</th>\n",
              "      <td>14453</td>\n",
              "      <td>1</td>\n",
              "      <td>negative</td>\n",
              "    </tr>\n",
              "    <tr>\n",
              "      <th>26</th>\n",
              "      <td>19559</td>\n",
              "      <td>1</td>\n",
              "      <td>negative</td>\n",
              "    </tr>\n",
              "    <tr>\n",
              "      <th>27</th>\n",
              "      <td>18085</td>\n",
              "      <td>1</td>\n",
              "      <td>negative</td>\n",
              "    </tr>\n",
              "    <tr>\n",
              "      <th>28</th>\n",
              "      <td>14574</td>\n",
              "      <td>2</td>\n",
              "      <td>negative</td>\n",
              "    </tr>\n",
              "    <tr>\n",
              "      <th>29</th>\n",
              "      <td>21057</td>\n",
              "      <td>2</td>\n",
              "      <td>negative</td>\n",
              "    </tr>\n",
              "  </tbody>\n",
              "</table>\n",
              "</div>"
            ],
            "text/plain": [
              "      age  gender    cardio\n",
              "10  22530       1  negative\n",
              "11  18815       2  negative\n",
              "12  14791       2  negative\n",
              "13  19809       1  negative\n",
              "14  14532       2  negative\n",
              "15  16782       2  positive\n",
              "16  21296       1  negative\n",
              "17  16747       1  negative\n",
              "18  17482       1  negative\n",
              "19  21755       2  negative\n",
              "20  19778       2  negative\n",
              "21  21413       1  negative\n",
              "22  23046       1  positive\n",
              "23  23376       2  negative\n",
              "24  16608       1  positive\n",
              "25  14453       1  negative\n",
              "26  19559       1  negative\n",
              "27  18085       1  negative\n",
              "28  14574       2  negative\n",
              "29  21057       2  negative"
            ]
          },
          "metadata": {
            "tags": []
          },
          "execution_count": 24
        }
      ]
    },
    {
      "cell_type": "code",
      "metadata": {
        "colab": {
          "base_uri": "https://localhost:8080/",
          "height": 143
        },
        "id": "pbClbe3It5qy",
        "outputId": "0abe5257-8e98-490c-abfe-da2b20ac9e6a"
      },
      "source": [
        "df[['age', 'gender', 'cardio']].iloc[[10, 50, 10254]]"
      ],
      "execution_count": null,
      "outputs": [
        {
          "output_type": "execute_result",
          "data": {
            "text/html": [
              "<div>\n",
              "<style scoped>\n",
              "    .dataframe tbody tr th:only-of-type {\n",
              "        vertical-align: middle;\n",
              "    }\n",
              "\n",
              "    .dataframe tbody tr th {\n",
              "        vertical-align: top;\n",
              "    }\n",
              "\n",
              "    .dataframe thead th {\n",
              "        text-align: right;\n",
              "    }\n",
              "</style>\n",
              "<table border=\"1\" class=\"dataframe\">\n",
              "  <thead>\n",
              "    <tr style=\"text-align: right;\">\n",
              "      <th></th>\n",
              "      <th>age</th>\n",
              "      <th>gender</th>\n",
              "      <th>cardio</th>\n",
              "    </tr>\n",
              "  </thead>\n",
              "  <tbody>\n",
              "    <tr>\n",
              "      <th>10</th>\n",
              "      <td>22530</td>\n",
              "      <td>1</td>\n",
              "      <td>negative</td>\n",
              "    </tr>\n",
              "    <tr>\n",
              "      <th>50</th>\n",
              "      <td>18238</td>\n",
              "      <td>1</td>\n",
              "      <td>negative</td>\n",
              "    </tr>\n",
              "    <tr>\n",
              "      <th>10254</th>\n",
              "      <td>21191</td>\n",
              "      <td>1</td>\n",
              "      <td>positive</td>\n",
              "    </tr>\n",
              "  </tbody>\n",
              "</table>\n",
              "</div>"
            ],
            "text/plain": [
              "         age  gender    cardio\n",
              "10     22530       1  negative\n",
              "50     18238       1  negative\n",
              "10254  21191       1  positive"
            ]
          },
          "metadata": {
            "tags": []
          },
          "execution_count": 25
        }
      ]
    },
    {
      "cell_type": "code",
      "metadata": {
        "colab": {
          "base_uri": "https://localhost:8080/",
          "height": 424
        },
        "id": "Mv6WiEzHt5qy",
        "outputId": "2ee23874-b99e-4ea5-c915-4e774face58a"
      },
      "source": [
        "df"
      ],
      "execution_count": null,
      "outputs": [
        {
          "output_type": "execute_result",
          "data": {
            "text/html": [
              "<div>\n",
              "<style scoped>\n",
              "    .dataframe tbody tr th:only-of-type {\n",
              "        vertical-align: middle;\n",
              "    }\n",
              "\n",
              "    .dataframe tbody tr th {\n",
              "        vertical-align: top;\n",
              "    }\n",
              "\n",
              "    .dataframe thead th {\n",
              "        text-align: right;\n",
              "    }\n",
              "</style>\n",
              "<table border=\"1\" class=\"dataframe\">\n",
              "  <thead>\n",
              "    <tr style=\"text-align: right;\">\n",
              "      <th></th>\n",
              "      <th>id</th>\n",
              "      <th>age</th>\n",
              "      <th>gender</th>\n",
              "      <th>height</th>\n",
              "      <th>weight</th>\n",
              "      <th>ap_hi</th>\n",
              "      <th>ap_lo</th>\n",
              "      <th>cholesterol</th>\n",
              "      <th>gluc</th>\n",
              "      <th>smoke</th>\n",
              "      <th>alco</th>\n",
              "      <th>active</th>\n",
              "      <th>cardio</th>\n",
              "    </tr>\n",
              "  </thead>\n",
              "  <tbody>\n",
              "    <tr>\n",
              "      <th>0</th>\n",
              "      <td>0</td>\n",
              "      <td>18393</td>\n",
              "      <td>2</td>\n",
              "      <td>168</td>\n",
              "      <td>62.0</td>\n",
              "      <td>110</td>\n",
              "      <td>80</td>\n",
              "      <td>1</td>\n",
              "      <td>1</td>\n",
              "      <td>0</td>\n",
              "      <td>0</td>\n",
              "      <td>1</td>\n",
              "      <td>negative</td>\n",
              "    </tr>\n",
              "    <tr>\n",
              "      <th>1</th>\n",
              "      <td>1</td>\n",
              "      <td>20228</td>\n",
              "      <td>1</td>\n",
              "      <td>156</td>\n",
              "      <td>85.0</td>\n",
              "      <td>140</td>\n",
              "      <td>90</td>\n",
              "      <td>3</td>\n",
              "      <td>1</td>\n",
              "      <td>0</td>\n",
              "      <td>0</td>\n",
              "      <td>1</td>\n",
              "      <td>positive</td>\n",
              "    </tr>\n",
              "    <tr>\n",
              "      <th>2</th>\n",
              "      <td>2</td>\n",
              "      <td>18857</td>\n",
              "      <td>1</td>\n",
              "      <td>165</td>\n",
              "      <td>64.0</td>\n",
              "      <td>130</td>\n",
              "      <td>70</td>\n",
              "      <td>3</td>\n",
              "      <td>1</td>\n",
              "      <td>0</td>\n",
              "      <td>0</td>\n",
              "      <td>0</td>\n",
              "      <td>positive</td>\n",
              "    </tr>\n",
              "    <tr>\n",
              "      <th>3</th>\n",
              "      <td>3</td>\n",
              "      <td>17623</td>\n",
              "      <td>2</td>\n",
              "      <td>169</td>\n",
              "      <td>82.0</td>\n",
              "      <td>150</td>\n",
              "      <td>100</td>\n",
              "      <td>1</td>\n",
              "      <td>1</td>\n",
              "      <td>0</td>\n",
              "      <td>0</td>\n",
              "      <td>1</td>\n",
              "      <td>positive</td>\n",
              "    </tr>\n",
              "    <tr>\n",
              "      <th>4</th>\n",
              "      <td>4</td>\n",
              "      <td>17474</td>\n",
              "      <td>1</td>\n",
              "      <td>156</td>\n",
              "      <td>56.0</td>\n",
              "      <td>100</td>\n",
              "      <td>60</td>\n",
              "      <td>1</td>\n",
              "      <td>1</td>\n",
              "      <td>0</td>\n",
              "      <td>0</td>\n",
              "      <td>0</td>\n",
              "      <td>negative</td>\n",
              "    </tr>\n",
              "    <tr>\n",
              "      <th>...</th>\n",
              "      <td>...</td>\n",
              "      <td>...</td>\n",
              "      <td>...</td>\n",
              "      <td>...</td>\n",
              "      <td>...</td>\n",
              "      <td>...</td>\n",
              "      <td>...</td>\n",
              "      <td>...</td>\n",
              "      <td>...</td>\n",
              "      <td>...</td>\n",
              "      <td>...</td>\n",
              "      <td>...</td>\n",
              "      <td>...</td>\n",
              "    </tr>\n",
              "    <tr>\n",
              "      <th>69995</th>\n",
              "      <td>99993</td>\n",
              "      <td>19240</td>\n",
              "      <td>2</td>\n",
              "      <td>168</td>\n",
              "      <td>76.0</td>\n",
              "      <td>120</td>\n",
              "      <td>80</td>\n",
              "      <td>1</td>\n",
              "      <td>1</td>\n",
              "      <td>1</td>\n",
              "      <td>0</td>\n",
              "      <td>1</td>\n",
              "      <td>negative</td>\n",
              "    </tr>\n",
              "    <tr>\n",
              "      <th>69996</th>\n",
              "      <td>99995</td>\n",
              "      <td>22601</td>\n",
              "      <td>1</td>\n",
              "      <td>158</td>\n",
              "      <td>126.0</td>\n",
              "      <td>140</td>\n",
              "      <td>90</td>\n",
              "      <td>2</td>\n",
              "      <td>2</td>\n",
              "      <td>0</td>\n",
              "      <td>0</td>\n",
              "      <td>1</td>\n",
              "      <td>positive</td>\n",
              "    </tr>\n",
              "    <tr>\n",
              "      <th>69997</th>\n",
              "      <td>99996</td>\n",
              "      <td>19066</td>\n",
              "      <td>2</td>\n",
              "      <td>183</td>\n",
              "      <td>105.0</td>\n",
              "      <td>180</td>\n",
              "      <td>90</td>\n",
              "      <td>3</td>\n",
              "      <td>1</td>\n",
              "      <td>0</td>\n",
              "      <td>1</td>\n",
              "      <td>0</td>\n",
              "      <td>positive</td>\n",
              "    </tr>\n",
              "    <tr>\n",
              "      <th>69998</th>\n",
              "      <td>99998</td>\n",
              "      <td>22431</td>\n",
              "      <td>1</td>\n",
              "      <td>163</td>\n",
              "      <td>72.0</td>\n",
              "      <td>135</td>\n",
              "      <td>80</td>\n",
              "      <td>1</td>\n",
              "      <td>2</td>\n",
              "      <td>0</td>\n",
              "      <td>0</td>\n",
              "      <td>0</td>\n",
              "      <td>positive</td>\n",
              "    </tr>\n",
              "    <tr>\n",
              "      <th>69999</th>\n",
              "      <td>99999</td>\n",
              "      <td>20540</td>\n",
              "      <td>1</td>\n",
              "      <td>170</td>\n",
              "      <td>72.0</td>\n",
              "      <td>120</td>\n",
              "      <td>80</td>\n",
              "      <td>2</td>\n",
              "      <td>1</td>\n",
              "      <td>0</td>\n",
              "      <td>0</td>\n",
              "      <td>1</td>\n",
              "      <td>negative</td>\n",
              "    </tr>\n",
              "  </tbody>\n",
              "</table>\n",
              "<p>70000 rows × 13 columns</p>\n",
              "</div>"
            ],
            "text/plain": [
              "          id    age  gender  height  ...  smoke  alco  active    cardio\n",
              "0          0  18393       2     168  ...      0     0       1  negative\n",
              "1          1  20228       1     156  ...      0     0       1  positive\n",
              "2          2  18857       1     165  ...      0     0       0  positive\n",
              "3          3  17623       2     169  ...      0     0       1  positive\n",
              "4          4  17474       1     156  ...      0     0       0  negative\n",
              "...      ...    ...     ...     ...  ...    ...   ...     ...       ...\n",
              "69995  99993  19240       2     168  ...      1     0       1  negative\n",
              "69996  99995  22601       1     158  ...      0     0       1  positive\n",
              "69997  99996  19066       2     183  ...      0     1       0  positive\n",
              "69998  99998  22431       1     163  ...      0     0       0  positive\n",
              "69999  99999  20540       1     170  ...      0     0       1  negative\n",
              "\n",
              "[70000 rows x 13 columns]"
            ]
          },
          "metadata": {
            "tags": []
          },
          "execution_count": 26
        }
      ]
    },
    {
      "cell_type": "markdown",
      "metadata": {
        "id": "6BC2H0Upb5tJ"
      },
      "source": [
        "### Exploring & Anaylsing the dataset"
      ]
    },
    {
      "cell_type": "code",
      "metadata": {
        "colab": {
          "base_uri": "https://localhost:8080/"
        },
        "id": "9NEicngqt5q4",
        "outputId": "1dc29143-c732-4510-ad4e-210aad573dca"
      },
      "source": [
        "df.columns"
      ],
      "execution_count": null,
      "outputs": [
        {
          "output_type": "execute_result",
          "data": {
            "text/plain": [
              "Index(['id', 'age', 'gender', 'height', 'weight', 'ap_hi', 'ap_lo',\n",
              "       'cholesterol', 'gluc', 'smoke', 'alco', 'active', 'cardio'],\n",
              "      dtype='object')"
            ]
          },
          "metadata": {
            "tags": []
          },
          "execution_count": 27
        }
      ]
    },
    {
      "cell_type": "code",
      "metadata": {
        "colab": {
          "base_uri": "https://localhost:8080/"
        },
        "id": "bMa8RzCdt5qh",
        "outputId": "aaa93770-bb9c-4fe0-8f6d-6bbcbb5eb92f"
      },
      "source": [
        "df.shape"
      ],
      "execution_count": null,
      "outputs": [
        {
          "output_type": "execute_result",
          "data": {
            "text/plain": [
              "(70000, 13)"
            ]
          },
          "metadata": {
            "tags": []
          },
          "execution_count": 28
        }
      ]
    },
    {
      "cell_type": "code",
      "metadata": {
        "colab": {
          "base_uri": "https://localhost:8080/",
          "height": 206
        },
        "id": "aljRDxjSt5qj",
        "outputId": "60a3df02-f1ad-4ba7-f19f-aed2f25dbcbe"
      },
      "source": [
        "df.head()"
      ],
      "execution_count": null,
      "outputs": [
        {
          "output_type": "execute_result",
          "data": {
            "text/html": [
              "<div>\n",
              "<style scoped>\n",
              "    .dataframe tbody tr th:only-of-type {\n",
              "        vertical-align: middle;\n",
              "    }\n",
              "\n",
              "    .dataframe tbody tr th {\n",
              "        vertical-align: top;\n",
              "    }\n",
              "\n",
              "    .dataframe thead th {\n",
              "        text-align: right;\n",
              "    }\n",
              "</style>\n",
              "<table border=\"1\" class=\"dataframe\">\n",
              "  <thead>\n",
              "    <tr style=\"text-align: right;\">\n",
              "      <th></th>\n",
              "      <th>id</th>\n",
              "      <th>age</th>\n",
              "      <th>gender</th>\n",
              "      <th>height</th>\n",
              "      <th>weight</th>\n",
              "      <th>ap_hi</th>\n",
              "      <th>ap_lo</th>\n",
              "      <th>cholesterol</th>\n",
              "      <th>gluc</th>\n",
              "      <th>smoke</th>\n",
              "      <th>alco</th>\n",
              "      <th>active</th>\n",
              "      <th>cardio</th>\n",
              "    </tr>\n",
              "  </thead>\n",
              "  <tbody>\n",
              "    <tr>\n",
              "      <th>0</th>\n",
              "      <td>0</td>\n",
              "      <td>18393</td>\n",
              "      <td>2</td>\n",
              "      <td>168</td>\n",
              "      <td>62.0</td>\n",
              "      <td>110</td>\n",
              "      <td>80</td>\n",
              "      <td>1</td>\n",
              "      <td>1</td>\n",
              "      <td>0</td>\n",
              "      <td>0</td>\n",
              "      <td>1</td>\n",
              "      <td>negative</td>\n",
              "    </tr>\n",
              "    <tr>\n",
              "      <th>1</th>\n",
              "      <td>1</td>\n",
              "      <td>20228</td>\n",
              "      <td>1</td>\n",
              "      <td>156</td>\n",
              "      <td>85.0</td>\n",
              "      <td>140</td>\n",
              "      <td>90</td>\n",
              "      <td>3</td>\n",
              "      <td>1</td>\n",
              "      <td>0</td>\n",
              "      <td>0</td>\n",
              "      <td>1</td>\n",
              "      <td>positive</td>\n",
              "    </tr>\n",
              "    <tr>\n",
              "      <th>2</th>\n",
              "      <td>2</td>\n",
              "      <td>18857</td>\n",
              "      <td>1</td>\n",
              "      <td>165</td>\n",
              "      <td>64.0</td>\n",
              "      <td>130</td>\n",
              "      <td>70</td>\n",
              "      <td>3</td>\n",
              "      <td>1</td>\n",
              "      <td>0</td>\n",
              "      <td>0</td>\n",
              "      <td>0</td>\n",
              "      <td>positive</td>\n",
              "    </tr>\n",
              "    <tr>\n",
              "      <th>3</th>\n",
              "      <td>3</td>\n",
              "      <td>17623</td>\n",
              "      <td>2</td>\n",
              "      <td>169</td>\n",
              "      <td>82.0</td>\n",
              "      <td>150</td>\n",
              "      <td>100</td>\n",
              "      <td>1</td>\n",
              "      <td>1</td>\n",
              "      <td>0</td>\n",
              "      <td>0</td>\n",
              "      <td>1</td>\n",
              "      <td>positive</td>\n",
              "    </tr>\n",
              "    <tr>\n",
              "      <th>4</th>\n",
              "      <td>4</td>\n",
              "      <td>17474</td>\n",
              "      <td>1</td>\n",
              "      <td>156</td>\n",
              "      <td>56.0</td>\n",
              "      <td>100</td>\n",
              "      <td>60</td>\n",
              "      <td>1</td>\n",
              "      <td>1</td>\n",
              "      <td>0</td>\n",
              "      <td>0</td>\n",
              "      <td>0</td>\n",
              "      <td>negative</td>\n",
              "    </tr>\n",
              "  </tbody>\n",
              "</table>\n",
              "</div>"
            ],
            "text/plain": [
              "   id    age  gender  height  weight  ...  gluc  smoke  alco  active    cardio\n",
              "0   0  18393       2     168    62.0  ...     1      0     0       1  negative\n",
              "1   1  20228       1     156    85.0  ...     1      0     0       1  positive\n",
              "2   2  18857       1     165    64.0  ...     1      0     0       0  positive\n",
              "3   3  17623       2     169    82.0  ...     1      0     0       1  positive\n",
              "4   4  17474       1     156    56.0  ...     1      0     0       0  negative\n",
              "\n",
              "[5 rows x 13 columns]"
            ]
          },
          "metadata": {
            "tags": []
          },
          "execution_count": 29
        }
      ]
    },
    {
      "cell_type": "code",
      "metadata": {
        "colab": {
          "base_uri": "https://localhost:8080/",
          "height": 206
        },
        "id": "xXNvlm_pt5qm",
        "outputId": "f8e0c6cd-95fe-431c-9d2f-79caabed826a"
      },
      "source": [
        "df.tail()"
      ],
      "execution_count": null,
      "outputs": [
        {
          "output_type": "execute_result",
          "data": {
            "text/html": [
              "<div>\n",
              "<style scoped>\n",
              "    .dataframe tbody tr th:only-of-type {\n",
              "        vertical-align: middle;\n",
              "    }\n",
              "\n",
              "    .dataframe tbody tr th {\n",
              "        vertical-align: top;\n",
              "    }\n",
              "\n",
              "    .dataframe thead th {\n",
              "        text-align: right;\n",
              "    }\n",
              "</style>\n",
              "<table border=\"1\" class=\"dataframe\">\n",
              "  <thead>\n",
              "    <tr style=\"text-align: right;\">\n",
              "      <th></th>\n",
              "      <th>id</th>\n",
              "      <th>age</th>\n",
              "      <th>gender</th>\n",
              "      <th>height</th>\n",
              "      <th>weight</th>\n",
              "      <th>ap_hi</th>\n",
              "      <th>ap_lo</th>\n",
              "      <th>cholesterol</th>\n",
              "      <th>gluc</th>\n",
              "      <th>smoke</th>\n",
              "      <th>alco</th>\n",
              "      <th>active</th>\n",
              "      <th>cardio</th>\n",
              "    </tr>\n",
              "  </thead>\n",
              "  <tbody>\n",
              "    <tr>\n",
              "      <th>69995</th>\n",
              "      <td>99993</td>\n",
              "      <td>19240</td>\n",
              "      <td>2</td>\n",
              "      <td>168</td>\n",
              "      <td>76.0</td>\n",
              "      <td>120</td>\n",
              "      <td>80</td>\n",
              "      <td>1</td>\n",
              "      <td>1</td>\n",
              "      <td>1</td>\n",
              "      <td>0</td>\n",
              "      <td>1</td>\n",
              "      <td>negative</td>\n",
              "    </tr>\n",
              "    <tr>\n",
              "      <th>69996</th>\n",
              "      <td>99995</td>\n",
              "      <td>22601</td>\n",
              "      <td>1</td>\n",
              "      <td>158</td>\n",
              "      <td>126.0</td>\n",
              "      <td>140</td>\n",
              "      <td>90</td>\n",
              "      <td>2</td>\n",
              "      <td>2</td>\n",
              "      <td>0</td>\n",
              "      <td>0</td>\n",
              "      <td>1</td>\n",
              "      <td>positive</td>\n",
              "    </tr>\n",
              "    <tr>\n",
              "      <th>69997</th>\n",
              "      <td>99996</td>\n",
              "      <td>19066</td>\n",
              "      <td>2</td>\n",
              "      <td>183</td>\n",
              "      <td>105.0</td>\n",
              "      <td>180</td>\n",
              "      <td>90</td>\n",
              "      <td>3</td>\n",
              "      <td>1</td>\n",
              "      <td>0</td>\n",
              "      <td>1</td>\n",
              "      <td>0</td>\n",
              "      <td>positive</td>\n",
              "    </tr>\n",
              "    <tr>\n",
              "      <th>69998</th>\n",
              "      <td>99998</td>\n",
              "      <td>22431</td>\n",
              "      <td>1</td>\n",
              "      <td>163</td>\n",
              "      <td>72.0</td>\n",
              "      <td>135</td>\n",
              "      <td>80</td>\n",
              "      <td>1</td>\n",
              "      <td>2</td>\n",
              "      <td>0</td>\n",
              "      <td>0</td>\n",
              "      <td>0</td>\n",
              "      <td>positive</td>\n",
              "    </tr>\n",
              "    <tr>\n",
              "      <th>69999</th>\n",
              "      <td>99999</td>\n",
              "      <td>20540</td>\n",
              "      <td>1</td>\n",
              "      <td>170</td>\n",
              "      <td>72.0</td>\n",
              "      <td>120</td>\n",
              "      <td>80</td>\n",
              "      <td>2</td>\n",
              "      <td>1</td>\n",
              "      <td>0</td>\n",
              "      <td>0</td>\n",
              "      <td>1</td>\n",
              "      <td>negative</td>\n",
              "    </tr>\n",
              "  </tbody>\n",
              "</table>\n",
              "</div>"
            ],
            "text/plain": [
              "          id    age  gender  height  ...  smoke  alco  active    cardio\n",
              "69995  99993  19240       2     168  ...      1     0       1  negative\n",
              "69996  99995  22601       1     158  ...      0     0       1  positive\n",
              "69997  99996  19066       2     183  ...      0     1       0  positive\n",
              "69998  99998  22431       1     163  ...      0     0       0  positive\n",
              "69999  99999  20540       1     170  ...      0     0       1  negative\n",
              "\n",
              "[5 rows x 13 columns]"
            ]
          },
          "metadata": {
            "tags": []
          },
          "execution_count": 30
        }
      ]
    },
    {
      "cell_type": "markdown",
      "metadata": {
        "id": "9ti22sLbgvUH"
      },
      "source": [
        "\n",
        "pandas datatypes\n",
        "<img src=\"https://miro.medium.com/max/3280/1*PRXWM7hwR9HHbpe-goewFQ.png\">"
      ]
    },
    {
      "cell_type": "code",
      "metadata": {
        "colab": {
          "base_uri": "https://localhost:8080/"
        },
        "id": "sP2fnAXLt5qm",
        "outputId": "a6db1033-aa27-4a28-8d68-7d182ca250dc"
      },
      "source": [
        "df.info()"
      ],
      "execution_count": null,
      "outputs": [
        {
          "output_type": "stream",
          "text": [
            "<class 'pandas.core.frame.DataFrame'>\n",
            "RangeIndex: 70000 entries, 0 to 69999\n",
            "Data columns (total 13 columns):\n",
            " #   Column       Non-Null Count  Dtype  \n",
            "---  ------       --------------  -----  \n",
            " 0   id           70000 non-null  int64  \n",
            " 1   age          70000 non-null  int64  \n",
            " 2   gender       70000 non-null  int64  \n",
            " 3   height       70000 non-null  int64  \n",
            " 4   weight       70000 non-null  float64\n",
            " 5   ap_hi        70000 non-null  int64  \n",
            " 6   ap_lo        70000 non-null  int64  \n",
            " 7   cholesterol  70000 non-null  int64  \n",
            " 8   gluc         70000 non-null  int64  \n",
            " 9   smoke        70000 non-null  int64  \n",
            " 10  alco         70000 non-null  int64  \n",
            " 11  active       70000 non-null  int64  \n",
            " 12  cardio       70000 non-null  object \n",
            "dtypes: float64(1), int64(11), object(1)\n",
            "memory usage: 6.9+ MB\n"
          ],
          "name": "stdout"
        }
      ]
    },
    {
      "cell_type": "code",
      "metadata": {
        "colab": {
          "base_uri": "https://localhost:8080/",
          "height": 300
        },
        "id": "JL1Wp0Mgt5qn",
        "outputId": "56982189-b96b-4dcd-e299-ba42035d03e1"
      },
      "source": [
        "df.describe()"
      ],
      "execution_count": null,
      "outputs": [
        {
          "output_type": "execute_result",
          "data": {
            "text/html": [
              "<div>\n",
              "<style scoped>\n",
              "    .dataframe tbody tr th:only-of-type {\n",
              "        vertical-align: middle;\n",
              "    }\n",
              "\n",
              "    .dataframe tbody tr th {\n",
              "        vertical-align: top;\n",
              "    }\n",
              "\n",
              "    .dataframe thead th {\n",
              "        text-align: right;\n",
              "    }\n",
              "</style>\n",
              "<table border=\"1\" class=\"dataframe\">\n",
              "  <thead>\n",
              "    <tr style=\"text-align: right;\">\n",
              "      <th></th>\n",
              "      <th>id</th>\n",
              "      <th>age</th>\n",
              "      <th>gender</th>\n",
              "      <th>height</th>\n",
              "      <th>weight</th>\n",
              "      <th>ap_hi</th>\n",
              "      <th>ap_lo</th>\n",
              "      <th>cholesterol</th>\n",
              "      <th>gluc</th>\n",
              "      <th>smoke</th>\n",
              "      <th>alco</th>\n",
              "      <th>active</th>\n",
              "    </tr>\n",
              "  </thead>\n",
              "  <tbody>\n",
              "    <tr>\n",
              "      <th>count</th>\n",
              "      <td>70000.000000</td>\n",
              "      <td>70000.000000</td>\n",
              "      <td>70000.000000</td>\n",
              "      <td>70000.000000</td>\n",
              "      <td>70000.000000</td>\n",
              "      <td>70000.000000</td>\n",
              "      <td>70000.000000</td>\n",
              "      <td>70000.000000</td>\n",
              "      <td>70000.000000</td>\n",
              "      <td>70000.000000</td>\n",
              "      <td>70000.000000</td>\n",
              "      <td>70000.000000</td>\n",
              "    </tr>\n",
              "    <tr>\n",
              "      <th>mean</th>\n",
              "      <td>49972.419900</td>\n",
              "      <td>19468.865814</td>\n",
              "      <td>1.349571</td>\n",
              "      <td>164.359229</td>\n",
              "      <td>74.205690</td>\n",
              "      <td>128.817286</td>\n",
              "      <td>96.630414</td>\n",
              "      <td>1.366871</td>\n",
              "      <td>1.226457</td>\n",
              "      <td>0.088129</td>\n",
              "      <td>0.053771</td>\n",
              "      <td>0.803729</td>\n",
              "    </tr>\n",
              "    <tr>\n",
              "      <th>std</th>\n",
              "      <td>28851.302323</td>\n",
              "      <td>2467.251667</td>\n",
              "      <td>0.476838</td>\n",
              "      <td>8.210126</td>\n",
              "      <td>14.395757</td>\n",
              "      <td>154.011419</td>\n",
              "      <td>188.472530</td>\n",
              "      <td>0.680250</td>\n",
              "      <td>0.572270</td>\n",
              "      <td>0.283484</td>\n",
              "      <td>0.225568</td>\n",
              "      <td>0.397179</td>\n",
              "    </tr>\n",
              "    <tr>\n",
              "      <th>min</th>\n",
              "      <td>0.000000</td>\n",
              "      <td>10798.000000</td>\n",
              "      <td>1.000000</td>\n",
              "      <td>55.000000</td>\n",
              "      <td>10.000000</td>\n",
              "      <td>-150.000000</td>\n",
              "      <td>-70.000000</td>\n",
              "      <td>1.000000</td>\n",
              "      <td>1.000000</td>\n",
              "      <td>0.000000</td>\n",
              "      <td>0.000000</td>\n",
              "      <td>0.000000</td>\n",
              "    </tr>\n",
              "    <tr>\n",
              "      <th>25%</th>\n",
              "      <td>25006.750000</td>\n",
              "      <td>17664.000000</td>\n",
              "      <td>1.000000</td>\n",
              "      <td>159.000000</td>\n",
              "      <td>65.000000</td>\n",
              "      <td>120.000000</td>\n",
              "      <td>80.000000</td>\n",
              "      <td>1.000000</td>\n",
              "      <td>1.000000</td>\n",
              "      <td>0.000000</td>\n",
              "      <td>0.000000</td>\n",
              "      <td>1.000000</td>\n",
              "    </tr>\n",
              "    <tr>\n",
              "      <th>50%</th>\n",
              "      <td>50001.500000</td>\n",
              "      <td>19703.000000</td>\n",
              "      <td>1.000000</td>\n",
              "      <td>165.000000</td>\n",
              "      <td>72.000000</td>\n",
              "      <td>120.000000</td>\n",
              "      <td>80.000000</td>\n",
              "      <td>1.000000</td>\n",
              "      <td>1.000000</td>\n",
              "      <td>0.000000</td>\n",
              "      <td>0.000000</td>\n",
              "      <td>1.000000</td>\n",
              "    </tr>\n",
              "    <tr>\n",
              "      <th>75%</th>\n",
              "      <td>74889.250000</td>\n",
              "      <td>21327.000000</td>\n",
              "      <td>2.000000</td>\n",
              "      <td>170.000000</td>\n",
              "      <td>82.000000</td>\n",
              "      <td>140.000000</td>\n",
              "      <td>90.000000</td>\n",
              "      <td>2.000000</td>\n",
              "      <td>1.000000</td>\n",
              "      <td>0.000000</td>\n",
              "      <td>0.000000</td>\n",
              "      <td>1.000000</td>\n",
              "    </tr>\n",
              "    <tr>\n",
              "      <th>max</th>\n",
              "      <td>99999.000000</td>\n",
              "      <td>23713.000000</td>\n",
              "      <td>2.000000</td>\n",
              "      <td>250.000000</td>\n",
              "      <td>200.000000</td>\n",
              "      <td>16020.000000</td>\n",
              "      <td>11000.000000</td>\n",
              "      <td>3.000000</td>\n",
              "      <td>3.000000</td>\n",
              "      <td>1.000000</td>\n",
              "      <td>1.000000</td>\n",
              "      <td>1.000000</td>\n",
              "    </tr>\n",
              "  </tbody>\n",
              "</table>\n",
              "</div>"
            ],
            "text/plain": [
              "                 id           age  ...          alco        active\n",
              "count  70000.000000  70000.000000  ...  70000.000000  70000.000000\n",
              "mean   49972.419900  19468.865814  ...      0.053771      0.803729\n",
              "std    28851.302323   2467.251667  ...      0.225568      0.397179\n",
              "min        0.000000  10798.000000  ...      0.000000      0.000000\n",
              "25%    25006.750000  17664.000000  ...      0.000000      1.000000\n",
              "50%    50001.500000  19703.000000  ...      0.000000      1.000000\n",
              "75%    74889.250000  21327.000000  ...      0.000000      1.000000\n",
              "max    99999.000000  23713.000000  ...      1.000000      1.000000\n",
              "\n",
              "[8 rows x 12 columns]"
            ]
          },
          "metadata": {
            "tags": []
          },
          "execution_count": 32
        }
      ]
    },
    {
      "cell_type": "code",
      "metadata": {
        "colab": {
          "base_uri": "https://localhost:8080/"
        },
        "id": "8IhloSwEt5qz",
        "outputId": "76019648-a1f9-4a4c-c707-a3713931a280"
      },
      "source": [
        "cnts = df['age'].value_counts()\n",
        "cnts"
      ],
      "execution_count": null,
      "outputs": [
        {
          "output_type": "execute_result",
          "data": {
            "text/plain": [
              "19741    32\n",
              "18236    32\n",
              "20376    31\n",
              "20442    31\n",
              "18253    31\n",
              "         ..\n",
              "17768     1\n",
              "21497     1\n",
              "15591     1\n",
              "23672     1\n",
              "14329     1\n",
              "Name: age, Length: 8076, dtype: int64"
            ]
          },
          "metadata": {
            "tags": []
          },
          "execution_count": 40
        }
      ]
    },
    {
      "cell_type": "code",
      "metadata": {
        "colab": {
          "base_uri": "https://localhost:8080/",
          "height": 282
        },
        "id": "521WDTKzOaXu",
        "outputId": "4ba2b76d-b9aa-45fe-f32b-84a4bbefdfc1"
      },
      "source": [
        "cnts.hist(bins=13)"
      ],
      "execution_count": null,
      "outputs": [
        {
          "output_type": "execute_result",
          "data": {
            "text/plain": [
              "<matplotlib.axes._subplots.AxesSubplot at 0x7f07c715db38>"
            ]
          },
          "metadata": {
            "tags": []
          },
          "execution_count": 43
        },
        {
          "output_type": "display_data",
          "data": {
            "image/png": "[encoded data removed]",
            "text/plain": [
              "<Figure size 432x288 with 1 Axes>"
            ]
          },
          "metadata": {
            "tags": [],
            "needs_background": "light"
          }
        }
      ]
    },
    {
      "cell_type": "code",
      "metadata": {
        "colab": {
          "base_uri": "https://localhost:8080/"
        },
        "id": "7e737qc_t5q0",
        "outputId": "edea8071-285a-49f3-e145-cdaa15e6ef2e"
      },
      "source": [
        "df['weight'].value_counts()"
      ],
      "execution_count": null,
      "outputs": [
        {
          "output_type": "execute_result",
          "data": {
            "text/plain": [
              "65.0     3850\n",
              "70.0     3764\n",
              "68.0     2831\n",
              "75.0     2740\n",
              "60.0     2710\n",
              "         ... \n",
              "169.0       1\n",
              "54.9        1\n",
              "96.5        1\n",
              "42.2        1\n",
              "50.7        1\n",
              "Name: weight, Length: 287, dtype: int64"
            ]
          },
          "metadata": {
            "tags": []
          },
          "execution_count": 44
        }
      ]
    },
    {
      "cell_type": "code",
      "metadata": {
        "colab": {
          "base_uri": "https://localhost:8080/"
        },
        "id": "OAwFCA0rt5q1",
        "outputId": "f6bd5142-431c-4d31-ed46-07d7a9f30178"
      },
      "source": [
        "df.isna().sum()"
      ],
      "execution_count": null,
      "outputs": [
        {
          "output_type": "execute_result",
          "data": {
            "text/plain": [
              "id             0\n",
              "age            0\n",
              "gender         0\n",
              "height         0\n",
              "weight         0\n",
              "ap_hi          0\n",
              "ap_lo          0\n",
              "cholesterol    0\n",
              "gluc           0\n",
              "smoke          0\n",
              "alco           0\n",
              "active         0\n",
              "cardio         0\n",
              "dtype: int64"
            ]
          },
          "metadata": {
            "tags": []
          },
          "execution_count": 45
        }
      ]
    },
    {
      "cell_type": "code",
      "metadata": {
        "id": "lTL2nQOfSYtB"
      },
      "source": [
        "df"
      ],
      "execution_count": null,
      "outputs": []
    },
    {
      "cell_type": "code",
      "metadata": {
        "id": "XIh65JkHt5q2"
      },
      "source": [
        "df['cardio'].value_counts()"
      ],
      "execution_count": null,
      "outputs": []
    },
    {
      "cell_type": "markdown",
      "metadata": {
        "id": "7HU9C7eZc8Yl"
      },
      "source": [
        "### features/target selection"
      ]
    },
    {
      "cell_type": "markdown",
      "metadata": {
        "id": "su4v1YojdNKt"
      },
      "source": [
        "#### target processing"
      ]
    },
    {
      "cell_type": "code",
      "metadata": {
        "colab": {
          "base_uri": "https://localhost:8080/",
          "height": 143
        },
        "id": "_O0XGSZrT0WW",
        "outputId": "26e6e5d8-2cff-4d8c-b144-4325f6754399"
      },
      "source": [
        "test_df\n"
      ],
      "execution_count": null,
      "outputs": [
        {
          "output_type": "execute_result",
          "data": {
            "text/html": [
              "<div>\n",
              "<style scoped>\n",
              "    .dataframe tbody tr th:only-of-type {\n",
              "        vertical-align: middle;\n",
              "    }\n",
              "\n",
              "    .dataframe tbody tr th {\n",
              "        vertical-align: top;\n",
              "    }\n",
              "\n",
              "    .dataframe thead th {\n",
              "        text-align: right;\n",
              "    }\n",
              "</style>\n",
              "<table border=\"1\" class=\"dataframe\">\n",
              "  <thead>\n",
              "    <tr style=\"text-align: right;\">\n",
              "      <th></th>\n",
              "      <th>population</th>\n",
              "      <th>country_name</th>\n",
              "      <th>is_safe</th>\n",
              "    </tr>\n",
              "  </thead>\n",
              "  <tbody>\n",
              "    <tr>\n",
              "      <th>0</th>\n",
              "      <td>30</td>\n",
              "      <td>USA</td>\n",
              "      <td>YES</td>\n",
              "    </tr>\n",
              "    <tr>\n",
              "      <th>1</th>\n",
              "      <td>20</td>\n",
              "      <td>Egypt</td>\n",
              "      <td>YES</td>\n",
              "    </tr>\n",
              "    <tr>\n",
              "      <th>2</th>\n",
              "      <td>100</td>\n",
              "      <td>KSA</td>\n",
              "      <td>NO</td>\n",
              "    </tr>\n",
              "  </tbody>\n",
              "</table>\n",
              "</div>"
            ],
            "text/plain": [
              "  population country_name is_safe\n",
              "0         30          USA     YES\n",
              "1         20        Egypt     YES\n",
              "2        100          KSA      NO"
            ]
          },
          "metadata": {
            "tags": []
          },
          "execution_count": 46
        }
      ]
    },
    {
      "cell_type": "code",
      "metadata": {
        "colab": {
          "base_uri": "https://localhost:8080/",
          "height": 143
        },
        "id": "yJ8n5pOHUtXu",
        "outputId": "e4ca9a5d-1ec5-44e4-8f76-2261ddcdb26a"
      },
      "source": [
        "conv_dict = {\n",
        "    \"is_safe\": {\"YES\": 1, \"NO\": 0}\n",
        "}\n",
        "\n",
        "test_df.replace(conv_dict)"
      ],
      "execution_count": null,
      "outputs": [
        {
          "output_type": "execute_result",
          "data": {
            "text/html": [
              "<div>\n",
              "<style scoped>\n",
              "    .dataframe tbody tr th:only-of-type {\n",
              "        vertical-align: middle;\n",
              "    }\n",
              "\n",
              "    .dataframe tbody tr th {\n",
              "        vertical-align: top;\n",
              "    }\n",
              "\n",
              "    .dataframe thead th {\n",
              "        text-align: right;\n",
              "    }\n",
              "</style>\n",
              "<table border=\"1\" class=\"dataframe\">\n",
              "  <thead>\n",
              "    <tr style=\"text-align: right;\">\n",
              "      <th></th>\n",
              "      <th>population</th>\n",
              "      <th>country_name</th>\n",
              "      <th>is_safe</th>\n",
              "    </tr>\n",
              "  </thead>\n",
              "  <tbody>\n",
              "    <tr>\n",
              "      <th>0</th>\n",
              "      <td>30</td>\n",
              "      <td>USA</td>\n",
              "      <td>1</td>\n",
              "    </tr>\n",
              "    <tr>\n",
              "      <th>1</th>\n",
              "      <td>20</td>\n",
              "      <td>Egypt</td>\n",
              "      <td>1</td>\n",
              "    </tr>\n",
              "    <tr>\n",
              "      <th>2</th>\n",
              "      <td>100</td>\n",
              "      <td>KSA</td>\n",
              "      <td>0</td>\n",
              "    </tr>\n",
              "  </tbody>\n",
              "</table>\n",
              "</div>"
            ],
            "text/plain": [
              "  population country_name  is_safe\n",
              "0         30          USA        1\n",
              "1         20        Egypt        1\n",
              "2        100          KSA        0"
            ]
          },
          "metadata": {
            "tags": []
          },
          "execution_count": 48
        }
      ]
    },
    {
      "cell_type": "code",
      "metadata": {
        "colab": {
          "base_uri": "https://localhost:8080/",
          "height": 424
        },
        "id": "KSmds1b9SNK9",
        "outputId": "bea13823-4ab6-45f0-98a8-65b75e505b9c"
      },
      "source": [
        "df"
      ],
      "execution_count": null,
      "outputs": [
        {
          "output_type": "execute_result",
          "data": {
            "text/html": [
              "<div>\n",
              "<style scoped>\n",
              "    .dataframe tbody tr th:only-of-type {\n",
              "        vertical-align: middle;\n",
              "    }\n",
              "\n",
              "    .dataframe tbody tr th {\n",
              "        vertical-align: top;\n",
              "    }\n",
              "\n",
              "    .dataframe thead th {\n",
              "        text-align: right;\n",
              "    }\n",
              "</style>\n",
              "<table border=\"1\" class=\"dataframe\">\n",
              "  <thead>\n",
              "    <tr style=\"text-align: right;\">\n",
              "      <th></th>\n",
              "      <th>id</th>\n",
              "      <th>age</th>\n",
              "      <th>gender</th>\n",
              "      <th>height</th>\n",
              "      <th>weight</th>\n",
              "      <th>ap_hi</th>\n",
              "      <th>ap_lo</th>\n",
              "      <th>cholesterol</th>\n",
              "      <th>gluc</th>\n",
              "      <th>smoke</th>\n",
              "      <th>alco</th>\n",
              "      <th>active</th>\n",
              "      <th>cardio</th>\n",
              "    </tr>\n",
              "  </thead>\n",
              "  <tbody>\n",
              "    <tr>\n",
              "      <th>0</th>\n",
              "      <td>0</td>\n",
              "      <td>18393</td>\n",
              "      <td>2</td>\n",
              "      <td>168</td>\n",
              "      <td>62.0</td>\n",
              "      <td>110</td>\n",
              "      <td>80</td>\n",
              "      <td>1</td>\n",
              "      <td>1</td>\n",
              "      <td>0</td>\n",
              "      <td>0</td>\n",
              "      <td>1</td>\n",
              "      <td>negative</td>\n",
              "    </tr>\n",
              "    <tr>\n",
              "      <th>1</th>\n",
              "      <td>1</td>\n",
              "      <td>20228</td>\n",
              "      <td>1</td>\n",
              "      <td>156</td>\n",
              "      <td>85.0</td>\n",
              "      <td>140</td>\n",
              "      <td>90</td>\n",
              "      <td>3</td>\n",
              "      <td>1</td>\n",
              "      <td>0</td>\n",
              "      <td>0</td>\n",
              "      <td>1</td>\n",
              "      <td>positive</td>\n",
              "    </tr>\n",
              "    <tr>\n",
              "      <th>2</th>\n",
              "      <td>2</td>\n",
              "      <td>18857</td>\n",
              "      <td>1</td>\n",
              "      <td>165</td>\n",
              "      <td>64.0</td>\n",
              "      <td>130</td>\n",
              "      <td>70</td>\n",
              "      <td>3</td>\n",
              "      <td>1</td>\n",
              "      <td>0</td>\n",
              "      <td>0</td>\n",
              "      <td>0</td>\n",
              "      <td>positive</td>\n",
              "    </tr>\n",
              "    <tr>\n",
              "      <th>3</th>\n",
              "      <td>3</td>\n",
              "      <td>17623</td>\n",
              "      <td>2</td>\n",
              "      <td>169</td>\n",
              "      <td>82.0</td>\n",
              "      <td>150</td>\n",
              "      <td>100</td>\n",
              "      <td>1</td>\n",
              "      <td>1</td>\n",
              "      <td>0</td>\n",
              "      <td>0</td>\n",
              "      <td>1</td>\n",
              "      <td>positive</td>\n",
              "    </tr>\n",
              "    <tr>\n",
              "      <th>4</th>\n",
              "      <td>4</td>\n",
              "      <td>17474</td>\n",
              "      <td>1</td>\n",
              "      <td>156</td>\n",
              "      <td>56.0</td>\n",
              "      <td>100</td>\n",
              "      <td>60</td>\n",
              "      <td>1</td>\n",
              "      <td>1</td>\n",
              "      <td>0</td>\n",
              "      <td>0</td>\n",
              "      <td>0</td>\n",
              "      <td>negative</td>\n",
              "    </tr>\n",
              "    <tr>\n",
              "      <th>...</th>\n",
              "      <td>...</td>\n",
              "      <td>...</td>\n",
              "      <td>...</td>\n",
              "      <td>...</td>\n",
              "      <td>...</td>\n",
              "      <td>...</td>\n",
              "      <td>...</td>\n",
              "      <td>...</td>\n",
              "      <td>...</td>\n",
              "      <td>...</td>\n",
              "      <td>...</td>\n",
              "      <td>...</td>\n",
              "      <td>...</td>\n",
              "    </tr>\n",
              "    <tr>\n",
              "      <th>69995</th>\n",
              "      <td>99993</td>\n",
              "      <td>19240</td>\n",
              "      <td>2</td>\n",
              "      <td>168</td>\n",
              "      <td>76.0</td>\n",
              "      <td>120</td>\n",
              "      <td>80</td>\n",
              "      <td>1</td>\n",
              "      <td>1</td>\n",
              "      <td>1</td>\n",
              "      <td>0</td>\n",
              "      <td>1</td>\n",
              "      <td>negative</td>\n",
              "    </tr>\n",
              "    <tr>\n",
              "      <th>69996</th>\n",
              "      <td>99995</td>\n",
              "      <td>22601</td>\n",
              "      <td>1</td>\n",
              "      <td>158</td>\n",
              "      <td>126.0</td>\n",
              "      <td>140</td>\n",
              "      <td>90</td>\n",
              "      <td>2</td>\n",
              "      <td>2</td>\n",
              "      <td>0</td>\n",
              "      <td>0</td>\n",
              "      <td>1</td>\n",
              "      <td>positive</td>\n",
              "    </tr>\n",
              "    <tr>\n",
              "      <th>69997</th>\n",
              "      <td>99996</td>\n",
              "      <td>19066</td>\n",
              "      <td>2</td>\n",
              "      <td>183</td>\n",
              "      <td>105.0</td>\n",
              "      <td>180</td>\n",
              "      <td>90</td>\n",
              "      <td>3</td>\n",
              "      <td>1</td>\n",
              "      <td>0</td>\n",
              "      <td>1</td>\n",
              "      <td>0</td>\n",
              "      <td>positive</td>\n",
              "    </tr>\n",
              "    <tr>\n",
              "      <th>69998</th>\n",
              "      <td>99998</td>\n",
              "      <td>22431</td>\n",
              "      <td>1</td>\n",
              "      <td>163</td>\n",
              "      <td>72.0</td>\n",
              "      <td>135</td>\n",
              "      <td>80</td>\n",
              "      <td>1</td>\n",
              "      <td>2</td>\n",
              "      <td>0</td>\n",
              "      <td>0</td>\n",
              "      <td>0</td>\n",
              "      <td>positive</td>\n",
              "    </tr>\n",
              "    <tr>\n",
              "      <th>69999</th>\n",
              "      <td>99999</td>\n",
              "      <td>20540</td>\n",
              "      <td>1</td>\n",
              "      <td>170</td>\n",
              "      <td>72.0</td>\n",
              "      <td>120</td>\n",
              "      <td>80</td>\n",
              "      <td>2</td>\n",
              "      <td>1</td>\n",
              "      <td>0</td>\n",
              "      <td>0</td>\n",
              "      <td>1</td>\n",
              "      <td>negative</td>\n",
              "    </tr>\n",
              "  </tbody>\n",
              "</table>\n",
              "<p>70000 rows × 13 columns</p>\n",
              "</div>"
            ],
            "text/plain": [
              "          id    age  gender  height  ...  smoke  alco  active    cardio\n",
              "0          0  18393       2     168  ...      0     0       1  negative\n",
              "1          1  20228       1     156  ...      0     0       1  positive\n",
              "2          2  18857       1     165  ...      0     0       0  positive\n",
              "3          3  17623       2     169  ...      0     0       1  positive\n",
              "4          4  17474       1     156  ...      0     0       0  negative\n",
              "...      ...    ...     ...     ...  ...    ...   ...     ...       ...\n",
              "69995  99993  19240       2     168  ...      1     0       1  negative\n",
              "69996  99995  22601       1     158  ...      0     0       1  positive\n",
              "69997  99996  19066       2     183  ...      0     1       0  positive\n",
              "69998  99998  22431       1     163  ...      0     0       0  positive\n",
              "69999  99999  20540       1     170  ...      0     0       1  negative\n",
              "\n",
              "[70000 rows x 13 columns]"
            ]
          },
          "metadata": {
            "tags": []
          },
          "execution_count": 49
        }
      ]
    },
    {
      "cell_type": "code",
      "metadata": {
        "colab": {
          "base_uri": "https://localhost:8080/"
        },
        "id": "b0XpOhD4t5q3",
        "outputId": "fd8b7a4f-7809-4e7b-fbcc-a1bea4eb2cdb"
      },
      "source": [
        "target = df.pop('cardio')\n",
        "target"
      ],
      "execution_count": null,
      "outputs": [
        {
          "output_type": "execute_result",
          "data": {
            "text/plain": [
              "0        negative\n",
              "1        positive\n",
              "2        positive\n",
              "3        positive\n",
              "4        negative\n",
              "           ...   \n",
              "69995    negative\n",
              "69996    positive\n",
              "69997    positive\n",
              "69998    positive\n",
              "69999    negative\n",
              "Name: cardio, Length: 70000, dtype: object"
            ]
          },
          "metadata": {
            "tags": []
          },
          "execution_count": 56
        }
      ]
    },
    {
      "cell_type": "markdown",
      "metadata": {
        "id": "MfRwbZo_pwgf"
      },
      "source": [
        "##### one hot encoding"
      ]
    },
    {
      "cell_type": "code",
      "metadata": {
        "colab": {
          "base_uri": "https://localhost:8080/"
        },
        "id": "BuqTqyCmd_wN",
        "outputId": "c0baf041-318d-4e86-d038-6b1469b49191"
      },
      "source": [
        "\n",
        "conv_dict = {\"positive\": 0, \"negative\":1}\n",
        "\n",
        "target = target.replace(conv_dict)\n",
        "target\n"
      ],
      "execution_count": null,
      "outputs": [
        {
          "output_type": "execute_result",
          "data": {
            "text/plain": [
              "0        1\n",
              "1        0\n",
              "2        0\n",
              "3        0\n",
              "4        1\n",
              "        ..\n",
              "69995    1\n",
              "69996    0\n",
              "69997    0\n",
              "69998    0\n",
              "69999    1\n",
              "Name: cardio, Length: 70000, dtype: int64"
            ]
          },
          "metadata": {
            "tags": []
          },
          "execution_count": 57
        }
      ]
    },
    {
      "cell_type": "code",
      "metadata": {
        "colab": {
          "base_uri": "https://localhost:8080/",
          "height": 424
        },
        "id": "iclu0gf5S2Cr",
        "outputId": "0914f64b-4ee9-47a7-d802-8c6a910009ce"
      },
      "source": [
        "dummy_target = pd.get_dummies(target)\n",
        "dummy_target"
      ],
      "execution_count": null,
      "outputs": [
        {
          "output_type": "execute_result",
          "data": {
            "text/html": [
              "<div>\n",
              "<style scoped>\n",
              "    .dataframe tbody tr th:only-of-type {\n",
              "        vertical-align: middle;\n",
              "    }\n",
              "\n",
              "    .dataframe tbody tr th {\n",
              "        vertical-align: top;\n",
              "    }\n",
              "\n",
              "    .dataframe thead th {\n",
              "        text-align: right;\n",
              "    }\n",
              "</style>\n",
              "<table border=\"1\" class=\"dataframe\">\n",
              "  <thead>\n",
              "    <tr style=\"text-align: right;\">\n",
              "      <th></th>\n",
              "      <th>negative</th>\n",
              "      <th>positive</th>\n",
              "    </tr>\n",
              "  </thead>\n",
              "  <tbody>\n",
              "    <tr>\n",
              "      <th>0</th>\n",
              "      <td>1</td>\n",
              "      <td>0</td>\n",
              "    </tr>\n",
              "    <tr>\n",
              "      <th>1</th>\n",
              "      <td>0</td>\n",
              "      <td>1</td>\n",
              "    </tr>\n",
              "    <tr>\n",
              "      <th>2</th>\n",
              "      <td>0</td>\n",
              "      <td>1</td>\n",
              "    </tr>\n",
              "    <tr>\n",
              "      <th>3</th>\n",
              "      <td>0</td>\n",
              "      <td>1</td>\n",
              "    </tr>\n",
              "    <tr>\n",
              "      <th>4</th>\n",
              "      <td>1</td>\n",
              "      <td>0</td>\n",
              "    </tr>\n",
              "    <tr>\n",
              "      <th>...</th>\n",
              "      <td>...</td>\n",
              "      <td>...</td>\n",
              "    </tr>\n",
              "    <tr>\n",
              "      <th>69995</th>\n",
              "      <td>1</td>\n",
              "      <td>0</td>\n",
              "    </tr>\n",
              "    <tr>\n",
              "      <th>69996</th>\n",
              "      <td>0</td>\n",
              "      <td>1</td>\n",
              "    </tr>\n",
              "    <tr>\n",
              "      <th>69997</th>\n",
              "      <td>0</td>\n",
              "      <td>1</td>\n",
              "    </tr>\n",
              "    <tr>\n",
              "      <th>69998</th>\n",
              "      <td>0</td>\n",
              "      <td>1</td>\n",
              "    </tr>\n",
              "    <tr>\n",
              "      <th>69999</th>\n",
              "      <td>1</td>\n",
              "      <td>0</td>\n",
              "    </tr>\n",
              "  </tbody>\n",
              "</table>\n",
              "<p>70000 rows × 2 columns</p>\n",
              "</div>"
            ],
            "text/plain": [
              "       negative  positive\n",
              "0             1         0\n",
              "1             0         1\n",
              "2             0         1\n",
              "3             0         1\n",
              "4             1         0\n",
              "...         ...       ...\n",
              "69995         1         0\n",
              "69996         0         1\n",
              "69997         0         1\n",
              "69998         0         1\n",
              "69999         1         0\n",
              "\n",
              "[70000 rows x 2 columns]"
            ]
          },
          "metadata": {
            "tags": []
          },
          "execution_count": 51
        }
      ]
    },
    {
      "cell_type": "code",
      "metadata": {
        "colab": {
          "base_uri": "https://localhost:8080/"
        },
        "id": "qtjOhGsqTBA3",
        "outputId": "c325f21d-0712-473d-f018-f9359b6d264b"
      },
      "source": [
        "dummy_target.values"
      ],
      "execution_count": null,
      "outputs": [
        {
          "output_type": "execute_result",
          "data": {
            "text/plain": [
              "array([[1, 0],\n",
              "       [0, 1],\n",
              "       [0, 1],\n",
              "       ...,\n",
              "       [0, 1],\n",
              "       [0, 1],\n",
              "       [1, 0]], dtype=uint8)"
            ]
          },
          "metadata": {
            "tags": []
          },
          "execution_count": 58
        }
      ]
    },
    {
      "cell_type": "markdown",
      "metadata": {
        "id": "NmD51JkEdflV"
      },
      "source": [
        "#### features processing\n",
        "\n",
        "- correlation\n",
        "- normalization\n",
        "- standardization\n",
        "\n",
        "\n",
        "![image.png](data:image/png;base64,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)\n",
        "\n",
        "\n",
        "<img width=\"100%\" src=\"https://qph.fs.quoracdn.net/main-qimg-08e4231c9506c617e9fb5e60c8f296d3\">"
      ]
    },
    {
      "cell_type": "markdown",
      "metadata": {
        "id": "JhlF-s5NpD-W"
      },
      "source": [
        "##### features correlation\n",
        "<br>\n",
        "<img width=\"100%\" src=\"https://www.mathsisfun.com/data/images/correlation-examples.svg\">\n",
        "<br><br><br>\n",
        "<img width=\"100%\" src=\"https://upload.wikimedia.org/wikipedia/commons/thumb/d/d4/Correlation_examples2.svg/1200px-Correlation_examples2.svg.png\">"
      ]
    },
    {
      "cell_type": "code",
      "metadata": {
        "id": "gzxRbq3It5q7"
      },
      "source": [
        "df.corr()"
      ],
      "execution_count": null,
      "outputs": []
    },
    {
      "cell_type": "code",
      "metadata": {
        "id": "DHWBIGEet5q5"
      },
      "source": [
        "df[['age', 'gender', 'weight']].corr()"
      ],
      "execution_count": null,
      "outputs": []
    },
    {
      "cell_type": "code",
      "metadata": {
        "id": "ibRFIOa6XE2D"
      },
      "source": [
        "df[[\"gluc\", \"smoke\", \"alco\"]].corr()"
      ],
      "execution_count": null,
      "outputs": []
    },
    {
      "cell_type": "markdown",
      "metadata": {
        "id": "wX_7XaDhpQpi"
      },
      "source": [
        "##### features standardization\n",
        "\n",
        "skew problem\n",
        "\n",
        "<img width=\"100%\" src=\"https://miro.medium.com/max/1172/1*ERA6haT0PzzYtV2Xi_cjaA.png\">\n",
        "<img width=\"30%\" src=\"https://www.mathsisfun.com/data/images/skewed-distribution.svg\">\n",
        "<img width=\"30%\" src=\"data:image/png;base64,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\">\n",
        "<img width=\"30%\" src=\"data:image/png;base64,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\">\n",
        "\n",
        "<img width=\"75%\" src=\"https://miro.medium.com/max/381/1*KrYzFzhLBjiQ89OvDld8Tw.png\">"
      ]
    },
    {
      "cell_type": "code",
      "metadata": {
        "colab": {
          "base_uri": "https://localhost:8080/"
        },
        "id": "61Tsk0nnn4Xl",
        "outputId": "192d1178-f929-4a71-bc93-f48ca18f0102"
      },
      "source": [
        "df.pop('id')"
      ],
      "execution_count": null,
      "outputs": [
        {
          "output_type": "execute_result",
          "data": {
            "text/plain": [
              "0            0\n",
              "1            1\n",
              "2            2\n",
              "3            3\n",
              "4            4\n",
              "         ...  \n",
              "69995    99993\n",
              "69996    99995\n",
              "69997    99996\n",
              "69998    99998\n",
              "69999    99999\n",
              "Name: id, Length: 70000, dtype: int64"
            ]
          },
          "metadata": {
            "tags": []
          },
          "execution_count": 62
        }
      ]
    },
    {
      "cell_type": "code",
      "metadata": {
        "colab": {
          "base_uri": "https://localhost:8080/",
          "height": 424
        },
        "id": "RPewsV6Qne8s",
        "outputId": "e9048e0c-6c1c-4a8b-a0b0-b293d02f045c"
      },
      "source": [
        "stand_df = (df - df.mean())/df.std()\n",
        "stand_df"
      ],
      "execution_count": null,
      "outputs": [
        {
          "output_type": "execute_result",
          "data": {
            "text/html": [
              "<div>\n",
              "<style scoped>\n",
              "    .dataframe tbody tr th:only-of-type {\n",
              "        vertical-align: middle;\n",
              "    }\n",
              "\n",
              "    .dataframe tbody tr th {\n",
              "        vertical-align: top;\n",
              "    }\n",
              "\n",
              "    .dataframe thead th {\n",
              "        text-align: right;\n",
              "    }\n",
              "</style>\n",
              "<table border=\"1\" class=\"dataframe\">\n",
              "  <thead>\n",
              "    <tr style=\"text-align: right;\">\n",
              "      <th></th>\n",
              "      <th>age</th>\n",
              "      <th>gender</th>\n",
              "      <th>height</th>\n",
              "      <th>weight</th>\n",
              "      <th>ap_hi</th>\n",
              "      <th>ap_lo</th>\n",
              "      <th>cholesterol</th>\n",
              "      <th>gluc</th>\n",
              "      <th>smoke</th>\n",
              "      <th>alco</th>\n",
              "      <th>active</th>\n",
              "    </tr>\n",
              "  </thead>\n",
              "  <tbody>\n",
              "    <tr>\n",
              "      <th>0</th>\n",
              "      <td>-0.436058</td>\n",
              "      <td>1.364045</td>\n",
              "      <td>0.443449</td>\n",
              "      <td>-0.847867</td>\n",
              "      <td>-0.122181</td>\n",
              "      <td>-0.088238</td>\n",
              "      <td>-0.539318</td>\n",
              "      <td>-0.395717</td>\n",
              "      <td>-0.310877</td>\n",
              "      <td>-0.238383</td>\n",
              "      <td>0.494164</td>\n",
              "    </tr>\n",
              "    <tr>\n",
              "      <th>1</th>\n",
              "      <td>0.307684</td>\n",
              "      <td>-0.733103</td>\n",
              "      <td>-1.018161</td>\n",
              "      <td>0.749826</td>\n",
              "      <td>0.072610</td>\n",
              "      <td>-0.035180</td>\n",
              "      <td>2.400776</td>\n",
              "      <td>-0.395717</td>\n",
              "      <td>-0.310877</td>\n",
              "      <td>-0.238383</td>\n",
              "      <td>0.494164</td>\n",
              "    </tr>\n",
              "    <tr>\n",
              "      <th>2</th>\n",
              "      <td>-0.247995</td>\n",
              "      <td>-0.733103</td>\n",
              "      <td>0.078046</td>\n",
              "      <td>-0.708937</td>\n",
              "      <td>0.007679</td>\n",
              "      <td>-0.141296</td>\n",
              "      <td>2.400776</td>\n",
              "      <td>-0.395717</td>\n",
              "      <td>-0.310877</td>\n",
              "      <td>-0.238383</td>\n",
              "      <td>-2.023592</td>\n",
              "    </tr>\n",
              "    <tr>\n",
              "      <th>3</th>\n",
              "      <td>-0.748147</td>\n",
              "      <td>1.364045</td>\n",
              "      <td>0.565250</td>\n",
              "      <td>0.541431</td>\n",
              "      <td>0.137540</td>\n",
              "      <td>0.017878</td>\n",
              "      <td>-0.539318</td>\n",
              "      <td>-0.395717</td>\n",
              "      <td>-0.310877</td>\n",
              "      <td>-0.238383</td>\n",
              "      <td>0.494164</td>\n",
              "    </tr>\n",
              "    <tr>\n",
              "      <th>4</th>\n",
              "      <td>-0.808538</td>\n",
              "      <td>-0.733103</td>\n",
              "      <td>-1.018161</td>\n",
              "      <td>-1.264657</td>\n",
              "      <td>-0.187111</td>\n",
              "      <td>-0.194354</td>\n",
              "      <td>-0.539318</td>\n",
              "      <td>-0.395717</td>\n",
              "      <td>-0.310877</td>\n",
              "      <td>-0.238383</td>\n",
              "      <td>-2.023592</td>\n",
              "    </tr>\n",
              "    <tr>\n",
              "      <th>...</th>\n",
              "      <td>...</td>\n",
              "      <td>...</td>\n",
              "      <td>...</td>\n",
              "      <td>...</td>\n",
              "      <td>...</td>\n",
              "      <td>...</td>\n",
              "      <td>...</td>\n",
              "      <td>...</td>\n",
              "      <td>...</td>\n",
              "      <td>...</td>\n",
              "      <td>...</td>\n",
              "    </tr>\n",
              "    <tr>\n",
              "      <th>69995</th>\n",
              "      <td>-0.092761</td>\n",
              "      <td>1.364045</td>\n",
              "      <td>0.443449</td>\n",
              "      <td>0.124642</td>\n",
              "      <td>-0.057251</td>\n",
              "      <td>-0.088238</td>\n",
              "      <td>-0.539318</td>\n",
              "      <td>-0.395717</td>\n",
              "      <td>3.216661</td>\n",
              "      <td>-0.238383</td>\n",
              "      <td>0.494164</td>\n",
              "    </tr>\n",
              "    <tr>\n",
              "      <th>69996</th>\n",
              "      <td>1.269483</td>\n",
              "      <td>-0.733103</td>\n",
              "      <td>-0.774559</td>\n",
              "      <td>3.597887</td>\n",
              "      <td>0.072610</td>\n",
              "      <td>-0.035180</td>\n",
              "      <td>0.930729</td>\n",
              "      <td>1.351709</td>\n",
              "      <td>-0.310877</td>\n",
              "      <td>-0.238383</td>\n",
              "      <td>0.494164</td>\n",
              "    </tr>\n",
              "    <tr>\n",
              "      <th>69997</th>\n",
              "      <td>-0.163285</td>\n",
              "      <td>1.364045</td>\n",
              "      <td>2.270461</td>\n",
              "      <td>2.139124</td>\n",
              "      <td>0.332331</td>\n",
              "      <td>-0.035180</td>\n",
              "      <td>2.400776</td>\n",
              "      <td>-0.395717</td>\n",
              "      <td>-0.310877</td>\n",
              "      <td>4.194876</td>\n",
              "      <td>-2.023592</td>\n",
              "    </tr>\n",
              "    <tr>\n",
              "      <th>69998</th>\n",
              "      <td>1.200580</td>\n",
              "      <td>-0.733103</td>\n",
              "      <td>-0.165555</td>\n",
              "      <td>-0.153218</td>\n",
              "      <td>0.040145</td>\n",
              "      <td>-0.088238</td>\n",
              "      <td>-0.539318</td>\n",
              "      <td>1.351709</td>\n",
              "      <td>-0.310877</td>\n",
              "      <td>-0.238383</td>\n",
              "      <td>-2.023592</td>\n",
              "    </tr>\n",
              "    <tr>\n",
              "      <th>69999</th>\n",
              "      <td>0.434141</td>\n",
              "      <td>-0.733103</td>\n",
              "      <td>0.687051</td>\n",
              "      <td>-0.153218</td>\n",
              "      <td>-0.057251</td>\n",
              "      <td>-0.088238</td>\n",
              "      <td>0.930729</td>\n",
              "      <td>-0.395717</td>\n",
              "      <td>-0.310877</td>\n",
              "      <td>-0.238383</td>\n",
              "      <td>0.494164</td>\n",
              "    </tr>\n",
              "  </tbody>\n",
              "</table>\n",
              "<p>70000 rows × 11 columns</p>\n",
              "</div>"
            ],
            "text/plain": [
              "            age    gender    height  ...     smoke      alco    active\n",
              "0     -0.436058  1.364045  0.443449  ... -0.310877 -0.238383  0.494164\n",
              "1      0.307684 -0.733103 -1.018161  ... -0.310877 -0.238383  0.494164\n",
              "2     -0.247995 -0.733103  0.078046  ... -0.310877 -0.238383 -2.023592\n",
              "3     -0.748147  1.364045  0.565250  ... -0.310877 -0.238383  0.494164\n",
              "4     -0.808538 -0.733103 -1.018161  ... -0.310877 -0.238383 -2.023592\n",
              "...         ...       ...       ...  ...       ...       ...       ...\n",
              "69995 -0.092761  1.364045  0.443449  ...  3.216661 -0.238383  0.494164\n",
              "69996  1.269483 -0.733103 -0.774559  ... -0.310877 -0.238383  0.494164\n",
              "69997 -0.163285  1.364045  2.270461  ... -0.310877  4.194876 -2.023592\n",
              "69998  1.200580 -0.733103 -0.165555  ... -0.310877 -0.238383 -2.023592\n",
              "69999  0.434141 -0.733103  0.687051  ... -0.310877 -0.238383  0.494164\n",
              "\n",
              "[70000 rows x 11 columns]"
            ]
          },
          "metadata": {
            "tags": []
          },
          "execution_count": 63
        }
      ]
    },
    {
      "cell_type": "markdown",
      "metadata": {
        "id": "Ld7_mr4_piS8"
      },
      "source": [
        "##### features normalization\n",
        "\n",
        "<img width=\"35%\" src=\"data:image/png;base64,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\">\n",
        "<img width=\"60%\" src=\"data:image/png;base64,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\">"
      ]
    },
    {
      "cell_type": "code",
      "metadata": {
        "colab": {
          "base_uri": "https://localhost:8080/",
          "height": 424
        },
        "id": "HCpmuMw6oUJM",
        "outputId": "f1d57ea5-1880-4fb6-a1a9-fbe58d839002"
      },
      "source": [
        "normed_df = (stand_df - stand_df.min()) / (stand_df.max() - stand_df.min())\n",
        "normed_df"
      ],
      "execution_count": null,
      "outputs": [
        {
          "output_type": "execute_result",
          "data": {
            "text/html": [
              "<div>\n",
              "<style scoped>\n",
              "    .dataframe tbody tr th:only-of-type {\n",
              "        vertical-align: middle;\n",
              "    }\n",
              "\n",
              "    .dataframe tbody tr th {\n",
              "        vertical-align: top;\n",
              "    }\n",
              "\n",
              "    .dataframe thead th {\n",
              "        text-align: right;\n",
              "    }\n",
              "</style>\n",
              "<table border=\"1\" class=\"dataframe\">\n",
              "  <thead>\n",
              "    <tr style=\"text-align: right;\">\n",
              "      <th></th>\n",
              "      <th>age</th>\n",
              "      <th>gender</th>\n",
              "      <th>height</th>\n",
              "      <th>weight</th>\n",
              "      <th>ap_hi</th>\n",
              "      <th>ap_lo</th>\n",
              "      <th>cholesterol</th>\n",
              "      <th>gluc</th>\n",
              "      <th>smoke</th>\n",
              "      <th>alco</th>\n",
              "      <th>active</th>\n",
              "    </tr>\n",
              "  </thead>\n",
              "  <tbody>\n",
              "    <tr>\n",
              "      <th>0</th>\n",
              "      <td>0.588076</td>\n",
              "      <td>1.0</td>\n",
              "      <td>0.579487</td>\n",
              "      <td>0.273684</td>\n",
              "      <td>0.016079</td>\n",
              "      <td>0.013550</td>\n",
              "      <td>0.0</td>\n",
              "      <td>0.0</td>\n",
              "      <td>0.0</td>\n",
              "      <td>0.0</td>\n",
              "      <td>1.0</td>\n",
              "    </tr>\n",
              "    <tr>\n",
              "      <th>1</th>\n",
              "      <td>0.730159</td>\n",
              "      <td>0.0</td>\n",
              "      <td>0.517949</td>\n",
              "      <td>0.394737</td>\n",
              "      <td>0.017934</td>\n",
              "      <td>0.014453</td>\n",
              "      <td>1.0</td>\n",
              "      <td>0.0</td>\n",
              "      <td>0.0</td>\n",
              "      <td>0.0</td>\n",
              "      <td>1.0</td>\n",
              "    </tr>\n",
              "    <tr>\n",
              "      <th>2</th>\n",
              "      <td>0.624003</td>\n",
              "      <td>0.0</td>\n",
              "      <td>0.564103</td>\n",
              "      <td>0.284211</td>\n",
              "      <td>0.017316</td>\n",
              "      <td>0.012647</td>\n",
              "      <td>1.0</td>\n",
              "      <td>0.0</td>\n",
              "      <td>0.0</td>\n",
              "      <td>0.0</td>\n",
              "      <td>0.0</td>\n",
              "    </tr>\n",
              "    <tr>\n",
              "      <th>3</th>\n",
              "      <td>0.528455</td>\n",
              "      <td>1.0</td>\n",
              "      <td>0.584615</td>\n",
              "      <td>0.378947</td>\n",
              "      <td>0.018553</td>\n",
              "      <td>0.015357</td>\n",
              "      <td>0.0</td>\n",
              "      <td>0.0</td>\n",
              "      <td>0.0</td>\n",
              "      <td>0.0</td>\n",
              "      <td>1.0</td>\n",
              "    </tr>\n",
              "    <tr>\n",
              "      <th>4</th>\n",
              "      <td>0.516918</td>\n",
              "      <td>0.0</td>\n",
              "      <td>0.517949</td>\n",
              "      <td>0.242105</td>\n",
              "      <td>0.015461</td>\n",
              "      <td>0.011743</td>\n",
              "      <td>0.0</td>\n",
              "      <td>0.0</td>\n",
              "      <td>0.0</td>\n",
              "      <td>0.0</td>\n",
              "      <td>0.0</td>\n",
              "    </tr>\n",
              "    <tr>\n",
              "      <th>...</th>\n",
              "      <td>...</td>\n",
              "      <td>...</td>\n",
              "      <td>...</td>\n",
              "      <td>...</td>\n",
              "      <td>...</td>\n",
              "      <td>...</td>\n",
              "      <td>...</td>\n",
              "      <td>...</td>\n",
              "      <td>...</td>\n",
              "      <td>...</td>\n",
              "      <td>...</td>\n",
              "    </tr>\n",
              "    <tr>\n",
              "      <th>69995</th>\n",
              "      <td>0.653659</td>\n",
              "      <td>1.0</td>\n",
              "      <td>0.579487</td>\n",
              "      <td>0.347368</td>\n",
              "      <td>0.016698</td>\n",
              "      <td>0.013550</td>\n",
              "      <td>0.0</td>\n",
              "      <td>0.0</td>\n",
              "      <td>1.0</td>\n",
              "      <td>0.0</td>\n",
              "      <td>1.0</td>\n",
              "    </tr>\n",
              "    <tr>\n",
              "      <th>69996</th>\n",
              "      <td>0.913899</td>\n",
              "      <td>0.0</td>\n",
              "      <td>0.528205</td>\n",
              "      <td>0.610526</td>\n",
              "      <td>0.017934</td>\n",
              "      <td>0.014453</td>\n",
              "      <td>0.5</td>\n",
              "      <td>0.5</td>\n",
              "      <td>0.0</td>\n",
              "      <td>0.0</td>\n",
              "      <td>1.0</td>\n",
              "    </tr>\n",
              "    <tr>\n",
              "      <th>69997</th>\n",
              "      <td>0.640186</td>\n",
              "      <td>1.0</td>\n",
              "      <td>0.656410</td>\n",
              "      <td>0.500000</td>\n",
              "      <td>0.020408</td>\n",
              "      <td>0.014453</td>\n",
              "      <td>1.0</td>\n",
              "      <td>0.0</td>\n",
              "      <td>0.0</td>\n",
              "      <td>1.0</td>\n",
              "      <td>0.0</td>\n",
              "    </tr>\n",
              "    <tr>\n",
              "      <th>69998</th>\n",
              "      <td>0.900736</td>\n",
              "      <td>0.0</td>\n",
              "      <td>0.553846</td>\n",
              "      <td>0.326316</td>\n",
              "      <td>0.017625</td>\n",
              "      <td>0.013550</td>\n",
              "      <td>0.0</td>\n",
              "      <td>0.5</td>\n",
              "      <td>0.0</td>\n",
              "      <td>0.0</td>\n",
              "      <td>0.0</td>\n",
              "    </tr>\n",
              "    <tr>\n",
              "      <th>69999</th>\n",
              "      <td>0.754317</td>\n",
              "      <td>0.0</td>\n",
              "      <td>0.589744</td>\n",
              "      <td>0.326316</td>\n",
              "      <td>0.016698</td>\n",
              "      <td>0.013550</td>\n",
              "      <td>0.5</td>\n",
              "      <td>0.0</td>\n",
              "      <td>0.0</td>\n",
              "      <td>0.0</td>\n",
              "      <td>1.0</td>\n",
              "    </tr>\n",
              "  </tbody>\n",
              "</table>\n",
              "<p>70000 rows × 11 columns</p>\n",
              "</div>"
            ],
            "text/plain": [
              "            age  gender    height    weight  ...  gluc  smoke  alco  active\n",
              "0      0.588076     1.0  0.579487  0.273684  ...   0.0    0.0   0.0     1.0\n",
              "1      0.730159     0.0  0.517949  0.394737  ...   0.0    0.0   0.0     1.0\n",
              "2      0.624003     0.0  0.564103  0.284211  ...   0.0    0.0   0.0     0.0\n",
              "3      0.528455     1.0  0.584615  0.378947  ...   0.0    0.0   0.0     1.0\n",
              "4      0.516918     0.0  0.517949  0.242105  ...   0.0    0.0   0.0     0.0\n",
              "...         ...     ...       ...       ...  ...   ...    ...   ...     ...\n",
              "69995  0.653659     1.0  0.579487  0.347368  ...   0.0    1.0   0.0     1.0\n",
              "69996  0.913899     0.0  0.528205  0.610526  ...   0.5    0.0   0.0     1.0\n",
              "69997  0.640186     1.0  0.656410  0.500000  ...   0.0    0.0   1.0     0.0\n",
              "69998  0.900736     0.0  0.553846  0.326316  ...   0.5    0.0   0.0     0.0\n",
              "69999  0.754317     0.0  0.589744  0.326316  ...   0.0    0.0   0.0     1.0\n",
              "\n",
              "[70000 rows x 11 columns]"
            ]
          },
          "metadata": {
            "tags": []
          },
          "execution_count": 65
        }
      ]
    },
    {
      "cell_type": "code",
      "metadata": {
        "colab": {
          "base_uri": "https://localhost:8080/"
        },
        "id": "XYoB1eyC6ggP",
        "outputId": "dbcb4aa3-b8d9-47dd-a335-0d22960ba9cd"
      },
      "source": [
        "normed_df.values"
      ],
      "execution_count": null,
      "outputs": [
        {
          "output_type": "execute_result",
          "data": {
            "text/plain": [
              "array([[0.58807588, 1.        , 0.57948718, ..., 0.        , 0.        ,\n",
              "        1.        ],\n",
              "       [0.73015873, 0.        , 0.51794872, ..., 0.        , 0.        ,\n",
              "        1.        ],\n",
              "       [0.6240031 , 0.        , 0.56410256, ..., 0.        , 0.        ,\n",
              "        0.        ],\n",
              "       ...,\n",
              "       [0.64018583, 1.        , 0.65641026, ..., 0.        , 1.        ,\n",
              "        0.        ],\n",
              "       [0.90073558, 0.        , 0.55384615, ..., 0.        , 0.        ,\n",
              "        0.        ],\n",
              "       [0.75431669, 0.        , 0.58974359, ..., 0.        , 0.        ,\n",
              "        1.        ]])"
            ]
          },
          "metadata": {
            "tags": []
          },
          "execution_count": 67
        }
      ]
    },
    {
      "cell_type": "markdown",
      "metadata": {
        "id": "fveF0xQKemQ3"
      },
      "source": [
        "## Excercise\n",
        "using the heart disease dataset:\n",
        "\n",
        "- load the dataset csv file into a pandas dataframe   \n",
        "- split the following columns {age, gender, height, width, cholesterol, smoke} into a seprate dataframe     \n",
        "- split the cardio column into a seprate data series and convert it to dummy variable dataframe\n",
        "- preprocess the features by applying standarization and normalization\n",
        "- preprocess the target by applying one hot encoding\n",
        "\n"
      ]
    },
    {
      "cell_type": "code",
      "metadata": {
        "id": "Bku15HvCeqJy"
      },
      "source": [
        "dlink = \"https://raw.githubusercontent.com/caravanuden/cardio/master/cardio_train.csv\"\n",
        "\n",
        "\n",
        "#########################################\n",
        "######### write your code here ##########\n",
        "#########################################\n",
        "\n",
        "\n",
        "\n"
      ],
      "execution_count": null,
      "outputs": []
    }
  ]
}